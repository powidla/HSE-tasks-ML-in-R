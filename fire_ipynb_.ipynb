{
  "nbformat": 4,
  "nbformat_minor": 0,
  "metadata": {
    "colab": {
      "provenance": [],
      "include_colab_link": true
    },
    "kernelspec": {
      "name": "ir",
      "display_name": "R"
    },
    "language_info": {
      "name": "R"
    }
  },
  "cells": [
    {
      "cell_type": "markdown",
      "metadata": {
        "id": "view-in-github",
        "colab_type": "text"
      },
      "source": [
        "<a href=\"https://colab.research.google.com/github/powidla/HSE-tasks-ML-in-R/blob/main/fire_ipynb_.ipynb\" target=\"_parent\"><img src=\"https://colab.research.google.com/assets/colab-badge.svg\" alt=\"Open In Colab\"/></a>"
      ]
    },
    {
      "cell_type": "code",
      "source": [
        "library(crayon, quietly=T); # load first to avoid error relating to unloading this package\n",
        "install.packages(\"nnet\", quiet=T)      # 3 sec. multinomial logistic regression: multinom()\n",
        "install.packages(\"MASS\", quiet=T)      # 9 sec. binary logistic regression:  glm(..., family=binomial);   LDA/QDA: lda(), qda()\n",
        "install.packages(\"tidyverse\", quiet=T) # 7 sec.\n",
        "install.packages(\"glmnet\", quiet=T)    # 1 min. multinomial logistic regression: glmnet(..., family=multinomial).\n",
        "install.packages(\"FNN\", quiet=T)       # KNN Regression. Docs: https://cran.r-project.org/web/packages/FNN/FNN.pdf\n",
        "install.packages('reshape2', quiet=T)  # has an easy melt() function (vs gather, stack, reshape)\n",
        "devtools::install_github(\"mkearney/kaggler\", quiet=T) # https://github.com/mkearney/kaggler\n",
        "library(httr, quietly=T); library(stringr, quietly=T); library(glmnet, quietly=T); library(nnet, quietly=T); library(MASS, quietly=T); \n",
        "library(tidyverse, quietly=T); library(reshape2, quietly=T); library(RColorBrewer, quietly=T);\n",
        "options(repr.plot.width=20, repr.plot.height=8)   # change plot size"
      ],
      "metadata": {
        "id": "Sr-gzxNttJFh",
        "colab": {
          "base_uri": "https://localhost:8080/"
        },
        "outputId": "3935f5eb-2642-4f56-b3fb-2e537f9988b4"
      },
      "execution_count": 1,
      "outputs": [
        {
          "output_type": "stream",
          "name": "stderr",
          "text": [
            "also installing the dependencies ‘iterators’, ‘foreach’, ‘shape’, ‘Rcpp’, ‘RcppEigen’\n",
            "\n",
            "\n",
            "also installing the dependency ‘plyr’\n",
            "\n",
            "\n",
            "Installing 2 packages: openssl, jsonlite\n",
            "\n",
            "Loaded glmnet 4.1-6\n",
            "\n",
            "Warning message in system(\"timedatectl\", intern = TRUE):\n",
            "“running command 'timedatectl' had status 1”\n",
            "── \u001b[1mAttaching packages\u001b[22m ─────────────────────────────────────── tidyverse 1.3.2 ──\n",
            "\u001b[32m✔\u001b[39m \u001b[34mggplot2\u001b[39m 3.4.1     \u001b[32m✔\u001b[39m \u001b[34mpurrr  \u001b[39m 1.0.1\n",
            "\u001b[32m✔\u001b[39m \u001b[34mtibble \u001b[39m 3.1.8     \u001b[32m✔\u001b[39m \u001b[34mdplyr  \u001b[39m 1.1.0\n",
            "\u001b[32m✔\u001b[39m \u001b[34mtidyr  \u001b[39m 1.3.0     \u001b[32m✔\u001b[39m \u001b[34mforcats\u001b[39m 1.0.0\n",
            "\u001b[32m✔\u001b[39m \u001b[34mreadr  \u001b[39m 2.1.4     \n",
            "── \u001b[1mConflicts\u001b[22m ────────────────────────────────────────── tidyverse_conflicts() ──\n",
            "\u001b[31m✖\u001b[39m \u001b[34mggplot2\u001b[39m::\u001b[32m%+%()\u001b[39m  masks \u001b[34mcrayon\u001b[39m::%+%()\n",
            "\u001b[31m✖\u001b[39m \u001b[34mtidyr\u001b[39m::\u001b[32mexpand()\u001b[39m masks \u001b[34mMatrix\u001b[39m::expand()\n",
            "\u001b[31m✖\u001b[39m \u001b[34mdplyr\u001b[39m::\u001b[32mfilter()\u001b[39m masks \u001b[34mstats\u001b[39m::filter()\n",
            "\u001b[31m✖\u001b[39m \u001b[34mdplyr\u001b[39m::\u001b[32mlag()\u001b[39m    masks \u001b[34mstats\u001b[39m::lag()\n",
            "\u001b[31m✖\u001b[39m \u001b[34mtidyr\u001b[39m::\u001b[32mpack()\u001b[39m   masks \u001b[34mMatrix\u001b[39m::pack()\n",
            "\u001b[31m✖\u001b[39m \u001b[34mdplyr\u001b[39m::\u001b[32mselect()\u001b[39m masks \u001b[34mMASS\u001b[39m::select()\n",
            "\u001b[31m✖\u001b[39m \u001b[34mtidyr\u001b[39m::\u001b[32munpack()\u001b[39m masks \u001b[34mMatrix\u001b[39m::unpack()\n",
            "\n",
            "Attaching package: ‘reshape2’\n",
            "\n",
            "\n",
            "The following object is masked from ‘package:tidyr’:\n",
            "\n",
            "    smiths\n",
            "\n",
            "\n"
          ]
        }
      ]
    },
    {
      "cell_type": "code",
      "execution_count": 3,
      "metadata": {
        "id": "pcYjgu6TFSNU"
      },
      "outputs": [],
      "source": [
        "Competition = '6feb23shop'\n",
        "FileCSV = 'XY_Shop.csv'\n",
        "FileZip = 'XY_Shop.zip'\n",
        "# # capture.output( kaggler::kgl_auth(creds_file='kaggle.json'), file='log_auth.txt')     # log is deleted when session ends\n",
        "# url = paste0('https://www.kaggle.com/api/v1/competitions/data/download/', Competition,'/', FileCSV)\n",
        "# FileURL = httr::GET(url, kaggler::kgl_auth())$url   # extract full path to zipped data file\n",
        "# download.file(FileURL, FileZip, quiet=T, mode=\"wb\") # download zipped data file\n",
        "# system(paste0('unzip ', FileZip), intern=T)         # oddly unzip() fails to properly unzip\n",
        "# kaggler::kgl_competitions_leaderboard_view(Competition)\n",
        "# timeLimit = 2*60  # seconds"
      ]
    },
    {
      "cell_type": "code",
      "source": [
        "XY = read.csv(FileCSV, na.strings=\"\", stringsAsFactors=T)  # replace \"\" with NA\n",
        "YCol = 'Rev'       # target column\n",
        "NumericCols =  unlist(lapply(XY, is.numeric))   # find numeric columns\n",
        "vX = XY[is.na(XY[YCol]), !(names(XY) %in% c(YCol))]  # testing inputs only\n",
        "tXY = XY[!is.na(XY[YCol]), ]  # training inputs with output\n",
        "tY = tXY[YCol]                # training response\n",
        "tX = tXY[,1:(ncol(tXY)-1)]\n",
        "tail(vX, 2)  # a few rows from the test set\n",
        "tail(tX, 20)  # a few rows from the train set\n",
        "tail(tXY, 2) # a few rows from the training set"
      ],
      "metadata": {
        "colab": {
          "base_uri": "https://localhost:8080/",
          "height": 1000
        },
        "id": "XFKiXDmLLO45",
        "outputId": "6f33e4d8-2948-4ad6-9ca1-e53d44d2505b"
      },
      "execution_count": 4,
      "outputs": [
        {
          "output_type": "display_data",
          "data": {
            "text/html": [
              "<table class=\"dataframe\">\n",
              "<caption>A data.frame: 2 × 17</caption>\n",
              "<thead>\n",
              "\t<tr><th></th><th scope=col>Adm</th><th scope=col>AdmDur</th><th scope=col>Inf.</th><th scope=col>InfDur</th><th scope=col>Prd</th><th scope=col>PrdDur</th><th scope=col>BncRt</th><th scope=col>ExtRt</th><th scope=col>PgVal</th><th scope=col>SpclDay</th><th scope=col>Mo</th><th scope=col>OS</th><th scope=col>Bsr</th><th scope=col>Rgn</th><th scope=col>TfcTp</th><th scope=col>VstTp</th><th scope=col>Wkd</th></tr>\n",
              "\t<tr><th></th><th scope=col>&lt;int&gt;</th><th scope=col>&lt;dbl&gt;</th><th scope=col>&lt;int&gt;</th><th scope=col>&lt;dbl&gt;</th><th scope=col>&lt;int&gt;</th><th scope=col>&lt;dbl&gt;</th><th scope=col>&lt;dbl&gt;</th><th scope=col>&lt;dbl&gt;</th><th scope=col>&lt;dbl&gt;</th><th scope=col>&lt;dbl&gt;</th><th scope=col>&lt;int&gt;</th><th scope=col>&lt;int&gt;</th><th scope=col>&lt;int&gt;</th><th scope=col>&lt;int&gt;</th><th scope=col>&lt;int&gt;</th><th scope=col>&lt;int&gt;</th><th scope=col>&lt;int&gt;</th></tr>\n",
              "</thead>\n",
              "<tbody>\n",
              "\t<tr><th scope=row>49999</th><td>4</td><td>357.05</td><td>0</td><td>0</td><td>27</td><td>1278.00</td><td>0.00000</td><td>0.006812</td><td>14.53818</td><td>0</td><td>11</td><td>2</td><td>2</td><td>5</td><td>2</td><td>0</td><td>0</td></tr>\n",
              "\t<tr><th scope=row>50000</th><td>0</td><td>  0.00</td><td>0</td><td>0</td><td>26</td><td>1646.42</td><td>0.00755</td><td>0.032493</td><td> 0.00000</td><td>0</td><td> 2</td><td>2</td><td>2</td><td>4</td><td>3</td><td>0</td><td>1</td></tr>\n",
              "</tbody>\n",
              "</table>\n"
            ],
            "text/markdown": "\nA data.frame: 2 × 17\n\n| <!--/--> | Adm &lt;int&gt; | AdmDur &lt;dbl&gt; | Inf. &lt;int&gt; | InfDur &lt;dbl&gt; | Prd &lt;int&gt; | PrdDur &lt;dbl&gt; | BncRt &lt;dbl&gt; | ExtRt &lt;dbl&gt; | PgVal &lt;dbl&gt; | SpclDay &lt;dbl&gt; | Mo &lt;int&gt; | OS &lt;int&gt; | Bsr &lt;int&gt; | Rgn &lt;int&gt; | TfcTp &lt;int&gt; | VstTp &lt;int&gt; | Wkd &lt;int&gt; |\n|---|---|---|---|---|---|---|---|---|---|---|---|---|---|---|---|---|---|\n| 49999 | 4 | 357.05 | 0 | 0 | 27 | 1278.00 | 0.00000 | 0.006812 | 14.53818 | 0 | 11 | 2 | 2 | 5 | 2 | 0 | 0 |\n| 50000 | 0 |   0.00 | 0 | 0 | 26 | 1646.42 | 0.00755 | 0.032493 |  0.00000 | 0 |  2 | 2 | 2 | 4 | 3 | 0 | 1 |\n\n",
            "text/latex": "A data.frame: 2 × 17\n\\begin{tabular}{r|lllllllllllllllll}\n  & Adm & AdmDur & Inf. & InfDur & Prd & PrdDur & BncRt & ExtRt & PgVal & SpclDay & Mo & OS & Bsr & Rgn & TfcTp & VstTp & Wkd\\\\\n  & <int> & <dbl> & <int> & <dbl> & <int> & <dbl> & <dbl> & <dbl> & <dbl> & <dbl> & <int> & <int> & <int> & <int> & <int> & <int> & <int>\\\\\n\\hline\n\t49999 & 4 & 357.05 & 0 & 0 & 27 & 1278.00 & 0.00000 & 0.006812 & 14.53818 & 0 & 11 & 2 & 2 & 5 & 2 & 0 & 0\\\\\n\t50000 & 0 &   0.00 & 0 & 0 & 26 & 1646.42 & 0.00755 & 0.032493 &  0.00000 & 0 &  2 & 2 & 2 & 4 & 3 & 0 & 1\\\\\n\\end{tabular}\n",
            "text/plain": [
              "      Adm AdmDur Inf. InfDur Prd PrdDur  BncRt   ExtRt    PgVal    SpclDay Mo\n",
              "49999 4   357.05 0    0      27  1278.00 0.00000 0.006812 14.53818 0       11\n",
              "50000 0     0.00 0    0      26  1646.42 0.00755 0.032493  0.00000 0        2\n",
              "      OS Bsr Rgn TfcTp VstTp Wkd\n",
              "49999 2  2   5   2     0     0  \n",
              "50000 2  2   4   3     0     1  "
            ]
          },
          "metadata": {}
        },
        {
          "output_type": "display_data",
          "data": {
            "text/html": [
              "<table class=\"dataframe\">\n",
              "<caption>A data.frame: 20 × 17</caption>\n",
              "<thead>\n",
              "\t<tr><th></th><th scope=col>Adm</th><th scope=col>AdmDur</th><th scope=col>Inf.</th><th scope=col>InfDur</th><th scope=col>Prd</th><th scope=col>PrdDur</th><th scope=col>BncRt</th><th scope=col>ExtRt</th><th scope=col>PgVal</th><th scope=col>SpclDay</th><th scope=col>Mo</th><th scope=col>OS</th><th scope=col>Bsr</th><th scope=col>Rgn</th><th scope=col>TfcTp</th><th scope=col>VstTp</th><th scope=col>Wkd</th></tr>\n",
              "\t<tr><th></th><th scope=col>&lt;int&gt;</th><th scope=col>&lt;dbl&gt;</th><th scope=col>&lt;int&gt;</th><th scope=col>&lt;dbl&gt;</th><th scope=col>&lt;int&gt;</th><th scope=col>&lt;dbl&gt;</th><th scope=col>&lt;dbl&gt;</th><th scope=col>&lt;dbl&gt;</th><th scope=col>&lt;dbl&gt;</th><th scope=col>&lt;dbl&gt;</th><th scope=col>&lt;int&gt;</th><th scope=col>&lt;int&gt;</th><th scope=col>&lt;int&gt;</th><th scope=col>&lt;int&gt;</th><th scope=col>&lt;int&gt;</th><th scope=col>&lt;int&gt;</th><th scope=col>&lt;int&gt;</th></tr>\n",
              "</thead>\n",
              "<tbody>\n",
              "\t<tr><th scope=row>499981</th><td> 0</td><td>  0.00</td><td>0</td><td>  0.00</td><td>  5</td><td> 115.83</td><td>0.000000</td><td>0.039591</td><td>  0.000000</td><td>0.0</td><td> 4</td><td>2</td><td>4</td><td>1</td><td> 1</td><td>0</td><td>0</td></tr>\n",
              "\t<tr><th scope=row>499982</th><td> 0</td><td>  0.00</td><td>0</td><td>  0.00</td><td> 13</td><td>  70.33</td><td>0.136441</td><td>0.120430</td><td>  0.000000</td><td>0.0</td><td> 8</td><td>2</td><td>2</td><td>2</td><td> 8</td><td>0</td><td>0</td></tr>\n",
              "\t<tr><th scope=row>499983</th><td> 0</td><td>  0.00</td><td>0</td><td>  0.00</td><td> 12</td><td> 153.39</td><td>0.000000</td><td>0.008253</td><td>  0.000000</td><td>0.0</td><td>11</td><td>2</td><td>2</td><td>2</td><td> 2</td><td>1</td><td>0</td></tr>\n",
              "\t<tr><th scope=row>499984</th><td> 0</td><td>  0.00</td><td>0</td><td>  0.00</td><td>  3</td><td>  17.00</td><td>0.000000</td><td>0.058506</td><td>  0.000000</td><td>0.0</td><td>12</td><td>2</td><td>2</td><td>5</td><td> 3</td><td>0</td><td>0</td></tr>\n",
              "\t<tr><th scope=row>499985</th><td> 0</td><td>  0.00</td><td>0</td><td>  0.00</td><td> 12</td><td>  69.97</td><td>0.142227</td><td>0.125776</td><td>  0.000000</td><td>0.3</td><td> 6</td><td>1</td><td>1</td><td>2</td><td> 3</td><td>0</td><td>0</td></tr>\n",
              "\t<tr><th scope=row>499986</th><td> 6</td><td> 96.34</td><td>0</td><td>  0.00</td><td> 27</td><td> 671.81</td><td>0.000000</td><td>0.020310</td><td> 19.033214</td><td>0.0</td><td> 2</td><td>1</td><td>1</td><td>2</td><td> 7</td><td>0</td><td>0</td></tr>\n",
              "\t<tr><th scope=row>499987</th><td> 2</td><td> 64.24</td><td>0</td><td>  0.00</td><td> 15</td><td> 440.68</td><td>0.000000</td><td>0.006229</td><td>134.720599</td><td>0.0</td><td> 5</td><td>1</td><td>1</td><td>1</td><td> 4</td><td>1</td><td>1</td></tr>\n",
              "\t<tr><th scope=row>499988</th><td> 7</td><td>200.44</td><td>0</td><td>  0.00</td><td> 19</td><td> 542.92</td><td>0.000000</td><td>0.002366</td><td>  0.000000</td><td>0.0</td><td> 6</td><td>2</td><td>2</td><td>2</td><td> 8</td><td>1</td><td>1</td></tr>\n",
              "\t<tr><th scope=row>499989</th><td> 0</td><td>  0.00</td><td>0</td><td>  0.00</td><td>  5</td><td>  56.00</td><td>0.034107</td><td>0.079813</td><td>  0.000000</td><td>0.0</td><td> 4</td><td>2</td><td>3</td><td>1</td><td> 1</td><td>0</td><td>1</td></tr>\n",
              "\t<tr><th scope=row>499990</th><td> 0</td><td>  0.00</td><td>0</td><td>  0.00</td><td> 31</td><td>1683.40</td><td>0.006622</td><td>0.026248</td><td>  0.000000</td><td>0.0</td><td> 5</td><td>2</td><td>2</td><td>4</td><td> 3</td><td>0</td><td>0</td></tr>\n",
              "\t<tr><th scope=row>499991</th><td> 0</td><td>  0.00</td><td>0</td><td>  0.00</td><td>  1</td><td>   0.00</td><td>0.102977</td><td>0.142368</td><td>  0.000000</td><td>0.0</td><td> 9</td><td>2</td><td>4</td><td>1</td><td>11</td><td>0</td><td>0</td></tr>\n",
              "\t<tr><th scope=row>499992</th><td> 1</td><td> 18.91</td><td>0</td><td>  0.00</td><td> 44</td><td>3862.35</td><td>0.008848</td><td>0.020108</td><td>  0.000000</td><td>0.0</td><td>10</td><td>2</td><td>2</td><td>2</td><td> 1</td><td>0</td><td>1</td></tr>\n",
              "\t<tr><th scope=row>499993</th><td> 1</td><td>  0.00</td><td>0</td><td>  0.00</td><td> 25</td><td> 293.25</td><td>0.000000</td><td>0.013455</td><td>  0.000000</td><td>0.0</td><td>11</td><td>2</td><td>2</td><td>2</td><td> 7</td><td>0</td><td>1</td></tr>\n",
              "\t<tr><th scope=row>499994</th><td> 3</td><td>239.66</td><td>0</td><td>  0.00</td><td>  8</td><td>1034.26</td><td>0.036407</td><td>0.039864</td><td>  0.000000</td><td>0.0</td><td> 6</td><td>1</td><td>1</td><td>4</td><td> 3</td><td>1</td><td>0</td></tr>\n",
              "\t<tr><th scope=row>499995</th><td> 2</td><td>167.24</td><td>2</td><td>102.15</td><td> 34</td><td> 989.09</td><td>0.010711</td><td>0.024474</td><td> 14.396287</td><td>0.0</td><td>10</td><td>1</td><td>1</td><td>1</td><td> 2</td><td>0</td><td>1</td></tr>\n",
              "\t<tr><th scope=row>499996</th><td>14</td><td>262.46</td><td>0</td><td>  0.00</td><td>170</td><td>3967.02</td><td>0.003314</td><td>0.015669</td><td>  2.904034</td><td>0.0</td><td>12</td><td>2</td><td>2</td><td>4</td><td> 2</td><td>0</td><td>0</td></tr>\n",
              "\t<tr><th scope=row>499997</th><td> 0</td><td>  0.00</td><td>0</td><td>  0.00</td><td>  7</td><td> 295.57</td><td>0.000000</td><td>0.000000</td><td>  0.000000</td><td>0.0</td><td> 9</td><td>1</td><td>5</td><td>4</td><td> 3</td><td>0</td><td>0</td></tr>\n",
              "\t<tr><th scope=row>499998</th><td> 6</td><td>134.64</td><td>3</td><td> 92.28</td><td> 30</td><td> 888.50</td><td>0.000000</td><td>0.003452</td><td> 30.172020</td><td>0.0</td><td>11</td><td>2</td><td>2</td><td>1</td><td> 4</td><td>0</td><td>0</td></tr>\n",
              "\t<tr><th scope=row>499999</th><td> 0</td><td>  0.00</td><td>0</td><td>  0.00</td><td> 27</td><td>1185.14</td><td>0.000000</td><td>0.001593</td><td>  0.000000</td><td>0.0</td><td> 5</td><td>2</td><td>2</td><td>2</td><td> 3</td><td>0</td><td>1</td></tr>\n",
              "\t<tr><th scope=row>500000</th><td> 6</td><td> 51.36</td><td>0</td><td>  0.00</td><td> 59</td><td>1898.21</td><td>0.000000</td><td>0.003224</td><td>  0.000000</td><td>0.0</td><td>12</td><td>2</td><td>2</td><td>2</td><td> 1</td><td>0</td><td>0</td></tr>\n",
              "</tbody>\n",
              "</table>\n"
            ],
            "text/markdown": "\nA data.frame: 20 × 17\n\n| <!--/--> | Adm &lt;int&gt; | AdmDur &lt;dbl&gt; | Inf. &lt;int&gt; | InfDur &lt;dbl&gt; | Prd &lt;int&gt; | PrdDur &lt;dbl&gt; | BncRt &lt;dbl&gt; | ExtRt &lt;dbl&gt; | PgVal &lt;dbl&gt; | SpclDay &lt;dbl&gt; | Mo &lt;int&gt; | OS &lt;int&gt; | Bsr &lt;int&gt; | Rgn &lt;int&gt; | TfcTp &lt;int&gt; | VstTp &lt;int&gt; | Wkd &lt;int&gt; |\n|---|---|---|---|---|---|---|---|---|---|---|---|---|---|---|---|---|---|\n| 499981 |  0 |   0.00 | 0 |   0.00 |   5 |  115.83 | 0.000000 | 0.039591 |   0.000000 | 0.0 |  4 | 2 | 4 | 1 |  1 | 0 | 0 |\n| 499982 |  0 |   0.00 | 0 |   0.00 |  13 |   70.33 | 0.136441 | 0.120430 |   0.000000 | 0.0 |  8 | 2 | 2 | 2 |  8 | 0 | 0 |\n| 499983 |  0 |   0.00 | 0 |   0.00 |  12 |  153.39 | 0.000000 | 0.008253 |   0.000000 | 0.0 | 11 | 2 | 2 | 2 |  2 | 1 | 0 |\n| 499984 |  0 |   0.00 | 0 |   0.00 |   3 |   17.00 | 0.000000 | 0.058506 |   0.000000 | 0.0 | 12 | 2 | 2 | 5 |  3 | 0 | 0 |\n| 499985 |  0 |   0.00 | 0 |   0.00 |  12 |   69.97 | 0.142227 | 0.125776 |   0.000000 | 0.3 |  6 | 1 | 1 | 2 |  3 | 0 | 0 |\n| 499986 |  6 |  96.34 | 0 |   0.00 |  27 |  671.81 | 0.000000 | 0.020310 |  19.033214 | 0.0 |  2 | 1 | 1 | 2 |  7 | 0 | 0 |\n| 499987 |  2 |  64.24 | 0 |   0.00 |  15 |  440.68 | 0.000000 | 0.006229 | 134.720599 | 0.0 |  5 | 1 | 1 | 1 |  4 | 1 | 1 |\n| 499988 |  7 | 200.44 | 0 |   0.00 |  19 |  542.92 | 0.000000 | 0.002366 |   0.000000 | 0.0 |  6 | 2 | 2 | 2 |  8 | 1 | 1 |\n| 499989 |  0 |   0.00 | 0 |   0.00 |   5 |   56.00 | 0.034107 | 0.079813 |   0.000000 | 0.0 |  4 | 2 | 3 | 1 |  1 | 0 | 1 |\n| 499990 |  0 |   0.00 | 0 |   0.00 |  31 | 1683.40 | 0.006622 | 0.026248 |   0.000000 | 0.0 |  5 | 2 | 2 | 4 |  3 | 0 | 0 |\n| 499991 |  0 |   0.00 | 0 |   0.00 |   1 |    0.00 | 0.102977 | 0.142368 |   0.000000 | 0.0 |  9 | 2 | 4 | 1 | 11 | 0 | 0 |\n| 499992 |  1 |  18.91 | 0 |   0.00 |  44 | 3862.35 | 0.008848 | 0.020108 |   0.000000 | 0.0 | 10 | 2 | 2 | 2 |  1 | 0 | 1 |\n| 499993 |  1 |   0.00 | 0 |   0.00 |  25 |  293.25 | 0.000000 | 0.013455 |   0.000000 | 0.0 | 11 | 2 | 2 | 2 |  7 | 0 | 1 |\n| 499994 |  3 | 239.66 | 0 |   0.00 |   8 | 1034.26 | 0.036407 | 0.039864 |   0.000000 | 0.0 |  6 | 1 | 1 | 4 |  3 | 1 | 0 |\n| 499995 |  2 | 167.24 | 2 | 102.15 |  34 |  989.09 | 0.010711 | 0.024474 |  14.396287 | 0.0 | 10 | 1 | 1 | 1 |  2 | 0 | 1 |\n| 499996 | 14 | 262.46 | 0 |   0.00 | 170 | 3967.02 | 0.003314 | 0.015669 |   2.904034 | 0.0 | 12 | 2 | 2 | 4 |  2 | 0 | 0 |\n| 499997 |  0 |   0.00 | 0 |   0.00 |   7 |  295.57 | 0.000000 | 0.000000 |   0.000000 | 0.0 |  9 | 1 | 5 | 4 |  3 | 0 | 0 |\n| 499998 |  6 | 134.64 | 3 |  92.28 |  30 |  888.50 | 0.000000 | 0.003452 |  30.172020 | 0.0 | 11 | 2 | 2 | 1 |  4 | 0 | 0 |\n| 499999 |  0 |   0.00 | 0 |   0.00 |  27 | 1185.14 | 0.000000 | 0.001593 |   0.000000 | 0.0 |  5 | 2 | 2 | 2 |  3 | 0 | 1 |\n| 500000 |  6 |  51.36 | 0 |   0.00 |  59 | 1898.21 | 0.000000 | 0.003224 |   0.000000 | 0.0 | 12 | 2 | 2 | 2 |  1 | 0 | 0 |\n\n",
            "text/latex": "A data.frame: 20 × 17\n\\begin{tabular}{r|lllllllllllllllll}\n  & Adm & AdmDur & Inf. & InfDur & Prd & PrdDur & BncRt & ExtRt & PgVal & SpclDay & Mo & OS & Bsr & Rgn & TfcTp & VstTp & Wkd\\\\\n  & <int> & <dbl> & <int> & <dbl> & <int> & <dbl> & <dbl> & <dbl> & <dbl> & <dbl> & <int> & <int> & <int> & <int> & <int> & <int> & <int>\\\\\n\\hline\n\t499981 &  0 &   0.00 & 0 &   0.00 &   5 &  115.83 & 0.000000 & 0.039591 &   0.000000 & 0.0 &  4 & 2 & 4 & 1 &  1 & 0 & 0\\\\\n\t499982 &  0 &   0.00 & 0 &   0.00 &  13 &   70.33 & 0.136441 & 0.120430 &   0.000000 & 0.0 &  8 & 2 & 2 & 2 &  8 & 0 & 0\\\\\n\t499983 &  0 &   0.00 & 0 &   0.00 &  12 &  153.39 & 0.000000 & 0.008253 &   0.000000 & 0.0 & 11 & 2 & 2 & 2 &  2 & 1 & 0\\\\\n\t499984 &  0 &   0.00 & 0 &   0.00 &   3 &   17.00 & 0.000000 & 0.058506 &   0.000000 & 0.0 & 12 & 2 & 2 & 5 &  3 & 0 & 0\\\\\n\t499985 &  0 &   0.00 & 0 &   0.00 &  12 &   69.97 & 0.142227 & 0.125776 &   0.000000 & 0.3 &  6 & 1 & 1 & 2 &  3 & 0 & 0\\\\\n\t499986 &  6 &  96.34 & 0 &   0.00 &  27 &  671.81 & 0.000000 & 0.020310 &  19.033214 & 0.0 &  2 & 1 & 1 & 2 &  7 & 0 & 0\\\\\n\t499987 &  2 &  64.24 & 0 &   0.00 &  15 &  440.68 & 0.000000 & 0.006229 & 134.720599 & 0.0 &  5 & 1 & 1 & 1 &  4 & 1 & 1\\\\\n\t499988 &  7 & 200.44 & 0 &   0.00 &  19 &  542.92 & 0.000000 & 0.002366 &   0.000000 & 0.0 &  6 & 2 & 2 & 2 &  8 & 1 & 1\\\\\n\t499989 &  0 &   0.00 & 0 &   0.00 &   5 &   56.00 & 0.034107 & 0.079813 &   0.000000 & 0.0 &  4 & 2 & 3 & 1 &  1 & 0 & 1\\\\\n\t499990 &  0 &   0.00 & 0 &   0.00 &  31 & 1683.40 & 0.006622 & 0.026248 &   0.000000 & 0.0 &  5 & 2 & 2 & 4 &  3 & 0 & 0\\\\\n\t499991 &  0 &   0.00 & 0 &   0.00 &   1 &    0.00 & 0.102977 & 0.142368 &   0.000000 & 0.0 &  9 & 2 & 4 & 1 & 11 & 0 & 0\\\\\n\t499992 &  1 &  18.91 & 0 &   0.00 &  44 & 3862.35 & 0.008848 & 0.020108 &   0.000000 & 0.0 & 10 & 2 & 2 & 2 &  1 & 0 & 1\\\\\n\t499993 &  1 &   0.00 & 0 &   0.00 &  25 &  293.25 & 0.000000 & 0.013455 &   0.000000 & 0.0 & 11 & 2 & 2 & 2 &  7 & 0 & 1\\\\\n\t499994 &  3 & 239.66 & 0 &   0.00 &   8 & 1034.26 & 0.036407 & 0.039864 &   0.000000 & 0.0 &  6 & 1 & 1 & 4 &  3 & 1 & 0\\\\\n\t499995 &  2 & 167.24 & 2 & 102.15 &  34 &  989.09 & 0.010711 & 0.024474 &  14.396287 & 0.0 & 10 & 1 & 1 & 1 &  2 & 0 & 1\\\\\n\t499996 & 14 & 262.46 & 0 &   0.00 & 170 & 3967.02 & 0.003314 & 0.015669 &   2.904034 & 0.0 & 12 & 2 & 2 & 4 &  2 & 0 & 0\\\\\n\t499997 &  0 &   0.00 & 0 &   0.00 &   7 &  295.57 & 0.000000 & 0.000000 &   0.000000 & 0.0 &  9 & 1 & 5 & 4 &  3 & 0 & 0\\\\\n\t499998 &  6 & 134.64 & 3 &  92.28 &  30 &  888.50 & 0.000000 & 0.003452 &  30.172020 & 0.0 & 11 & 2 & 2 & 1 &  4 & 0 & 0\\\\\n\t499999 &  0 &   0.00 & 0 &   0.00 &  27 & 1185.14 & 0.000000 & 0.001593 &   0.000000 & 0.0 &  5 & 2 & 2 & 2 &  3 & 0 & 1\\\\\n\t500000 &  6 &  51.36 & 0 &   0.00 &  59 & 1898.21 & 0.000000 & 0.003224 &   0.000000 & 0.0 & 12 & 2 & 2 & 2 &  1 & 0 & 0\\\\\n\\end{tabular}\n",
            "text/plain": [
              "       Adm AdmDur Inf. InfDur Prd PrdDur  BncRt    ExtRt    PgVal      SpclDay\n",
              "499981  0    0.00 0      0.00   5  115.83 0.000000 0.039591   0.000000 0.0    \n",
              "499982  0    0.00 0      0.00  13   70.33 0.136441 0.120430   0.000000 0.0    \n",
              "499983  0    0.00 0      0.00  12  153.39 0.000000 0.008253   0.000000 0.0    \n",
              "499984  0    0.00 0      0.00   3   17.00 0.000000 0.058506   0.000000 0.0    \n",
              "499985  0    0.00 0      0.00  12   69.97 0.142227 0.125776   0.000000 0.3    \n",
              "499986  6   96.34 0      0.00  27  671.81 0.000000 0.020310  19.033214 0.0    \n",
              "499987  2   64.24 0      0.00  15  440.68 0.000000 0.006229 134.720599 0.0    \n",
              "499988  7  200.44 0      0.00  19  542.92 0.000000 0.002366   0.000000 0.0    \n",
              "499989  0    0.00 0      0.00   5   56.00 0.034107 0.079813   0.000000 0.0    \n",
              "499990  0    0.00 0      0.00  31 1683.40 0.006622 0.026248   0.000000 0.0    \n",
              "499991  0    0.00 0      0.00   1    0.00 0.102977 0.142368   0.000000 0.0    \n",
              "499992  1   18.91 0      0.00  44 3862.35 0.008848 0.020108   0.000000 0.0    \n",
              "499993  1    0.00 0      0.00  25  293.25 0.000000 0.013455   0.000000 0.0    \n",
              "499994  3  239.66 0      0.00   8 1034.26 0.036407 0.039864   0.000000 0.0    \n",
              "499995  2  167.24 2    102.15  34  989.09 0.010711 0.024474  14.396287 0.0    \n",
              "499996 14  262.46 0      0.00 170 3967.02 0.003314 0.015669   2.904034 0.0    \n",
              "499997  0    0.00 0      0.00   7  295.57 0.000000 0.000000   0.000000 0.0    \n",
              "499998  6  134.64 3     92.28  30  888.50 0.000000 0.003452  30.172020 0.0    \n",
              "499999  0    0.00 0      0.00  27 1185.14 0.000000 0.001593   0.000000 0.0    \n",
              "500000  6   51.36 0      0.00  59 1898.21 0.000000 0.003224   0.000000 0.0    \n",
              "       Mo OS Bsr Rgn TfcTp VstTp Wkd\n",
              "499981  4 2  4   1    1    0     0  \n",
              "499982  8 2  2   2    8    0     0  \n",
              "499983 11 2  2   2    2    1     0  \n",
              "499984 12 2  2   5    3    0     0  \n",
              "499985  6 1  1   2    3    0     0  \n",
              "499986  2 1  1   2    7    0     0  \n",
              "499987  5 1  1   1    4    1     1  \n",
              "499988  6 2  2   2    8    1     1  \n",
              "499989  4 2  3   1    1    0     1  \n",
              "499990  5 2  2   4    3    0     0  \n",
              "499991  9 2  4   1   11    0     0  \n",
              "499992 10 2  2   2    1    0     1  \n",
              "499993 11 2  2   2    7    0     1  \n",
              "499994  6 1  1   4    3    1     0  \n",
              "499995 10 1  1   1    2    0     1  \n",
              "499996 12 2  2   4    2    0     0  \n",
              "499997  9 1  5   4    3    0     0  \n",
              "499998 11 2  2   1    4    0     0  \n",
              "499999  5 2  2   2    3    0     1  \n",
              "500000 12 2  2   2    1    0     0  "
            ]
          },
          "metadata": {}
        },
        {
          "output_type": "display_data",
          "data": {
            "text/html": [
              "<table class=\"dataframe\">\n",
              "<caption>A data.frame: 2 × 18</caption>\n",
              "<thead>\n",
              "\t<tr><th></th><th scope=col>Adm</th><th scope=col>AdmDur</th><th scope=col>Inf.</th><th scope=col>InfDur</th><th scope=col>Prd</th><th scope=col>PrdDur</th><th scope=col>BncRt</th><th scope=col>ExtRt</th><th scope=col>PgVal</th><th scope=col>SpclDay</th><th scope=col>Mo</th><th scope=col>OS</th><th scope=col>Bsr</th><th scope=col>Rgn</th><th scope=col>TfcTp</th><th scope=col>VstTp</th><th scope=col>Wkd</th><th scope=col>Rev</th></tr>\n",
              "\t<tr><th></th><th scope=col>&lt;int&gt;</th><th scope=col>&lt;dbl&gt;</th><th scope=col>&lt;int&gt;</th><th scope=col>&lt;dbl&gt;</th><th scope=col>&lt;int&gt;</th><th scope=col>&lt;dbl&gt;</th><th scope=col>&lt;dbl&gt;</th><th scope=col>&lt;dbl&gt;</th><th scope=col>&lt;dbl&gt;</th><th scope=col>&lt;dbl&gt;</th><th scope=col>&lt;int&gt;</th><th scope=col>&lt;int&gt;</th><th scope=col>&lt;int&gt;</th><th scope=col>&lt;int&gt;</th><th scope=col>&lt;int&gt;</th><th scope=col>&lt;int&gt;</th><th scope=col>&lt;int&gt;</th><th scope=col>&lt;dbl&gt;</th></tr>\n",
              "</thead>\n",
              "<tbody>\n",
              "\t<tr><th scope=row>499999</th><td>0</td><td> 0.00</td><td>0</td><td>0</td><td>27</td><td>1185.14</td><td>0</td><td>0.001593</td><td>0</td><td>0</td><td> 5</td><td>2</td><td>2</td><td>2</td><td>3</td><td>0</td><td>1</td><td>0</td></tr>\n",
              "\t<tr><th scope=row>500000</th><td>6</td><td>51.36</td><td>0</td><td>0</td><td>59</td><td>1898.21</td><td>0</td><td>0.003224</td><td>0</td><td>0</td><td>12</td><td>2</td><td>2</td><td>2</td><td>1</td><td>0</td><td>0</td><td>0</td></tr>\n",
              "</tbody>\n",
              "</table>\n"
            ],
            "text/markdown": "\nA data.frame: 2 × 18\n\n| <!--/--> | Adm &lt;int&gt; | AdmDur &lt;dbl&gt; | Inf. &lt;int&gt; | InfDur &lt;dbl&gt; | Prd &lt;int&gt; | PrdDur &lt;dbl&gt; | BncRt &lt;dbl&gt; | ExtRt &lt;dbl&gt; | PgVal &lt;dbl&gt; | SpclDay &lt;dbl&gt; | Mo &lt;int&gt; | OS &lt;int&gt; | Bsr &lt;int&gt; | Rgn &lt;int&gt; | TfcTp &lt;int&gt; | VstTp &lt;int&gt; | Wkd &lt;int&gt; | Rev &lt;dbl&gt; |\n|---|---|---|---|---|---|---|---|---|---|---|---|---|---|---|---|---|---|---|\n| 499999 | 0 |  0.00 | 0 | 0 | 27 | 1185.14 | 0 | 0.001593 | 0 | 0 |  5 | 2 | 2 | 2 | 3 | 0 | 1 | 0 |\n| 500000 | 6 | 51.36 | 0 | 0 | 59 | 1898.21 | 0 | 0.003224 | 0 | 0 | 12 | 2 | 2 | 2 | 1 | 0 | 0 | 0 |\n\n",
            "text/latex": "A data.frame: 2 × 18\n\\begin{tabular}{r|llllllllllllllllll}\n  & Adm & AdmDur & Inf. & InfDur & Prd & PrdDur & BncRt & ExtRt & PgVal & SpclDay & Mo & OS & Bsr & Rgn & TfcTp & VstTp & Wkd & Rev\\\\\n  & <int> & <dbl> & <int> & <dbl> & <int> & <dbl> & <dbl> & <dbl> & <dbl> & <dbl> & <int> & <int> & <int> & <int> & <int> & <int> & <int> & <dbl>\\\\\n\\hline\n\t499999 & 0 &  0.00 & 0 & 0 & 27 & 1185.14 & 0 & 0.001593 & 0 & 0 &  5 & 2 & 2 & 2 & 3 & 0 & 1 & 0\\\\\n\t500000 & 6 & 51.36 & 0 & 0 & 59 & 1898.21 & 0 & 0.003224 & 0 & 0 & 12 & 2 & 2 & 2 & 1 & 0 & 0 & 0\\\\\n\\end{tabular}\n",
            "text/plain": [
              "       Adm AdmDur Inf. InfDur Prd PrdDur  BncRt ExtRt    PgVal SpclDay Mo OS\n",
              "499999 0    0.00  0    0      27  1185.14 0     0.001593 0     0        5 2 \n",
              "500000 6   51.36  0    0      59  1898.21 0     0.003224 0     0       12 2 \n",
              "       Bsr Rgn TfcTp VstTp Wkd Rev\n",
              "499999 2   2   3     0     1   0  \n",
              "500000 2   2   1     0     0   0  "
            ]
          },
          "metadata": {}
        }
      ]
    },
    {
      "cell_type": "code",
      "source": [
        "t0 = Sys.time()"
      ],
      "metadata": {
        "id": "GqnRQly_oD-g"
      },
      "execution_count": null,
      "outputs": []
    },
    {
      "cell_type": "markdown",
      "source": [
        "<hr color=red>\n",
        "\n",
        "<font size=5>⏳</font> <strong><font color=orange size=5>Your Code, Documentation, Ideas and Timer - All Start Here...</font></strong>\n",
        "\n",
        "**Student's Section** (between ⏳ symbols): add your code and documentation here."
      ],
      "metadata": {
        "id": "3NcTKbw3KhAn"
      }
    },
    {
      "cell_type": "markdown",
      "metadata": {
        "id": "WgoiydEDvor2"
      },
      "source": [
        "## **Task 1. Preprocessing Pipeline**\n",
        " \n",
        "Explain elements of your preprocessing pipeline i.e. feature engineering, subsampling, clustering, dimensionality reduction, etc. \n",
        "1. Why did you choose these elements? (Perhaps something in EDA or prior experience lead you to these)\n",
        "1. How do you evaluate the effectiveness of these elements? \n",
        "1. What else have you tried that worked or didn't? "
      ]
    },
    {
      "cell_type": "markdown",
      "metadata": {
        "id": "vIm8b5kfvor2"
      },
      "source": [
        "**Student's answer:**"
      ]
    },
    {
      "cell_type": "markdown",
      "source": [
        "Были испробованы различные комбинации признаков. Рассмотрено увеличение размера обучающей выборки. Использование полной выборки не принесло никаких значительных изменений.\n",
        "\n",
        "Введены новые признаки:\n",
        "\n",
        "\n",
        "\n",
        "1.   log(AdmDur+InfDur+PrdDur+0.000001)\n",
        "2.   SpclDay*Wkd - признак праздничного дня\n",
        "3.   ((Adm+Prd)>0)*1\n",
        "4.   log(PgVal/(ExtRt+0.00001)+0.000001)\n",
        "5.   log(ExtRt*BncRt+0.000001)\n",
        "6.   log(PgVal/(BncRt+0.00001)+0.000001)\n",
        "\n",
        "Использование данных признаков позволило поднять точность на 0.09 по сравнению с базовым вариантом\n",
        "\n",
        "\n",
        "\n",
        "\n"
      ],
      "metadata": {
        "id": "-zvObMg-YAUK"
      }
    },
    {
      "cell_type": "markdown",
      "source": [
        "Далее была произведена нормализация всех признаков и произведено обучение модели на нормализованном наборе данных"
      ],
      "metadata": {
        "id": "GHvihU_zZXZ1"
      }
    },
    {
      "cell_type": "markdown",
      "metadata": {
        "id": "i-_qr2WXvor2"
      },
      "source": [
        "## **Task 2. Modeling Approach**\n",
        "Explain your modeling approach, i.e. ideas you tried and why you thought they would be helpful. \n",
        "\n",
        "1. How did these decisions guide you in modeling?\n",
        "1. How do you evaluate the effectiveness of these elements? \n",
        "1. What else have you tried that worked or didn't? "
      ]
    },
    {
      "cell_type": "markdown",
      "metadata": {
        "id": "BqgujO4Ivor2"
      },
      "source": [
        "**Student's answer:**"
      ]
    },
    {
      "cell_type": "markdown",
      "metadata": {
        "id": "7VbNxML7vor2"
      },
      "source": [
        "Были рассмотрены и испробованы следующие модели регресии:\n",
        "\n",
        "\n",
        "\n",
        "1.   multinom из пакета nnet\n",
        "1.   knn.reg из пакета FNN\n",
        "1.   nnet из пакета nnet\n",
        "2.   glm из пакета MASS \n",
        "2.   glmnet из пакета glmnet\n",
        "\n",
        "Наилучший результат показал knn.reg (k Nearest Neighbor Regression) \n",
        "\n",
        "Далее произведен подбор гиперпараметра для knn.reg Наилучшее значение k = 3\n",
        "\n"
      ]
    },
    {
      "cell_type": "markdown",
      "source": [
        "**Запись решения **"
      ],
      "metadata": {
        "id": "TiAL4oARoDuN"
      }
    },
    {
      "cell_type": "code",
      "source": [
        "XY = read.csv(FileCSV, na.strings=\"\", stringsAsFactors=T)  # replace \"\" with NA\n",
        "YCol = 'Rev'       # target column\n",
        "NumericCols =  unlist(lapply(XY, is.numeric))   # find numeric columns\n",
        "vX = XY[is.na(XY[YCol]), !(names(XY) %in% c(YCol))]  # testing inputs only\n",
        "tXY = XY[!is.na(XY[YCol]), ]  # training inputs with output\n",
        "tY = tXY[YCol]                # training response\n",
        "tX = tXY[,1:(ncol(tXY)-1)]\n",
        "\n",
        "tX$Type1<-log(tX$AdmDur+tX$InfDur+tX$PrdDur+0.000001)\n",
        "vX$Type1<-log(vX$AdmDur+vX$InfDur+vX$PrdDur+0.000001)\n",
        "tX$Type2<-tX$SpclDay*tX$Wkd\n",
        "vX$Type2<-vX$SpclDay*vX$Wkd\n",
        "tX$Type3<-((tX$Adm+tX$Prd)>0)*1\n",
        "vX$Type3<-((vX$Adm+vX$Prd)>0)*1\n",
        "tX$Type4<-log(tX$PgVal/(tX$ExtRt+0.00001)+0.000001)\n",
        "vX$Type4<-log(vX$PgVal/(vX$ExtRt+0.00001)+0.000001)\n",
        "tX$Type5<-log(tX$ExtRt*tX$BncRt+0.000001)\n",
        "vX$Type5<-log(vX$ExtRt*vX$BncRt+0.000001)\n",
        "tX$Type6<-log(tX$PgVal/(tX$BncRt+0.00001)+0.000001)\n",
        "vX$Type6<-log(vX$PgVal/(vX$ExtRt+0.00001)+0.000001)"
      ],
      "metadata": {
        "id": "yLbiCR2Pn2oq"
      },
      "execution_count": 5,
      "outputs": []
    },
    {
      "cell_type": "code",
      "source": [
        "#load *dplyr* package\n",
        "library(dplyr)\n",
        "#standardize \n",
        "tX <- tX %>% mutate_each_(list(~scale(.) %>% as.vector),\n",
        " vars = c('Adm' , 'AdmDur','Inf.','InfDur','Prd','PrdDur','BncRt','ExtRt','PgVal','SpclDay','OS','Mo','Bsr','VstTp','TfcTp','Wkd','Type1','Type2','Type3','Type4','Type5','Type6'))\n",
        "vX <- vX %>% mutate_each_(list(~scale(.) %>% as.vector),\n",
        " vars = c('Adm' , 'AdmDur','Inf.','InfDur','Prd','PrdDur','BncRt','ExtRt','PgVal','SpclDay','OS','Mo','Bsr','VstTp','TfcTp','Wkd','Type1','Type2','Type3','Type4','Type5','Type6'))"
      ],
      "metadata": {
        "colab": {
          "base_uri": "https://localhost:8080/"
        },
        "id": "aatfh_TdXOiR",
        "outputId": "cca394b5-d310-4afb-e148-45410b85c63c"
      },
      "execution_count": 6,
      "outputs": [
        {
          "output_type": "stream",
          "name": "stderr",
          "text": [
            "Warning message:\n",
            "“\u001b[1m\u001b[22m`mutate_each_()` was deprecated in dplyr 0.7.0.\n",
            "\u001b[36mℹ\u001b[39m Please use `across()` instead.”\n",
            "Warning message:\n",
            "“\u001b[1m\u001b[22m`mutate_each_()` was deprecated in dplyr 0.7.0.\n",
            "\u001b[36mℹ\u001b[39m Please use `across()` instead.”\n"
          ]
        }
      ]
    },
    {
      "cell_type": "code",
      "source": [
        "library(FNN)\n",
        "m2 = knn.reg(tX, vX, tY, k=3)\n",
        "t(head(pY <- setNames(data.frame(m2$pred<-(m2$pred>0.5)*1), YCol), 20))  # make predictions on the test inputs, vX"
      ],
      "metadata": {
        "colab": {
          "base_uri": "https://localhost:8080/",
          "height": 98
        },
        "id": "7Ywv3HZfoKHD",
        "outputId": "e3c90576-639c-4311-c94d-1c6cb27a4964"
      },
      "execution_count": 7,
      "outputs": [
        {
          "output_type": "display_data",
          "data": {
            "text/html": [
              "<table class=\"dataframe\">\n",
              "<caption>A matrix: 1 × 20 of type dbl</caption>\n",
              "<thead>\n",
              "\t<tr><th></th><th scope=col>1</th><th scope=col>2</th><th scope=col>3</th><th scope=col>4</th><th scope=col>5</th><th scope=col>6</th><th scope=col>7</th><th scope=col>8</th><th scope=col>9</th><th scope=col>10</th><th scope=col>11</th><th scope=col>12</th><th scope=col>13</th><th scope=col>14</th><th scope=col>15</th><th scope=col>16</th><th scope=col>17</th><th scope=col>18</th><th scope=col>19</th><th scope=col>20</th></tr>\n",
              "</thead>\n",
              "<tbody>\n",
              "\t<tr><th scope=row>Rev</th><td>0</td><td>1</td><td>0</td><td>0</td><td>0</td><td>0</td><td>0</td><td>0</td><td>0</td><td>0</td><td>0</td><td>0</td><td>0</td><td>0</td><td>0</td><td>0</td><td>1</td><td>0</td><td>1</td><td>0</td></tr>\n",
              "</tbody>\n",
              "</table>\n"
            ],
            "text/markdown": "\nA matrix: 1 × 20 of type dbl\n\n| <!--/--> | 1 | 2 | 3 | 4 | 5 | 6 | 7 | 8 | 9 | 10 | 11 | 12 | 13 | 14 | 15 | 16 | 17 | 18 | 19 | 20 |\n|---|---|---|---|---|---|---|---|---|---|---|---|---|---|---|---|---|---|---|---|---|\n| Rev | 0 | 1 | 0 | 0 | 0 | 0 | 0 | 0 | 0 | 0 | 0 | 0 | 0 | 0 | 0 | 0 | 1 | 0 | 1 | 0 |\n\n",
            "text/latex": "A matrix: 1 × 20 of type dbl\n\\begin{tabular}{r|llllllllllllllllllll}\n  & 1 & 2 & 3 & 4 & 5 & 6 & 7 & 8 & 9 & 10 & 11 & 12 & 13 & 14 & 15 & 16 & 17 & 18 & 19 & 20\\\\\n\\hline\n\tRev & 0 & 1 & 0 & 0 & 0 & 0 & 0 & 0 & 0 & 0 & 0 & 0 & 0 & 0 & 0 & 0 & 1 & 0 & 1 & 0\\\\\n\\end{tabular}\n",
            "text/plain": [
              "    1 2 3 4 5 6 7 8 9 10 11 12 13 14 15 16 17 18 19 20\n",
              "Rev 0 1 0 0 0 0 0 0 0 0  0  0  0  0  0  0  1  0  1  0 "
            ]
          },
          "metadata": {}
        }
      ]
    },
    {
      "cell_type": "code",
      "source": [
        "write.csv(cbind(id=1:nrow(pY), pY), file='MySubmission.csv', row.names=F)  # write to CSV file"
      ],
      "metadata": {
        "id": "KAVbSPYglkh9"
      },
      "execution_count": 8,
      "outputs": []
    },
    {
      "cell_type": "code",
      "source": [
        "table(tY$Rev)/nrow(tY)\n",
        "table(pY$Rev)/nrow(pY)"
      ],
      "metadata": {
        "colab": {
          "base_uri": "https://localhost:8080/",
          "height": 121
        },
        "id": "mPBsL6-u9Mzj",
        "outputId": "f3b2771c-77a9-4077-ef2a-4332af5a6522"
      },
      "execution_count": 9,
      "outputs": [
        {
          "output_type": "display_data",
          "data": {
            "text/plain": [
              "\n",
              "        0         1 \n",
              "0.7758667 0.2241333 "
            ]
          },
          "metadata": {}
        },
        {
          "output_type": "display_data",
          "data": {
            "text/plain": [
              "\n",
              "      0       1 \n",
              "0.78814 0.21186 "
            ]
          },
          "metadata": {}
        }
      ]
    },
    {
      "cell_type": "code",
      "source": [
        "RunTime = round(difftime(Sys.time(), t0, units = \"secs\")[[1]])\n",
        "msg = paste0('Runtime is ',RunTime,' sec. Time limit is ', timeLimit, ' sec')\n",
        "cat(bold(ifelse(timeLimit<RunTime, red(paste0('Limit exceeded!!! ', msg)), green(msg))))"
      ],
      "metadata": {
        "colab": {
          "base_uri": "https://localhost:8080/"
        },
        "id": "rD4dgLPzoJAm",
        "outputId": "c923733e-2b33-43e7-e076-725361e3a85a"
      },
      "execution_count": null,
      "outputs": [
        {
          "output_type": "stream",
          "name": "stdout",
          "text": [
            "\u001b[1m\u001b[32mRuntime is 72 sec. Time limit is 120 sec\u001b[39m\u001b[22m"
          ]
        }
      ]
    },
    {
      "cell_type": "markdown",
      "metadata": {
        "id": "oUStTaN4uo_Z"
      },
      "source": [
        "## 💡**Starter Ideas**"
      ]
    },
    {
      "cell_type": "markdown",
      "source": [
        "**Model**\n",
        "1. Tune model hyperparameters, batch size, optimizer, NN layers\n",
        "\n",
        "**Features**\n",
        "1. Try to linear and non-linear feature normalization: shift/scale, log, divide features by features (investigate scatterplot matrix)\n",
        "1. Try higher order feature interactions and polynomial features on a small subsample. Then identify key features or select key principal components. The final model can be trained on a larger or even full training sample. You can use [PCA](https://scikit-learn.org/stable/modules/generated/sklearn.decomposition.PCA.html) to reduce the feature set\n",
        "1. Incorporate categorical features (appropriately encoded)\n",
        "  1. E.g. you could replace codes (or groups of codes) with their frequencies, which may capture the implied \"distance\" or rarity between category levels.\n",
        "  1. If encoding ordinal features with integers, should non-equidistant values be considered?\n",
        "\n",
        "**Training observations**\n",
        "1. Try clustering methods to remove similar observations. You may also try dimension reduction methods (eg. PCA) on the transposed data matrix (if it has scaled numeric features).\n",
        "1. Look for and deal with outliers or influential points in the training set\n",
        "1. Deal with **imbalanced sample**: oversample smaller class, or undersample larger class, or provide observation weights or provide class weights, or seek a suitable loss function\n",
        "1. Investigate distributions of features. Any missing values? Any zero values?\n",
        "\n",
        "**Predictions**\n",
        "1. Evaluate predictions and focus on poorly predicted \"groups\":\n",
        "  1. Strongest misclassifications. E.g. the model is very confident about the wrong label\n",
        "  1. Evaluate predictions near decision boundaries.\n",
        "\n",
        "**EDA and Domain Expertise**\n",
        "1. Do a thorough EDA: look for feature augmentations that result in linear decision boundaries between pairs of classes.\n",
        "1. Learn about the domain: how should output relate to features? How do month or weekend impact users' buying activity?\n",
        "  1. User Agent [&#127910;](https://www.youtube.com/results?search_query=user+agent+browser), Google Analytics [&#127910;](https://www.youtube.com/results?search_query=google+analytics), tracking online shopping intent [&#127910;](https://www.youtube.com/results?search_query=tacking+online+shopping+intent), [📄](https://scholar.google.com/scholar?q=tracking+online+shopping+intent)"
      ],
      "metadata": {
        "id": "YsqoYee9xtoG"
      }
    },
    {
      "cell_type": "code",
      "source": [],
      "metadata": {
        "id": "a0ruW1CK_OGj"
      },
      "execution_count": null,
      "outputs": []
    }
  ]
}