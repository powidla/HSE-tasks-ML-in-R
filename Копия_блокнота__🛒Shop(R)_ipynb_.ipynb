{
  "nbformat": 4,
  "nbformat_minor": 0,
  "metadata": {
    "colab": {
      "provenance": []
    },
    "kernelspec": {
      "name": "ir",
      "display_name": "R"
    },
    "language_info": {
      "name": "R"
    }
  },
  "cells": [
    {
      "cell_type": "code",
      "source": [
        "library(crayon, quietly=T); # load first to avoid error relating to unloading this package\n",
        "install.packages(\"nnet\", quiet=T)      # 3 sec. multinomial logistic regression: multinom()\n",
        "install.packages(\"MASS\", quiet=T)      # 9 sec. binary logistic regression:  glm(..., family=binomial);   LDA/QDA: lda(), qda()\n",
        "install.packages(\"tidyverse\", quiet=T) # 7 sec.\n",
        "install.packages(\"glmnet\", quiet=T)    # 1 min. multinomial logistic regression: glmnet(..., family=multinomial).\n",
        "install.packages(\"FNN\", quiet=T)       # KNN Regression. Docs: https://cran.r-project.org/web/packages/FNN/FNN.pdf\n",
        "install.packages('reshape2', quiet=T)  # has an easy melt() function (vs gather, stack, reshape)\n",
        "devtools::install_github(\"mkearney/kaggler\", quiet=T) # https://github.com/mkearney/kaggler\n",
        "library(httr, quietly=T); library(stringr, quietly=T); library(glmnet, quietly=T); library(nnet, quietly=T); library(MASS, quietly=T); \n",
        "library(tidyverse, quietly=T); library(reshape2, quietly=T); library(RColorBrewer, quietly=T);\n",
        "options(repr.plot.width=20, repr.plot.height=8)   # change plot size"
      ],
      "metadata": {
        "id": "Sr-gzxNttJFh",
        "colab": {
          "base_uri": "https://localhost:8080/"
        },
        "outputId": "a3f924fa-d176-433f-c522-43cff12cbb6f"
      },
      "execution_count": null,
      "outputs": [
        {
          "output_type": "stream",
          "name": "stderr",
          "text": [
            "also installing the dependencies ‘iterators’, ‘foreach’, ‘shape’, ‘Rcpp’, ‘RcppEigen’\n",
            "\n",
            "\n",
            "also installing the dependency ‘plyr’\n",
            "\n",
            "\n",
            "Installing 3 packages: utf8, openssl, jsonlite\n",
            "\n",
            "Loaded glmnet 4.1-6\n",
            "\n",
            "Warning message in system(\"timedatectl\", intern = TRUE):\n",
            "“running command 'timedatectl' had status 1”\n",
            "── \u001b[1mAttaching packages\u001b[22m ─────────────────────────────────────── tidyverse 1.3.2 ──\n",
            "\u001b[32m✔\u001b[39m \u001b[34mggplot2\u001b[39m 3.4.0      \u001b[32m✔\u001b[39m \u001b[34mpurrr  \u001b[39m 1.0.1 \n",
            "\u001b[32m✔\u001b[39m \u001b[34mtibble \u001b[39m 3.1.8      \u001b[32m✔\u001b[39m \u001b[34mdplyr  \u001b[39m 1.0.10\n",
            "\u001b[32m✔\u001b[39m \u001b[34mtidyr  \u001b[39m 1.3.0      \u001b[32m✔\u001b[39m \u001b[34mforcats\u001b[39m 0.5.2 \n",
            "\u001b[32m✔\u001b[39m \u001b[34mreadr  \u001b[39m 2.1.3      \n",
            "── \u001b[1mConflicts\u001b[22m ────────────────────────────────────────── tidyverse_conflicts() ──\n",
            "\u001b[31m✖\u001b[39m \u001b[34mggplot2\u001b[39m::\u001b[32m%+%()\u001b[39m  masks \u001b[34mcrayon\u001b[39m::%+%()\n",
            "\u001b[31m✖\u001b[39m \u001b[34mtidyr\u001b[39m::\u001b[32mexpand()\u001b[39m masks \u001b[34mMatrix\u001b[39m::expand()\n",
            "\u001b[31m✖\u001b[39m \u001b[34mdplyr\u001b[39m::\u001b[32mfilter()\u001b[39m masks \u001b[34mstats\u001b[39m::filter()\n",
            "\u001b[31m✖\u001b[39m \u001b[34mdplyr\u001b[39m::\u001b[32mlag()\u001b[39m    masks \u001b[34mstats\u001b[39m::lag()\n",
            "\u001b[31m✖\u001b[39m \u001b[34mtidyr\u001b[39m::\u001b[32mpack()\u001b[39m   masks \u001b[34mMatrix\u001b[39m::pack()\n",
            "\u001b[31m✖\u001b[39m \u001b[34mdplyr\u001b[39m::\u001b[32mselect()\u001b[39m masks \u001b[34mMASS\u001b[39m::select()\n",
            "\u001b[31m✖\u001b[39m \u001b[34mtidyr\u001b[39m::\u001b[32munpack()\u001b[39m masks \u001b[34mMatrix\u001b[39m::unpack()\n",
            "\n",
            "Attaching package: ‘reshape2’\n",
            "\n",
            "\n",
            "The following object is masked from ‘package:tidyr’:\n",
            "\n",
            "    smiths\n",
            "\n",
            "\n"
          ]
        }
      ]
    },
    {
      "cell_type": "code",
      "execution_count": null,
      "metadata": {
        "id": "pcYjgu6TFSNU",
        "colab": {
          "base_uri": "https://localhost:8080/",
          "height": 195
        },
        "outputId": "f3c8d0be-3657-4841-d935-8b4137c6d532"
      },
      "outputs": [
        {
          "output_type": "display_data",
          "data": {
            "text/html": [
              "<style>\n",
              ".list-inline {list-style: none; margin:0; padding: 0}\n",
              ".list-inline>li {display: inline-block}\n",
              ".list-inline>li:not(:last-child)::after {content: \"\\00b7\"; padding: 0 .5ex}\n",
              "</style>\n",
              "<ol class=list-inline><li><span style=white-space:pre-wrap>'Archive:  XY_Shop.zip'</span></li><li><span style=white-space:pre-wrap>'  inflating: XY_Shop.csv             '</span></li></ol>\n"
            ],
            "text/markdown": "1. <span style=white-space:pre-wrap>'Archive:  XY_Shop.zip'</span>\n2. <span style=white-space:pre-wrap>'  inflating: XY_Shop.csv             '</span>\n\n\n",
            "text/latex": "\\begin{enumerate*}\n\\item 'Archive:  XY\\_Shop.zip'\n\\item '  inflating: XY\\_Shop.csv             '\n\\end{enumerate*}\n",
            "text/plain": [
              "[1] \"Archive:  XY_Shop.zip\"                \n",
              "[2] \"  inflating: XY_Shop.csv             \""
            ]
          },
          "metadata": {}
        },
        {
          "output_type": "display_data",
          "data": {
            "text/html": [
              "<strong>$submissions</strong> = <table class=\"dataframe\">\n",
              "<caption>A data.frame: 2 × 8</caption>\n",
              "<thead>\n",
              "\t<tr><th></th><th scope=col>teamNameNullable</th><th scope=col>scoreNullable</th><th scope=col>teamId</th><th scope=col>teamName</th><th scope=col>hasTeamName</th><th scope=col>submissionDate</th><th scope=col>score</th><th scope=col>hasScore</th></tr>\n",
              "\t<tr><th></th><th scope=col>&lt;chr&gt;</th><th scope=col>&lt;chr&gt;</th><th scope=col>&lt;int&gt;</th><th scope=col>&lt;chr&gt;</th><th scope=col>&lt;lgl&gt;</th><th scope=col>&lt;chr&gt;</th><th scope=col>&lt;chr&gt;</th><th scope=col>&lt;lgl&gt;</th></tr>\n",
              "</thead>\n",
              "<tbody>\n",
              "\t<tr><th scope=row>1</th><td></td><td>0.80392</td><td>9841595</td><td></td><td>TRUE</td><td>2022-02-21T04:44:25.9633333Z</td><td>0.80392</td><td>TRUE</td></tr>\n",
              "\t<tr><th scope=row>2</th><td></td><td>0.79960</td><td>9841594</td><td></td><td>TRUE</td><td>2022-02-21T03:28:25.3433333Z</td><td>0.79960</td><td>TRUE</td></tr>\n",
              "</tbody>\n",
              "</table>\n"
            ],
            "text/markdown": "**$submissions** = \nA data.frame: 2 × 8\n\n| <!--/--> | teamNameNullable &lt;chr&gt; | scoreNullable &lt;chr&gt; | teamId &lt;int&gt; | teamName &lt;chr&gt; | hasTeamName &lt;lgl&gt; | submissionDate &lt;chr&gt; | score &lt;chr&gt; | hasScore &lt;lgl&gt; |\n|---|---|---|---|---|---|---|---|---|\n| 1 | <!----> | 0.80392 | 9841595 | <!----> | TRUE | 2022-02-21T04:44:25.9633333Z | 0.80392 | TRUE |\n| 2 | <!----> | 0.79960 | 9841594 | <!----> | TRUE | 2022-02-21T03:28:25.3433333Z | 0.79960 | TRUE |\n\n",
            "text/latex": "\\textbf{\\$submissions} = A data.frame: 2 × 8\n\\begin{tabular}{r|llllllll}\n  & teamNameNullable & scoreNullable & teamId & teamName & hasTeamName & submissionDate & score & hasScore\\\\\n  & <chr> & <chr> & <int> & <chr> & <lgl> & <chr> & <chr> & <lgl>\\\\\n\\hline\n\t1 &  & 0.80392 & 9841595 &  & TRUE & 2022-02-21T04:44:25.9633333Z & 0.80392 & TRUE\\\\\n\t2 &  & 0.79960 & 9841594 &  & TRUE & 2022-02-21T03:28:25.3433333Z & 0.79960 & TRUE\\\\\n\\end{tabular}\n",
            "text/plain": [
              "$submissions\n",
              "  teamNameNullable scoreNullable  teamId teamName hasTeamName\n",
              "1                        0.80392 9841595                 TRUE\n",
              "2                        0.79960 9841594                 TRUE\n",
              "                submissionDate   score hasScore\n",
              "1 2022-02-21T04:44:25.9633333Z 0.80392     TRUE\n",
              "2 2022-02-21T03:28:25.3433333Z 0.79960     TRUE\n"
            ]
          },
          "metadata": {}
        }
      ],
      "source": [
        "Competition = '6feb23shop'\n",
        "FileCSV = 'XY_Shop.csv'\n",
        "FileZip = 'XY_Shop.zip'\n",
        "# capture.output( kaggler::kgl_auth(creds_file='kaggle.json'), file='log_auth.txt')     # log is deleted when session ends\n",
        "url = paste0('https://www.kaggle.com/api/v1/competitions/data/download/', Competition,'/', FileCSV)\n",
        "FileURL = httr::GET(url, kaggler::kgl_auth())$url   # extract full path to zipped data file\n",
        "download.file(FileURL, FileZip, quiet=T, mode=\"wb\") # download zipped data file\n",
        "system(paste0('unzip ', FileZip), intern=T)         # oddly unzip() fails to properly unzip\n",
        "kaggler::kgl_competitions_leaderboard_view(Competition)\n",
        "timeLimit = 2*60  # seconds"
      ]
    },
    {
      "cell_type": "code",
      "source": [
        "XY = read.csv(FileCSV, na.strings=\"\", stringsAsFactors=T)  # replace \"\" with NA\n",
        "YCol = 'Rev'       # target column\n",
        "NumericCols =  unlist(lapply(XY, is.numeric))   # find numeric columns\n",
        "vX = XY[is.na(XY[YCol]), !(names(XY) %in% c(YCol))]  # testing inputs only\n",
        "tXY = XY[!is.na(XY[YCol]), ]  # training inputs with output\n",
        "tY = tXY[YCol]                # training response\n",
        "tX = tail(tXY[,1:(ncol(tXY)-1)])\n",
        "tail(vX, 2)  # a few rows from the test set\n",
        "tail(tX, 2)  # a few rows from the train set\n",
        "tail(tXY, 2) # a few rows from the training set"
      ],
      "metadata": {
        "colab": {
          "base_uri": "https://localhost:8080/",
          "height": 447
        },
        "id": "XFKiXDmLLO45",
        "outputId": "60a793c0-872b-45ce-8523-4873528bd210"
      },
      "execution_count": null,
      "outputs": [
        {
          "output_type": "display_data",
          "data": {
            "text/html": [
              "<table class=\"dataframe\">\n",
              "<caption>A data.frame: 2 × 17</caption>\n",
              "<thead>\n",
              "\t<tr><th></th><th scope=col>Adm</th><th scope=col>AdmDur</th><th scope=col>Inf.</th><th scope=col>InfDur</th><th scope=col>Prd</th><th scope=col>PrdDur</th><th scope=col>BncRt</th><th scope=col>ExtRt</th><th scope=col>PgVal</th><th scope=col>SpclDay</th><th scope=col>Mo</th><th scope=col>OS</th><th scope=col>Bsr</th><th scope=col>Rgn</th><th scope=col>TfcTp</th><th scope=col>VstTp</th><th scope=col>Wkd</th></tr>\n",
              "\t<tr><th></th><th scope=col>&lt;int&gt;</th><th scope=col>&lt;dbl&gt;</th><th scope=col>&lt;int&gt;</th><th scope=col>&lt;dbl&gt;</th><th scope=col>&lt;int&gt;</th><th scope=col>&lt;dbl&gt;</th><th scope=col>&lt;dbl&gt;</th><th scope=col>&lt;dbl&gt;</th><th scope=col>&lt;dbl&gt;</th><th scope=col>&lt;dbl&gt;</th><th scope=col>&lt;int&gt;</th><th scope=col>&lt;int&gt;</th><th scope=col>&lt;int&gt;</th><th scope=col>&lt;int&gt;</th><th scope=col>&lt;int&gt;</th><th scope=col>&lt;int&gt;</th><th scope=col>&lt;int&gt;</th></tr>\n",
              "</thead>\n",
              "<tbody>\n",
              "\t<tr><th scope=row>49999</th><td>4</td><td>357.05</td><td>0</td><td>0</td><td>27</td><td>1278.00</td><td>0.00000</td><td>0.006812</td><td>14.53818</td><td>0</td><td>11</td><td>2</td><td>2</td><td>5</td><td>2</td><td>0</td><td>0</td></tr>\n",
              "\t<tr><th scope=row>50000</th><td>0</td><td>  0.00</td><td>0</td><td>0</td><td>26</td><td>1646.42</td><td>0.00755</td><td>0.032493</td><td> 0.00000</td><td>0</td><td> 2</td><td>2</td><td>2</td><td>4</td><td>3</td><td>0</td><td>1</td></tr>\n",
              "</tbody>\n",
              "</table>\n"
            ],
            "text/markdown": "\nA data.frame: 2 × 17\n\n| <!--/--> | Adm &lt;int&gt; | AdmDur &lt;dbl&gt; | Inf. &lt;int&gt; | InfDur &lt;dbl&gt; | Prd &lt;int&gt; | PrdDur &lt;dbl&gt; | BncRt &lt;dbl&gt; | ExtRt &lt;dbl&gt; | PgVal &lt;dbl&gt; | SpclDay &lt;dbl&gt; | Mo &lt;int&gt; | OS &lt;int&gt; | Bsr &lt;int&gt; | Rgn &lt;int&gt; | TfcTp &lt;int&gt; | VstTp &lt;int&gt; | Wkd &lt;int&gt; |\n|---|---|---|---|---|---|---|---|---|---|---|---|---|---|---|---|---|---|\n| 49999 | 4 | 357.05 | 0 | 0 | 27 | 1278.00 | 0.00000 | 0.006812 | 14.53818 | 0 | 11 | 2 | 2 | 5 | 2 | 0 | 0 |\n| 50000 | 0 |   0.00 | 0 | 0 | 26 | 1646.42 | 0.00755 | 0.032493 |  0.00000 | 0 |  2 | 2 | 2 | 4 | 3 | 0 | 1 |\n\n",
            "text/latex": "A data.frame: 2 × 17\n\\begin{tabular}{r|lllllllllllllllll}\n  & Adm & AdmDur & Inf. & InfDur & Prd & PrdDur & BncRt & ExtRt & PgVal & SpclDay & Mo & OS & Bsr & Rgn & TfcTp & VstTp & Wkd\\\\\n  & <int> & <dbl> & <int> & <dbl> & <int> & <dbl> & <dbl> & <dbl> & <dbl> & <dbl> & <int> & <int> & <int> & <int> & <int> & <int> & <int>\\\\\n\\hline\n\t49999 & 4 & 357.05 & 0 & 0 & 27 & 1278.00 & 0.00000 & 0.006812 & 14.53818 & 0 & 11 & 2 & 2 & 5 & 2 & 0 & 0\\\\\n\t50000 & 0 &   0.00 & 0 & 0 & 26 & 1646.42 & 0.00755 & 0.032493 &  0.00000 & 0 &  2 & 2 & 2 & 4 & 3 & 0 & 1\\\\\n\\end{tabular}\n",
            "text/plain": [
              "      Adm AdmDur Inf. InfDur Prd PrdDur  BncRt   ExtRt    PgVal    SpclDay Mo\n",
              "49999 4   357.05 0    0      27  1278.00 0.00000 0.006812 14.53818 0       11\n",
              "50000 0     0.00 0    0      26  1646.42 0.00755 0.032493  0.00000 0        2\n",
              "      OS Bsr Rgn TfcTp VstTp Wkd\n",
              "49999 2  2   5   2     0     0  \n",
              "50000 2  2   4   3     0     1  "
            ]
          },
          "metadata": {}
        },
        {
          "output_type": "display_data",
          "data": {
            "text/html": [
              "<table class=\"dataframe\">\n",
              "<caption>A data.frame: 2 × 17</caption>\n",
              "<thead>\n",
              "\t<tr><th></th><th scope=col>Adm</th><th scope=col>AdmDur</th><th scope=col>Inf.</th><th scope=col>InfDur</th><th scope=col>Prd</th><th scope=col>PrdDur</th><th scope=col>BncRt</th><th scope=col>ExtRt</th><th scope=col>PgVal</th><th scope=col>SpclDay</th><th scope=col>Mo</th><th scope=col>OS</th><th scope=col>Bsr</th><th scope=col>Rgn</th><th scope=col>TfcTp</th><th scope=col>VstTp</th><th scope=col>Wkd</th></tr>\n",
              "\t<tr><th></th><th scope=col>&lt;int&gt;</th><th scope=col>&lt;dbl&gt;</th><th scope=col>&lt;int&gt;</th><th scope=col>&lt;dbl&gt;</th><th scope=col>&lt;int&gt;</th><th scope=col>&lt;dbl&gt;</th><th scope=col>&lt;dbl&gt;</th><th scope=col>&lt;dbl&gt;</th><th scope=col>&lt;dbl&gt;</th><th scope=col>&lt;dbl&gt;</th><th scope=col>&lt;int&gt;</th><th scope=col>&lt;int&gt;</th><th scope=col>&lt;int&gt;</th><th scope=col>&lt;int&gt;</th><th scope=col>&lt;int&gt;</th><th scope=col>&lt;int&gt;</th><th scope=col>&lt;int&gt;</th></tr>\n",
              "</thead>\n",
              "<tbody>\n",
              "\t<tr><th scope=row>499999</th><td>0</td><td> 0.00</td><td>0</td><td>0</td><td>27</td><td>1185.14</td><td>0</td><td>0.001593</td><td>0</td><td>0</td><td> 5</td><td>2</td><td>2</td><td>2</td><td>3</td><td>0</td><td>1</td></tr>\n",
              "\t<tr><th scope=row>500000</th><td>6</td><td>51.36</td><td>0</td><td>0</td><td>59</td><td>1898.21</td><td>0</td><td>0.003224</td><td>0</td><td>0</td><td>12</td><td>2</td><td>2</td><td>2</td><td>1</td><td>0</td><td>0</td></tr>\n",
              "</tbody>\n",
              "</table>\n"
            ],
            "text/markdown": "\nA data.frame: 2 × 17\n\n| <!--/--> | Adm &lt;int&gt; | AdmDur &lt;dbl&gt; | Inf. &lt;int&gt; | InfDur &lt;dbl&gt; | Prd &lt;int&gt; | PrdDur &lt;dbl&gt; | BncRt &lt;dbl&gt; | ExtRt &lt;dbl&gt; | PgVal &lt;dbl&gt; | SpclDay &lt;dbl&gt; | Mo &lt;int&gt; | OS &lt;int&gt; | Bsr &lt;int&gt; | Rgn &lt;int&gt; | TfcTp &lt;int&gt; | VstTp &lt;int&gt; | Wkd &lt;int&gt; |\n|---|---|---|---|---|---|---|---|---|---|---|---|---|---|---|---|---|---|\n| 499999 | 0 |  0.00 | 0 | 0 | 27 | 1185.14 | 0 | 0.001593 | 0 | 0 |  5 | 2 | 2 | 2 | 3 | 0 | 1 |\n| 500000 | 6 | 51.36 | 0 | 0 | 59 | 1898.21 | 0 | 0.003224 | 0 | 0 | 12 | 2 | 2 | 2 | 1 | 0 | 0 |\n\n",
            "text/latex": "A data.frame: 2 × 17\n\\begin{tabular}{r|lllllllllllllllll}\n  & Adm & AdmDur & Inf. & InfDur & Prd & PrdDur & BncRt & ExtRt & PgVal & SpclDay & Mo & OS & Bsr & Rgn & TfcTp & VstTp & Wkd\\\\\n  & <int> & <dbl> & <int> & <dbl> & <int> & <dbl> & <dbl> & <dbl> & <dbl> & <dbl> & <int> & <int> & <int> & <int> & <int> & <int> & <int>\\\\\n\\hline\n\t499999 & 0 &  0.00 & 0 & 0 & 27 & 1185.14 & 0 & 0.001593 & 0 & 0 &  5 & 2 & 2 & 2 & 3 & 0 & 1\\\\\n\t500000 & 6 & 51.36 & 0 & 0 & 59 & 1898.21 & 0 & 0.003224 & 0 & 0 & 12 & 2 & 2 & 2 & 1 & 0 & 0\\\\\n\\end{tabular}\n",
            "text/plain": [
              "       Adm AdmDur Inf. InfDur Prd PrdDur  BncRt ExtRt    PgVal SpclDay Mo OS\n",
              "499999 0    0.00  0    0      27  1185.14 0     0.001593 0     0        5 2 \n",
              "500000 6   51.36  0    0      59  1898.21 0     0.003224 0     0       12 2 \n",
              "       Bsr Rgn TfcTp VstTp Wkd\n",
              "499999 2   2   3     0     1  \n",
              "500000 2   2   1     0     0  "
            ]
          },
          "metadata": {}
        },
        {
          "output_type": "display_data",
          "data": {
            "text/html": [
              "<table class=\"dataframe\">\n",
              "<caption>A data.frame: 2 × 18</caption>\n",
              "<thead>\n",
              "\t<tr><th></th><th scope=col>Adm</th><th scope=col>AdmDur</th><th scope=col>Inf.</th><th scope=col>InfDur</th><th scope=col>Prd</th><th scope=col>PrdDur</th><th scope=col>BncRt</th><th scope=col>ExtRt</th><th scope=col>PgVal</th><th scope=col>SpclDay</th><th scope=col>Mo</th><th scope=col>OS</th><th scope=col>Bsr</th><th scope=col>Rgn</th><th scope=col>TfcTp</th><th scope=col>VstTp</th><th scope=col>Wkd</th><th scope=col>Rev</th></tr>\n",
              "\t<tr><th></th><th scope=col>&lt;int&gt;</th><th scope=col>&lt;dbl&gt;</th><th scope=col>&lt;int&gt;</th><th scope=col>&lt;dbl&gt;</th><th scope=col>&lt;int&gt;</th><th scope=col>&lt;dbl&gt;</th><th scope=col>&lt;dbl&gt;</th><th scope=col>&lt;dbl&gt;</th><th scope=col>&lt;dbl&gt;</th><th scope=col>&lt;dbl&gt;</th><th scope=col>&lt;int&gt;</th><th scope=col>&lt;int&gt;</th><th scope=col>&lt;int&gt;</th><th scope=col>&lt;int&gt;</th><th scope=col>&lt;int&gt;</th><th scope=col>&lt;int&gt;</th><th scope=col>&lt;int&gt;</th><th scope=col>&lt;dbl&gt;</th></tr>\n",
              "</thead>\n",
              "<tbody>\n",
              "\t<tr><th scope=row>499999</th><td>0</td><td> 0.00</td><td>0</td><td>0</td><td>27</td><td>1185.14</td><td>0</td><td>0.001593</td><td>0</td><td>0</td><td> 5</td><td>2</td><td>2</td><td>2</td><td>3</td><td>0</td><td>1</td><td>0</td></tr>\n",
              "\t<tr><th scope=row>500000</th><td>6</td><td>51.36</td><td>0</td><td>0</td><td>59</td><td>1898.21</td><td>0</td><td>0.003224</td><td>0</td><td>0</td><td>12</td><td>2</td><td>2</td><td>2</td><td>1</td><td>0</td><td>0</td><td>0</td></tr>\n",
              "</tbody>\n",
              "</table>\n"
            ],
            "text/markdown": "\nA data.frame: 2 × 18\n\n| <!--/--> | Adm &lt;int&gt; | AdmDur &lt;dbl&gt; | Inf. &lt;int&gt; | InfDur &lt;dbl&gt; | Prd &lt;int&gt; | PrdDur &lt;dbl&gt; | BncRt &lt;dbl&gt; | ExtRt &lt;dbl&gt; | PgVal &lt;dbl&gt; | SpclDay &lt;dbl&gt; | Mo &lt;int&gt; | OS &lt;int&gt; | Bsr &lt;int&gt; | Rgn &lt;int&gt; | TfcTp &lt;int&gt; | VstTp &lt;int&gt; | Wkd &lt;int&gt; | Rev &lt;dbl&gt; |\n|---|---|---|---|---|---|---|---|---|---|---|---|---|---|---|---|---|---|---|\n| 499999 | 0 |  0.00 | 0 | 0 | 27 | 1185.14 | 0 | 0.001593 | 0 | 0 |  5 | 2 | 2 | 2 | 3 | 0 | 1 | 0 |\n| 500000 | 6 | 51.36 | 0 | 0 | 59 | 1898.21 | 0 | 0.003224 | 0 | 0 | 12 | 2 | 2 | 2 | 1 | 0 | 0 | 0 |\n\n",
            "text/latex": "A data.frame: 2 × 18\n\\begin{tabular}{r|llllllllllllllllll}\n  & Adm & AdmDur & Inf. & InfDur & Prd & PrdDur & BncRt & ExtRt & PgVal & SpclDay & Mo & OS & Bsr & Rgn & TfcTp & VstTp & Wkd & Rev\\\\\n  & <int> & <dbl> & <int> & <dbl> & <int> & <dbl> & <dbl> & <dbl> & <dbl> & <dbl> & <int> & <int> & <int> & <int> & <int> & <int> & <int> & <dbl>\\\\\n\\hline\n\t499999 & 0 &  0.00 & 0 & 0 & 27 & 1185.14 & 0 & 0.001593 & 0 & 0 &  5 & 2 & 2 & 2 & 3 & 0 & 1 & 0\\\\\n\t500000 & 6 & 51.36 & 0 & 0 & 59 & 1898.21 & 0 & 0.003224 & 0 & 0 & 12 & 2 & 2 & 2 & 1 & 0 & 0 & 0\\\\\n\\end{tabular}\n",
            "text/plain": [
              "       Adm AdmDur Inf. InfDur Prd PrdDur  BncRt ExtRt    PgVal SpclDay Mo OS\n",
              "499999 0    0.00  0    0      27  1185.14 0     0.001593 0     0        5 2 \n",
              "500000 6   51.36  0    0      59  1898.21 0     0.003224 0     0       12 2 \n",
              "       Bsr Rgn TfcTp VstTp Wkd Rev\n",
              "499999 2   2   3     0     1   0  \n",
              "500000 2   2   1     0     0   0  "
            ]
          },
          "metadata": {}
        }
      ]
    },
    {
      "cell_type": "code",
      "source": [
        "t0 = Sys.time()"
      ],
      "metadata": {
        "id": "GqnRQly_oD-g"
      },
      "execution_count": null,
      "outputs": []
    },
    {
      "cell_type": "markdown",
      "source": [
        "<hr color=red>\n",
        "\n",
        "<font size=5>⏳</font> <strong><font color=orange size=5>Your Code, Documentation, Ideas and Timer - All Start Here...</font></strong>\n",
        "\n",
        "**Student's Section** (between ⏳ symbols): add your code and documentation here."
      ],
      "metadata": {
        "id": "3NcTKbw3KhAn"
      }
    },
    {
      "cell_type": "markdown",
      "metadata": {
        "id": "WgoiydEDvor2"
      },
      "source": [
        "## **Task 1. Preprocessing Pipeline**\n",
        " \n",
        "Explain elements of your preprocessing pipeline i.e. feature engineering, subsampling, clustering, dimensionality reduction, etc. \n",
        "1. Why did you choose these elements? (Perhaps something in EDA or prior experience lead you to these)\n",
        "1. How do you evaluate the effectiveness of these elements? \n",
        "1. What else have you tried that worked or didn't? "
      ]
    },
    {
      "cell_type": "markdown",
      "metadata": {
        "id": "vIm8b5kfvor2"
      },
      "source": [
        "**Student's answer:**"
      ]
    },
    {
      "cell_type": "markdown",
      "metadata": {
        "id": "i-_qr2WXvor2"
      },
      "source": [
        "## **Task 2. Modeling Approach**\n",
        "Explain your modeling approach, i.e. ideas you tried and why you thought they would be helpful. \n",
        "\n",
        "1. How did these decisions guide you in modeling?\n",
        "1. How do you evaluate the effectiveness of these elements? \n",
        "1. What else have you tried that worked or didn't? "
      ]
    },
    {
      "cell_type": "markdown",
      "metadata": {
        "id": "BqgujO4Ivor2"
      },
      "source": [
        "**Student's answer:**"
      ]
    },
    {
      "cell_type": "markdown",
      "metadata": {
        "id": "7VbNxML7vor2"
      },
      "source": [
        "Below is a baseline model that produces the result on Kaggle leaderboard (LB)."
      ]
    },
    {
      "cell_type": "code",
      "source": [
        "set.seed(0)   # always seed your experiments for reproducibility\n",
        "m = multinom('Rev ~ . ', data=tXY[1:10000,], MaxNWts=10000)"
      ],
      "metadata": {
        "colab": {
          "base_uri": "https://localhost:8080/"
        },
        "id": "Dlt0qF_zlX1i",
        "outputId": "234bfe34-bb37-46ae-e94e-6248437a276f"
      },
      "execution_count": null,
      "outputs": [
        {
          "output_type": "stream",
          "name": "stdout",
          "text": [
            "# weights:  19 (18 variable)\n",
            "initial  value 6931.471806 \n",
            "iter  10 value 4961.223494\n",
            "iter  20 value 4306.653583\n",
            "final  value 4304.931127 \n",
            "converged\n"
          ]
        }
      ]
    },
    {
      "cell_type": "code",
      "source": [
        "t(head(pY <- setNames(data.frame(predict(m, vX)), YCol), 20))  # make predictions on the test inputs, vX"
      ],
      "metadata": {
        "colab": {
          "base_uri": "https://localhost:8080/"
        },
        "id": "ZvZLR34gliIJ",
        "outputId": "a8109555-7eb2-4684-83ff-ba6b30439faf"
      },
      "execution_count": null,
      "outputs": [
        {
          "output_type": "display_data",
          "data": {
            "text/html": [
              "<table class=\"dataframe\">\n",
              "<caption>A matrix: 1 × 20 of type chr</caption>\n",
              "<thead>\n",
              "\t<tr><th></th><th scope=col>1</th><th scope=col>2</th><th scope=col>3</th><th scope=col>4</th><th scope=col>5</th><th scope=col>6</th><th scope=col>7</th><th scope=col>8</th><th scope=col>9</th><th scope=col>10</th><th scope=col>11</th><th scope=col>12</th><th scope=col>13</th><th scope=col>14</th><th scope=col>15</th><th scope=col>16</th><th scope=col>17</th><th scope=col>18</th><th scope=col>19</th><th scope=col>20</th></tr>\n",
              "</thead>\n",
              "<tbody>\n",
              "\t<tr><th scope=row>Rev</th><td>0</td><td>0</td><td>0</td><td>0</td><td>0</td><td>0</td><td>0</td><td>0</td><td>0</td><td>0</td><td>0</td><td>0</td><td>0</td><td>0</td><td>0</td><td>0</td><td>0</td><td>0</td><td>0</td><td>0</td></tr>\n",
              "</tbody>\n",
              "</table>\n"
            ],
            "text/markdown": "\nA matrix: 1 × 20 of type chr\n\n| <!--/--> | 1 | 2 | 3 | 4 | 5 | 6 | 7 | 8 | 9 | 10 | 11 | 12 | 13 | 14 | 15 | 16 | 17 | 18 | 19 | 20 |\n|---|---|---|---|---|---|---|---|---|---|---|---|---|---|---|---|---|---|---|---|---|\n| Rev | 0 | 0 | 0 | 0 | 0 | 0 | 0 | 0 | 0 | 0 | 0 | 0 | 0 | 0 | 0 | 0 | 0 | 0 | 0 | 0 |\n\n",
            "text/latex": "A matrix: 1 × 20 of type chr\n\\begin{tabular}{r|llllllllllllllllllll}\n  & 1 & 2 & 3 & 4 & 5 & 6 & 7 & 8 & 9 & 10 & 11 & 12 & 13 & 14 & 15 & 16 & 17 & 18 & 19 & 20\\\\\n\\hline\n\tRev & 0 & 0 & 0 & 0 & 0 & 0 & 0 & 0 & 0 & 0 & 0 & 0 & 0 & 0 & 0 & 0 & 0 & 0 & 0 & 0\\\\\n\\end{tabular}\n",
            "text/plain": [
              "    1 2 3 4 5 6 7 8 9 10 11 12 13 14 15 16 17 18 19 20\n",
              "Rev 0 0 0 0 0 0 0 0 0 0  0  0  0  0  0  0  0  0  0  0 "
            ]
          },
          "metadata": {}
        }
      ]
    },
    {
      "cell_type": "code",
      "source": [
        "write.csv(cbind(id=1:nrow(pY), pY), file='MySubmission.csv', row.names=F)  # write to CSV file"
      ],
      "metadata": {
        "id": "KAVbSPYglkh9"
      },
      "execution_count": null,
      "outputs": []
    },
    {
      "cell_type": "code",
      "source": [
        "table(tY$Rev)/nrow(tY)\n",
        "table(pY$Rev)/nrow(pY)"
      ],
      "metadata": {
        "colab": {
          "base_uri": "https://localhost:8080/"
        },
        "id": "mPBsL6-u9Mzj",
        "outputId": "e0d90e8c-e183-4bb8-f164-fa948fbcad44"
      },
      "execution_count": null,
      "outputs": [
        {
          "output_type": "display_data",
          "data": {
            "text/plain": [
              "\n",
              "        0         1 \n",
              "0.7758667 0.2241333 "
            ]
          },
          "metadata": {}
        },
        {
          "output_type": "display_data",
          "data": {
            "text/plain": [
              "\n",
              "      0       1 \n",
              "0.92058 0.07942 "
            ]
          },
          "metadata": {}
        }
      ]
    },
    {
      "cell_type": "markdown",
      "source": [
        "# **References:**"
      ],
      "metadata": {
        "id": "pzBsjCvS_kEw"
      }
    },
    {
      "cell_type": "markdown",
      "source": [
        "1. Remember to cite your sources!\n"
      ],
      "metadata": {
        "id": "2kr8Q-9T_nAb"
      }
    },
    {
      "cell_type": "markdown",
      "metadata": {
        "id": "pB0a5X5NunFU"
      },
      "source": [
        "<font size=5>⌛</font> <strong><font color=orange size=5>Do not exceed competition's runtime limit!</font></strong>\n",
        "\n",
        "<hr color=red>\n"
      ]
    },
    {
      "cell_type": "code",
      "source": [
        "RunTime = round(difftime(Sys.time(), t0, units = \"secs\")[[1]])\n",
        "msg = paste0('Runtime is ',RunTime,' sec. Time limit is ', timeLimit, ' sec')\n",
        "cat(bold(ifelse(timeLimit<RunTime, red(paste0('Limit exceeded!!! ', msg)), green(msg))))"
      ],
      "metadata": {
        "colab": {
          "base_uri": "https://localhost:8080/"
        },
        "id": "rD4dgLPzoJAm",
        "outputId": "e56e863d-46c8-4e16-fcaf-024b416ac321"
      },
      "execution_count": null,
      "outputs": [
        {
          "output_type": "stream",
          "name": "stdout",
          "text": [
            "\u001b[1m\u001b[32mRuntime is 1 sec. Time limit is 120 sec\u001b[39m\u001b[22m"
          ]
        }
      ]
    },
    {
      "cell_type": "markdown",
      "metadata": {
        "id": "oUStTaN4uo_Z"
      },
      "source": [
        "## 💡**Starter Ideas**"
      ]
    },
    {
      "cell_type": "markdown",
      "source": [
        "**Model**\n",
        "1. Tune model hyperparameters, batch size, optimizer, NN layers\n",
        "\n",
        "**Features**\n",
        "1. Try to linear and non-linear feature normalization: shift/scale, log, divide features by features (investigate scatterplot matrix)\n",
        "1. Try higher order feature interactions and polynomial features on a small subsample. Then identify key features or select key principal components. The final model can be trained on a larger or even full training sample. You can use [PCA](https://scikit-learn.org/stable/modules/generated/sklearn.decomposition.PCA.html) to reduce the feature set\n",
        "1. Incorporate categorical features (appropriately encoded)\n",
        "  1. E.g. you could replace codes (or groups of codes) with their frequencies, which may capture the implied \"distance\" or rarity between category levels.\n",
        "  1. If encoding ordinal features with integers, should non-equidistant values be considered?\n",
        "\n",
        "**Training observations**\n",
        "1. Try clustering methods to remove similar observations. You may also try dimension reduction methods (eg. PCA) on the transposed data matrix (if it has scaled numeric features).\n",
        "1. Look for and deal with outliers or influential points in the training set\n",
        "1. Deal with **imbalanced sample**: oversample smaller class, or undersample larger class, or provide observation weights or provide class weights, or seek a suitable loss function\n",
        "1. Investigate distributions of features. Any missing values? Any zero values?\n",
        "\n",
        "**Predictions**\n",
        "1. Evaluate predictions and focus on poorly predicted \"groups\":\n",
        "  1. Strongest misclassifications. E.g. the model is very confident about the wrong label\n",
        "  1. Evaluate predictions near decision boundaries.\n",
        "\n",
        "**EDA and Domain Expertise**\n",
        "1. Do a thorough EDA: look for feature augmentations that result in linear decision boundaries between pairs of classes.\n",
        "1. Learn about the domain: how should output relate to features? How do month or weekend impact users' buying activity?\n",
        "  1. User Agent [&#127910;](https://www.youtube.com/results?search_query=user+agent+browser), Google Analytics [&#127910;](https://www.youtube.com/results?search_query=google+analytics), tracking online shopping intent [&#127910;](https://www.youtube.com/results?search_query=tacking+online+shopping+intent), [📄](https://scholar.google.com/scholar?q=tracking+online+shopping+intent)"
      ],
      "metadata": {
        "id": "YsqoYee9xtoG"
      }
    },
    {
      "cell_type": "code",
      "source": [],
      "metadata": {
        "id": "a0ruW1CK_OGj"
      },
      "execution_count": null,
      "outputs": []
    }
  ]
}