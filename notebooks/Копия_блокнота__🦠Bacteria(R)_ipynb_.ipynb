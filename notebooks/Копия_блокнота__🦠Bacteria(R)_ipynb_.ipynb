{
  "nbformat": 4,
  "nbformat_minor": 0,
  "metadata": {
    "colab": {
      "provenance": []
    },
    "kernelspec": {
      "name": "ir",
      "display_name": "R"
    },
    "language_info": {
      "name": "R"
    }
  },
  "cells": [
    {
      "cell_type": "code",
      "source": [
        "download.file('https://github.com/omelnikov/Rlib/raw/main/library1.zip', 'library1.zip', quiet=T, mode='wb') # download zip of installed packages\n",
        "download.file('https://github.com/omelnikov/Rlib/raw/main/library2.zip', 'library2.zip', quiet=T, mode='wb') # download zip of installed packages\n",
        "download.file('https://github.com/omelnikov/Rlib/raw/main/library3.zip', 'library3.zip', quiet=T, mode='wb') # download zip of installed packages\n",
        "unzip('library1.zip', exdir='/')  # unzip package folders to the user's library folder\n",
        "unzip('library2.zip', exdir='/')  # unzip package folders to the user's library folder\n",
        "unzip('library3.zip', exdir='/')  # unzip package folders to the user's library folder\n",
        "paste(list.files('/usr/local/lib/R/site-library'), collapse=', ')  # list of installed packages\n",
        "paste(list.files('/usr/lib/R/library'), collapse=', ')\n",
        "paste(list.files('/usr/lib/R/site-library'), collapse=', ')"
      ],
      "metadata": {
        "colab": {
          "base_uri": "https://localhost:8080/",
          "height": 312
        },
        "id": "5alqlm-yHH-T",
        "outputId": "5befb8ef-4a6e-4878-c2e5-a413e9e4ca77"
      },
      "execution_count": null,
      "outputs": [
        {
          "output_type": "display_data",
          "data": {
            "text/html": [
              "'abind, Biobase, BiocGenerics, BiocManager, BiocVersion, bitops, bslib, butcher, C50, carData, caret, caretEnsemble, caTools, class, classInt, cli, combinat, config, conflicted, corrplot, cowplot, crayon, crosstalk, cubature, Cubist, data.table, dendextend, Deriv, dials, DiceDesign, doParallel, dplyr, DT, e1071, earth, ellipse, flashClust, FNN, fontawesome, foreach, Formula, furrr, future, future.apply, gginference, ggplot2, ggrepel, ggsci, ggsignif, glmnet, globals, glue, gower, GPfit, gridBase, gridExtra, hardhat, here, HiDimDA, htmlwidgets, httpuv, igraph, infer, inum, ipred, IRdisplay, IRkernel, ISLR, iterators, jsonlite, kaggler, keras, klaR, labelled, lars, later, latex2exp, lattice, lava, lazyeval, leaps, lhs, libcoin, listenv, lobstr, magrittr, maptools, MASS, MatrixModels, mclust, mgcv, miniUI, minqa, misc3d, mlbench, mnormt, modeldata, ModelMetrics, mvtnorm, neuralnet, nnet, np, numDeriv, pamr, parallelly, parsnip, partykit, patchwork, pbapply, pbdZMQ, pcaMethods, pkgmaker, plot3D, plotmo, plotrix, pls, plyr, png, polynom, prim, pROC, prodlim, progressr, promises, proxy, psych, quadprog, quantreg, questionr, R.cache, R.methodsS3, R.oo, R.utils, randomForest, RcppEigen, RcppTOML, recipes, registry, repr, reshape2, reticulate, rngtools, rpart, rsample, sass, scatterplot3d, shape, shiny, slider, sourcetools, sp, SparseM, SQUAREM, stacks, styler, superpc, TeachingDemos, tensorflow, tfautograph, tfruns, tictoc, tidymodels, tidyverse, timeDate, tmvnsim, tune, viridis, warp, wavelets, waveslim, workflows, workflowsets, xtable, yardstick, zeallot'"
            ],
            "text/markdown": "'abind, Biobase, BiocGenerics, BiocManager, BiocVersion, bitops, bslib, butcher, C50, carData, caret, caretEnsemble, caTools, class, classInt, cli, combinat, config, conflicted, corrplot, cowplot, crayon, crosstalk, cubature, Cubist, data.table, dendextend, Deriv, dials, DiceDesign, doParallel, dplyr, DT, e1071, earth, ellipse, flashClust, FNN, fontawesome, foreach, Formula, furrr, future, future.apply, gginference, ggplot2, ggrepel, ggsci, ggsignif, glmnet, globals, glue, gower, GPfit, gridBase, gridExtra, hardhat, here, HiDimDA, htmlwidgets, httpuv, igraph, infer, inum, ipred, IRdisplay, IRkernel, ISLR, iterators, jsonlite, kaggler, keras, klaR, labelled, lars, later, latex2exp, lattice, lava, lazyeval, leaps, lhs, libcoin, listenv, lobstr, magrittr, maptools, MASS, MatrixModels, mclust, mgcv, miniUI, minqa, misc3d, mlbench, mnormt, modeldata, ModelMetrics, mvtnorm, neuralnet, nnet, np, numDeriv, pamr, parallelly, parsnip, partykit, patchwork, pbapply, pbdZMQ, pcaMethods, pkgmaker, plot3D, plotmo, plotrix, pls, plyr, png, polynom, prim, pROC, prodlim, progressr, promises, proxy, psych, quadprog, quantreg, questionr, R.cache, R.methodsS3, R.oo, R.utils, randomForest, RcppEigen, RcppTOML, recipes, registry, repr, reshape2, reticulate, rngtools, rpart, rsample, sass, scatterplot3d, shape, shiny, slider, sourcetools, sp, SparseM, SQUAREM, stacks, styler, superpc, TeachingDemos, tensorflow, tfautograph, tfruns, tictoc, tidymodels, tidyverse, timeDate, tmvnsim, tune, viridis, warp, wavelets, waveslim, workflows, workflowsets, xtable, yardstick, zeallot'",
            "text/latex": "'abind, Biobase, BiocGenerics, BiocManager, BiocVersion, bitops, bslib, butcher, C50, carData, caret, caretEnsemble, caTools, class, classInt, cli, combinat, config, conflicted, corrplot, cowplot, crayon, crosstalk, cubature, Cubist, data.table, dendextend, Deriv, dials, DiceDesign, doParallel, dplyr, DT, e1071, earth, ellipse, flashClust, FNN, fontawesome, foreach, Formula, furrr, future, future.apply, gginference, ggplot2, ggrepel, ggsci, ggsignif, glmnet, globals, glue, gower, GPfit, gridBase, gridExtra, hardhat, here, HiDimDA, htmlwidgets, httpuv, igraph, infer, inum, ipred, IRdisplay, IRkernel, ISLR, iterators, jsonlite, kaggler, keras, klaR, labelled, lars, later, latex2exp, lattice, lava, lazyeval, leaps, lhs, libcoin, listenv, lobstr, magrittr, maptools, MASS, MatrixModels, mclust, mgcv, miniUI, minqa, misc3d, mlbench, mnormt, modeldata, ModelMetrics, mvtnorm, neuralnet, nnet, np, numDeriv, pamr, parallelly, parsnip, partykit, patchwork, pbapply, pbdZMQ, pcaMethods, pkgmaker, plot3D, plotmo, plotrix, pls, plyr, png, polynom, prim, pROC, prodlim, progressr, promises, proxy, psych, quadprog, quantreg, questionr, R.cache, R.methodsS3, R.oo, R.utils, randomForest, RcppEigen, RcppTOML, recipes, registry, repr, reshape2, reticulate, rngtools, rpart, rsample, sass, scatterplot3d, shape, shiny, slider, sourcetools, sp, SparseM, SQUAREM, stacks, styler, superpc, TeachingDemos, tensorflow, tfautograph, tfruns, tictoc, tidymodels, tidyverse, timeDate, tmvnsim, tune, viridis, warp, wavelets, waveslim, workflows, workflowsets, xtable, yardstick, zeallot'",
            "text/plain": [
              "[1] \"abind, Biobase, BiocGenerics, BiocManager, BiocVersion, bitops, bslib, butcher, C50, carData, caret, caretEnsemble, caTools, class, classInt, cli, combinat, config, conflicted, corrplot, cowplot, crayon, crosstalk, cubature, Cubist, data.table, dendextend, Deriv, dials, DiceDesign, doParallel, dplyr, DT, e1071, earth, ellipse, flashClust, FNN, fontawesome, foreach, Formula, furrr, future, future.apply, gginference, ggplot2, ggrepel, ggsci, ggsignif, glmnet, globals, glue, gower, GPfit, gridBase, gridExtra, hardhat, here, HiDimDA, htmlwidgets, httpuv, igraph, infer, inum, ipred, IRdisplay, IRkernel, ISLR, iterators, jsonlite, kaggler, keras, klaR, labelled, lars, later, latex2exp, lattice, lava, lazyeval, leaps, lhs, libcoin, listenv, lobstr, magrittr, maptools, MASS, MatrixModels, mclust, mgcv, miniUI, minqa, misc3d, mlbench, mnormt, modeldata, ModelMetrics, mvtnorm, neuralnet, nnet, np, numDeriv, pamr, parallelly, parsnip, partykit, patchwork, pbapply, pbdZMQ, pcaMethods, pkgmaker, plot3D, plotmo, plotrix, pls, plyr, png, polynom, prim, pROC, prodlim, progressr, promises, proxy, psych, quadprog, quantreg, questionr, R.cache, R.methodsS3, R.oo, R.utils, randomForest, RcppEigen, RcppTOML, recipes, registry, repr, reshape2, reticulate, rngtools, rpart, rsample, sass, scatterplot3d, shape, shiny, slider, sourcetools, sp, SparseM, SQUAREM, stacks, styler, superpc, TeachingDemos, tensorflow, tfautograph, tfruns, tictoc, tidymodels, tidyverse, timeDate, tmvnsim, tune, viridis, warp, wavelets, waveslim, workflows, workflowsets, xtable, yardstick, zeallot\""
            ]
          },
          "metadata": {}
        },
        {
          "output_type": "display_data",
          "data": {
            "text/html": [
              "'base, boot, class, cluster, codetools, compiler, datasets, foreign, graphics, grDevices, grid, KernSmooth, lattice, MASS, Matrix, methods, mgcv, nlme, nnet, parallel, rpart, spatial, splines, stats, stats4, survival, tcltk, tools, translations, utils'"
            ],
            "text/markdown": "'base, boot, class, cluster, codetools, compiler, datasets, foreign, graphics, grDevices, grid, KernSmooth, lattice, MASS, Matrix, methods, mgcv, nlme, nnet, parallel, rpart, spatial, splines, stats, stats4, survival, tcltk, tools, translations, utils'",
            "text/latex": "'base, boot, class, cluster, codetools, compiler, datasets, foreign, graphics, grDevices, grid, KernSmooth, lattice, MASS, Matrix, methods, mgcv, nlme, nnet, parallel, rpart, spatial, splines, stats, stats4, survival, tcltk, tools, translations, utils'",
            "text/plain": [
              "[1] \"base, boot, class, cluster, codetools, compiler, datasets, foreign, graphics, grDevices, grid, KernSmooth, lattice, MASS, Matrix, methods, mgcv, nlme, nnet, parallel, rpart, spatial, splines, stats, stats4, survival, tcltk, tools, translations, utils\""
            ]
          },
          "metadata": {}
        },
        {
          "output_type": "display_data",
          "data": {
            "text/html": [
              "'askpass, backports, base64enc, bit, bit64, blob, brew, brio, broom, bslib, cachem, callr, cellranger, cli, clipr, colorspace, commonmark, cpp11, crayon, credentials, curl, data.table, DBI, dbplyr, desc, devtools, diffobj, digest, dplyr, dtplyr, ellipsis, evaluate, fansi, farver, fastmap, forcats, fs, gargle, generics, gert, ggplot2, gh, gitcreds, glue, googledrive, googlesheets4, gtable, haven, highr, hms, htmltools, httr, httr2, ids, ini, isoband, jquerylib, jsonlite, knitr, labeling, lifecycle, lubridate, magrittr, memoise, mime, modelr, munsell, openssl, pillar, pkgbuild, pkgconfig, pkgload, praise, prettyunits, processx, progress, ps, purrr, R6, rappdirs, rcmdcheck, RColorBrewer, readr, readxl, rematch, rematch2, remotes, reprex, rlang, rmarkdown, roxygen2, rprojroot, rstudioapi, rversions, rvest, sass, scales, selectr, sessioninfo, stringi, stringr, svglite, sys, systemfonts, testthat, tibble, tidyr, tidyselect, tidyverse, timechange, tinytex, tzdb, usethis, utf8, uuid, vctrs, viridisLite, vroom, waldo, whisker, withr, xfun, xml2, xopen, yaml, zip'"
            ],
            "text/markdown": "'askpass, backports, base64enc, bit, bit64, blob, brew, brio, broom, bslib, cachem, callr, cellranger, cli, clipr, colorspace, commonmark, cpp11, crayon, credentials, curl, data.table, DBI, dbplyr, desc, devtools, diffobj, digest, dplyr, dtplyr, ellipsis, evaluate, fansi, farver, fastmap, forcats, fs, gargle, generics, gert, ggplot2, gh, gitcreds, glue, googledrive, googlesheets4, gtable, haven, highr, hms, htmltools, httr, httr2, ids, ini, isoband, jquerylib, jsonlite, knitr, labeling, lifecycle, lubridate, magrittr, memoise, mime, modelr, munsell, openssl, pillar, pkgbuild, pkgconfig, pkgload, praise, prettyunits, processx, progress, ps, purrr, R6, rappdirs, rcmdcheck, RColorBrewer, readr, readxl, rematch, rematch2, remotes, reprex, rlang, rmarkdown, roxygen2, rprojroot, rstudioapi, rversions, rvest, sass, scales, selectr, sessioninfo, stringi, stringr, svglite, sys, systemfonts, testthat, tibble, tidyr, tidyselect, tidyverse, timechange, tinytex, tzdb, usethis, utf8, uuid, vctrs, viridisLite, vroom, waldo, whisker, withr, xfun, xml2, xopen, yaml, zip'",
            "text/latex": "'askpass, backports, base64enc, bit, bit64, blob, brew, brio, broom, bslib, cachem, callr, cellranger, cli, clipr, colorspace, commonmark, cpp11, crayon, credentials, curl, data.table, DBI, dbplyr, desc, devtools, diffobj, digest, dplyr, dtplyr, ellipsis, evaluate, fansi, farver, fastmap, forcats, fs, gargle, generics, gert, ggplot2, gh, gitcreds, glue, googledrive, googlesheets4, gtable, haven, highr, hms, htmltools, httr, httr2, ids, ini, isoband, jquerylib, jsonlite, knitr, labeling, lifecycle, lubridate, magrittr, memoise, mime, modelr, munsell, openssl, pillar, pkgbuild, pkgconfig, pkgload, praise, prettyunits, processx, progress, ps, purrr, R6, rappdirs, rcmdcheck, RColorBrewer, readr, readxl, rematch, rematch2, remotes, reprex, rlang, rmarkdown, roxygen2, rprojroot, rstudioapi, rversions, rvest, sass, scales, selectr, sessioninfo, stringi, stringr, svglite, sys, systemfonts, testthat, tibble, tidyr, tidyselect, tidyverse, timechange, tinytex, tzdb, usethis, utf8, uuid, vctrs, viridisLite, vroom, waldo, whisker, withr, xfun, xml2, xopen, yaml, zip'",
            "text/plain": [
              "[1] \"askpass, backports, base64enc, bit, bit64, blob, brew, brio, broom, bslib, cachem, callr, cellranger, cli, clipr, colorspace, commonmark, cpp11, crayon, credentials, curl, data.table, DBI, dbplyr, desc, devtools, diffobj, digest, dplyr, dtplyr, ellipsis, evaluate, fansi, farver, fastmap, forcats, fs, gargle, generics, gert, ggplot2, gh, gitcreds, glue, googledrive, googlesheets4, gtable, haven, highr, hms, htmltools, httr, httr2, ids, ini, isoband, jquerylib, jsonlite, knitr, labeling, lifecycle, lubridate, magrittr, memoise, mime, modelr, munsell, openssl, pillar, pkgbuild, pkgconfig, pkgload, praise, prettyunits, processx, progress, ps, purrr, R6, rappdirs, rcmdcheck, RColorBrewer, readr, readxl, rematch, rematch2, remotes, reprex, rlang, rmarkdown, roxygen2, rprojroot, rstudioapi, rversions, rvest, sass, scales, selectr, sessioninfo, stringi, stringr, svglite, sys, systemfonts, testthat, tibble, tidyr, tidyselect, tidyverse, timechange, tinytex, tzdb, usethis, utf8, uuid, vctrs, viridisLite, vroom, waldo, whisker, withr, xfun, xml2, xopen, yaml, zip\""
            ]
          },
          "metadata": {}
        }
      ]
    },
    {
      "cell_type": "code",
      "source": [
        "LibsToLoad = c('httr', 'RColorBrewer', 'caret', 'caretEnsemble', 'nnet', 'stacks', 'glmnet', 'rpart', 'neuralnet')\n",
        "tmp = lapply(LibsToLoad, require, character.only=T, quietly=T, warn.conflicts=F)  # load multiple packages at once\n",
        "options(repr.plot.width=20, repr.plot.height=8)   # set default plot size "
      ],
      "metadata": {
        "id": "ZjuIAuNiT2Jb"
      },
      "execution_count": null,
      "outputs": []
    },
    {
      "cell_type": "code",
      "execution_count": null,
      "metadata": {
        "id": "pcYjgu6TFSNU",
        "colab": {
          "base_uri": "https://localhost:8080/",
          "height": 226
        },
        "outputId": "525af51e-5bb3-4d06-f79a-a86264a66e96"
      },
      "outputs": [
        {
          "output_type": "display_data",
          "data": {
            "text/html": [
              "<style>\n",
              ".list-inline {list-style: none; margin:0; padding: 0}\n",
              ".list-inline>li {display: inline-block}\n",
              ".list-inline>li:not(:last-child)::after {content: \"\\00b7\"; padding: 0 .5ex}\n",
              "</style>\n",
              "<ol class=list-inline><li><span style=white-space:pre-wrap>'Archive:  XY_Bacteria.zip'</span></li><li><span style=white-space:pre-wrap>'  inflating: XY_Bacteria.csv         '</span></li></ol>\n"
            ],
            "text/markdown": "1. <span style=white-space:pre-wrap>'Archive:  XY_Bacteria.zip'</span>\n2. <span style=white-space:pre-wrap>'  inflating: XY_Bacteria.csv         '</span>\n\n\n",
            "text/latex": "\\begin{enumerate*}\n\\item 'Archive:  XY\\_Bacteria.zip'\n\\item '  inflating: XY\\_Bacteria.csv         '\n\\end{enumerate*}\n",
            "text/plain": [
              "[1] \"Archive:  XY_Bacteria.zip\"            \n",
              "[2] \"  inflating: XY_Bacteria.csv         \""
            ]
          },
          "metadata": {}
        },
        {
          "output_type": "display_data",
          "data": {
            "text/html": [
              "<strong>$submissions</strong> = <table class=\"dataframe\">\n",
              "<caption>A data.frame: 3 × 8</caption>\n",
              "<thead>\n",
              "\t<tr><th></th><th scope=col>teamNameNullable</th><th scope=col>scoreNullable</th><th scope=col>teamId</th><th scope=col>teamName</th><th scope=col>hasTeamName</th><th scope=col>submissionDate</th><th scope=col>score</th><th scope=col>hasScore</th></tr>\n",
              "\t<tr><th></th><th scope=col>&lt;chr&gt;</th><th scope=col>&lt;chr&gt;</th><th scope=col>&lt;int&gt;</th><th scope=col>&lt;chr&gt;</th><th scope=col>&lt;lgl&gt;</th><th scope=col>&lt;chr&gt;</th><th scope=col>&lt;chr&gt;</th><th scope=col>&lt;lgl&gt;</th></tr>\n",
              "</thead>\n",
              "<tbody>\n",
              "\t<tr><th scope=row>1</th><td>Vera Kabanova      </td><td>0.79420</td><td>9997112</td><td>Vera Kabanova      </td><td>TRUE</td><td>2023-03-06T09:07:19.3566667Z</td><td>0.79420</td><td>TRUE</td></tr>\n",
              "\t<tr><th scope=row>2</th><td>Grigorii Chebotarev</td><td>0.79200</td><td>9957630</td><td>Grigorii Chebotarev</td><td>TRUE</td><td>2023-03-05T18:35:43.0433333Z</td><td>0.79200</td><td>TRUE</td></tr>\n",
              "\t<tr><th scope=row>3</th><td>🦠Baseline,R       </td><td>0.79080</td><td>9915016</td><td>🦠Baseline,R       </td><td>TRUE</td><td>2023-02-19T19:52:54.85Z     </td><td>0.79080</td><td>TRUE</td></tr>\n",
              "</tbody>\n",
              "</table>\n"
            ],
            "text/markdown": "**$submissions** = \nA data.frame: 3 × 8\n\n| <!--/--> | teamNameNullable &lt;chr&gt; | scoreNullable &lt;chr&gt; | teamId &lt;int&gt; | teamName &lt;chr&gt; | hasTeamName &lt;lgl&gt; | submissionDate &lt;chr&gt; | score &lt;chr&gt; | hasScore &lt;lgl&gt; |\n|---|---|---|---|---|---|---|---|---|\n| 1 | Vera Kabanova       | 0.79420 | 9997112 | Vera Kabanova       | TRUE | 2023-03-06T09:07:19.3566667Z | 0.79420 | TRUE |\n| 2 | Grigorii Chebotarev | 0.79200 | 9957630 | Grigorii Chebotarev | TRUE | 2023-03-05T18:35:43.0433333Z | 0.79200 | TRUE |\n| 3 | 🦠Baseline,R        | 0.79080 | 9915016 | 🦠Baseline,R        | TRUE | 2023-02-19T19:52:54.85Z      | 0.79080 | TRUE |\n\n",
            "text/latex": "\\textbf{\\$submissions} = A data.frame: 3 × 8\n\\begin{tabular}{r|llllllll}\n  & teamNameNullable & scoreNullable & teamId & teamName & hasTeamName & submissionDate & score & hasScore\\\\\n  & <chr> & <chr> & <int> & <chr> & <lgl> & <chr> & <chr> & <lgl>\\\\\n\\hline\n\t1 & Vera Kabanova       & 0.79420 & 9997112 & Vera Kabanova       & TRUE & 2023-03-06T09:07:19.3566667Z & 0.79420 & TRUE\\\\\n\t2 & Grigorii Chebotarev & 0.79200 & 9957630 & Grigorii Chebotarev & TRUE & 2023-03-05T18:35:43.0433333Z & 0.79200 & TRUE\\\\\n\t3 & 🦠Baseline,R        & 0.79080 & 9915016 & 🦠Baseline,R        & TRUE & 2023-02-19T19:52:54.85Z      & 0.79080 & TRUE\\\\\n\\end{tabular}\n",
            "text/plain": [
              "$submissions\n",
              "     teamNameNullable scoreNullable  teamId            teamName hasTeamName\n",
              "1       Vera Kabanova       0.79420 9997112       Vera Kabanova        TRUE\n",
              "2 Grigorii Chebotarev       0.79200 9957630 Grigorii Chebotarev        TRUE\n",
              "3        🦠Baseline,R       0.79080 9915016        🦠Baseline,R        TRUE\n",
              "                submissionDate   score hasScore\n",
              "1 2023-03-06T09:07:19.3566667Z 0.79420     TRUE\n",
              "2 2023-03-05T18:35:43.0433333Z 0.79200     TRUE\n",
              "3      2023-02-19T19:52:54.85Z 0.79080     TRUE\n"
            ]
          },
          "metadata": {}
        }
      ],
      "source": [
        "Competition = '19feb23ml-bacteria'\n",
        "FileCSV = 'XY_Bacteria.csv'\n",
        "FileZip = 'XY_Bacteria.zip'\n",
        "# capture.output( kaggler::kgl_auth(creds_file='kaggle.json'), file='log_auth.txt')     # log is deleted when session ends\n",
        "url = paste0('https://www.kaggle.com/api/v1/competitions/data/download/', Competition,'/', FileCSV)\n",
        "FileURL = httr::GET(url, kaggler::kgl_auth())$url   # extract full path to zipped data file\n",
        "download.file(FileURL, FileZip, quiet=T, mode=\"wb\") # download zipped data file\n",
        "system(paste0('unzip ', FileZip), intern=T)         # oddly unzip() fails to properly unzip\n",
        "kaggler::kgl_competitions_leaderboard_view(Competition)\n",
        "timeLimit = 60  # seconds"
      ]
    },
    {
      "cell_type": "code",
      "source": [
        "XY = read.csv(FileCSV, na.strings=\"\", stringsAsFactors=T)  # replace \"\" with NA\n",
        "YCol = 'y'       # target column\n",
        "NumericCols =  unlist(lapply(XY, is.numeric))   # find numeric columns\n",
        "vX = XY[is.na(XY[YCol]), !(names(XY) %in% c(YCol))]  # testing inputs only\n",
        "tXY = XY[!is.na(XY[YCol]), ]  # training inputs with output\n",
        "tY = tXY[YCol]                # training response\n",
        "tX = tail(tXY[,1:(ncol(tXY)-1)])\n",
        "tail(vX, 2)  # a few rows from the test set\n",
        "tail(tX, 2)  # a few rows from the train set\n",
        "tail(tXY, 2) # a few rows from the training set"
      ],
      "metadata": {
        "colab": {
          "base_uri": "https://localhost:8080/",
          "height": 467
        },
        "id": "XFKiXDmLLO45",
        "outputId": "ec261cd3-0674-426e-b1d4-145c36a601c7"
      },
      "execution_count": null,
      "outputs": [
        {
          "output_type": "display_data",
          "data": {
            "text/html": [
              "<table class=\"dataframe\">\n",
              "<caption>A data.frame: 2 × 286</caption>\n",
              "<thead>\n",
              "\t<tr><th></th><th scope=col>A0T0G0C10</th><th scope=col>A0T0G1C9</th><th scope=col>A0T0G2C8</th><th scope=col>A0T0G3C7</th><th scope=col>A0T0G4C6</th><th scope=col>A0T0G5C5</th><th scope=col>A0T0G6C4</th><th scope=col>A0T0G7C3</th><th scope=col>A0T0G8C2</th><th scope=col>A0T0G9C1</th><th scope=col>⋯</th><th scope=col>A8T0G0C2</th><th scope=col>A8T0G1C1</th><th scope=col>A8T0G2C0</th><th scope=col>A8T1G0C1</th><th scope=col>A8T1G1C0</th><th scope=col>A8T2G0C0</th><th scope=col>A9T0G0C1</th><th scope=col>A9T0G1C0</th><th scope=col>A9T1G0C0</th><th scope=col>A10T0G0C0</th></tr>\n",
              "\t<tr><th></th><th scope=col>&lt;int&gt;</th><th scope=col>&lt;int&gt;</th><th scope=col>&lt;int&gt;</th><th scope=col>&lt;int&gt;</th><th scope=col>&lt;int&gt;</th><th scope=col>&lt;int&gt;</th><th scope=col>&lt;int&gt;</th><th scope=col>&lt;int&gt;</th><th scope=col>&lt;int&gt;</th><th scope=col>&lt;int&gt;</th><th scope=col>⋯</th><th scope=col>&lt;int&gt;</th><th scope=col>&lt;int&gt;</th><th scope=col>&lt;int&gt;</th><th scope=col>&lt;int&gt;</th><th scope=col>&lt;int&gt;</th><th scope=col>&lt;int&gt;</th><th scope=col>&lt;int&gt;</th><th scope=col>&lt;int&gt;</th><th scope=col>&lt;int&gt;</th><th scope=col>&lt;int&gt;</th></tr>\n",
              "</thead>\n",
              "<tbody>\n",
              "\t<tr><th scope=row>9999</th><td>10</td><td>31</td><td>66</td><td>107</td><td>142</td><td>156</td><td>143</td><td>107</td><td>66</td><td>31</td><td>⋯</td><td>420</td><td>296</td><td>303</td><td>421</td><td>302</td><td>306</td><td>31</td><td>31</td><td>31</td><td>10</td></tr>\n",
              "\t<tr><th scope=row>10000</th><td>10</td><td>31</td><td>66</td><td>107</td><td>142</td><td>155</td><td>142</td><td>108</td><td>66</td><td>31</td><td>⋯</td><td> 66</td><td>429</td><td>307</td><td> 93</td><td> 93</td><td> 66</td><td>31</td><td>31</td><td>31</td><td>10</td></tr>\n",
              "</tbody>\n",
              "</table>\n"
            ],
            "text/markdown": "\nA data.frame: 2 × 286\n\n| <!--/--> | A0T0G0C10 &lt;int&gt; | A0T0G1C9 &lt;int&gt; | A0T0G2C8 &lt;int&gt; | A0T0G3C7 &lt;int&gt; | A0T0G4C6 &lt;int&gt; | A0T0G5C5 &lt;int&gt; | A0T0G6C4 &lt;int&gt; | A0T0G7C3 &lt;int&gt; | A0T0G8C2 &lt;int&gt; | A0T0G9C1 &lt;int&gt; | ⋯ ⋯ | A8T0G0C2 &lt;int&gt; | A8T0G1C1 &lt;int&gt; | A8T0G2C0 &lt;int&gt; | A8T1G0C1 &lt;int&gt; | A8T1G1C0 &lt;int&gt; | A8T2G0C0 &lt;int&gt; | A9T0G0C1 &lt;int&gt; | A9T0G1C0 &lt;int&gt; | A9T1G0C0 &lt;int&gt; | A10T0G0C0 &lt;int&gt; |\n|---|---|---|---|---|---|---|---|---|---|---|---|---|---|---|---|---|---|---|---|---|---|\n| 9999 | 10 | 31 | 66 | 107 | 142 | 156 | 143 | 107 | 66 | 31 | ⋯ | 420 | 296 | 303 | 421 | 302 | 306 | 31 | 31 | 31 | 10 |\n| 10000 | 10 | 31 | 66 | 107 | 142 | 155 | 142 | 108 | 66 | 31 | ⋯ |  66 | 429 | 307 |  93 |  93 |  66 | 31 | 31 | 31 | 10 |\n\n",
            "text/latex": "A data.frame: 2 × 286\n\\begin{tabular}{r|lllllllllllllllllllll}\n  & A0T0G0C10 & A0T0G1C9 & A0T0G2C8 & A0T0G3C7 & A0T0G4C6 & A0T0G5C5 & A0T0G6C4 & A0T0G7C3 & A0T0G8C2 & A0T0G9C1 & ⋯ & A8T0G0C2 & A8T0G1C1 & A8T0G2C0 & A8T1G0C1 & A8T1G1C0 & A8T2G0C0 & A9T0G0C1 & A9T0G1C0 & A9T1G0C0 & A10T0G0C0\\\\\n  & <int> & <int> & <int> & <int> & <int> & <int> & <int> & <int> & <int> & <int> & ⋯ & <int> & <int> & <int> & <int> & <int> & <int> & <int> & <int> & <int> & <int>\\\\\n\\hline\n\t9999 & 10 & 31 & 66 & 107 & 142 & 156 & 143 & 107 & 66 & 31 & ⋯ & 420 & 296 & 303 & 421 & 302 & 306 & 31 & 31 & 31 & 10\\\\\n\t10000 & 10 & 31 & 66 & 107 & 142 & 155 & 142 & 108 & 66 & 31 & ⋯ &  66 & 429 & 307 &  93 &  93 &  66 & 31 & 31 & 31 & 10\\\\\n\\end{tabular}\n",
            "text/plain": [
              "      A0T0G0C10 A0T0G1C9 A0T0G2C8 A0T0G3C7 A0T0G4C6 A0T0G5C5 A0T0G6C4 A0T0G7C3\n",
              "9999  10        31       66       107      142      156      143      107     \n",
              "10000 10        31       66       107      142      155      142      108     \n",
              "      A0T0G8C2 A0T0G9C1 ⋯ A8T0G0C2 A8T0G1C1 A8T0G2C0 A8T1G0C1 A8T1G1C0 A8T2G0C0\n",
              "9999  66       31       ⋯ 420      296      303      421      302      306     \n",
              "10000 66       31       ⋯  66      429      307       93       93       66     \n",
              "      A9T0G0C1 A9T0G1C0 A9T1G0C0 A10T0G0C0\n",
              "9999  31       31       31       10       \n",
              "10000 31       31       31       10       "
            ]
          },
          "metadata": {}
        },
        {
          "output_type": "display_data",
          "data": {
            "text/html": [
              "<table class=\"dataframe\">\n",
              "<caption>A data.frame: 2 × 286</caption>\n",
              "<thead>\n",
              "\t<tr><th></th><th scope=col>A0T0G0C10</th><th scope=col>A0T0G1C9</th><th scope=col>A0T0G2C8</th><th scope=col>A0T0G3C7</th><th scope=col>A0T0G4C6</th><th scope=col>A0T0G5C5</th><th scope=col>A0T0G6C4</th><th scope=col>A0T0G7C3</th><th scope=col>A0T0G8C2</th><th scope=col>A0T0G9C1</th><th scope=col>⋯</th><th scope=col>A8T0G0C2</th><th scope=col>A8T0G1C1</th><th scope=col>A8T0G2C0</th><th scope=col>A8T1G0C1</th><th scope=col>A8T1G1C0</th><th scope=col>A8T2G0C0</th><th scope=col>A9T0G0C1</th><th scope=col>A9T0G1C0</th><th scope=col>A9T1G0C0</th><th scope=col>A10T0G0C0</th></tr>\n",
              "\t<tr><th></th><th scope=col>&lt;int&gt;</th><th scope=col>&lt;int&gt;</th><th scope=col>&lt;int&gt;</th><th scope=col>&lt;int&gt;</th><th scope=col>&lt;int&gt;</th><th scope=col>&lt;int&gt;</th><th scope=col>&lt;int&gt;</th><th scope=col>&lt;int&gt;</th><th scope=col>&lt;int&gt;</th><th scope=col>&lt;int&gt;</th><th scope=col>⋯</th><th scope=col>&lt;int&gt;</th><th scope=col>&lt;int&gt;</th><th scope=col>&lt;int&gt;</th><th scope=col>&lt;int&gt;</th><th scope=col>&lt;int&gt;</th><th scope=col>&lt;int&gt;</th><th scope=col>&lt;int&gt;</th><th scope=col>&lt;int&gt;</th><th scope=col>&lt;int&gt;</th><th scope=col>&lt;int&gt;</th></tr>\n",
              "</thead>\n",
              "<tbody>\n",
              "\t<tr><th scope=row>99999</th><td>10</td><td>31</td><td>66</td><td>107</td><td>142</td><td>155</td><td>142</td><td>107</td><td>66</td><td>31</td><td>⋯</td><td>66</td><td>93</td><td>66</td><td>93</td><td>93</td><td>66</td><td>31</td><td>31</td><td>31</td><td>10</td></tr>\n",
              "\t<tr><th scope=row>100000</th><td>10</td><td>32</td><td>41</td><td> 21</td><td> 45</td><td> 89</td><td> 45</td><td> 60</td><td>67</td><td>31</td><td>⋯</td><td>52</td><td>97</td><td>82</td><td>74</td><td>80</td><td>52</td><td>31</td><td>32</td><td> 7</td><td>10</td></tr>\n",
              "</tbody>\n",
              "</table>\n"
            ],
            "text/markdown": "\nA data.frame: 2 × 286\n\n| <!--/--> | A0T0G0C10 &lt;int&gt; | A0T0G1C9 &lt;int&gt; | A0T0G2C8 &lt;int&gt; | A0T0G3C7 &lt;int&gt; | A0T0G4C6 &lt;int&gt; | A0T0G5C5 &lt;int&gt; | A0T0G6C4 &lt;int&gt; | A0T0G7C3 &lt;int&gt; | A0T0G8C2 &lt;int&gt; | A0T0G9C1 &lt;int&gt; | ⋯ ⋯ | A8T0G0C2 &lt;int&gt; | A8T0G1C1 &lt;int&gt; | A8T0G2C0 &lt;int&gt; | A8T1G0C1 &lt;int&gt; | A8T1G1C0 &lt;int&gt; | A8T2G0C0 &lt;int&gt; | A9T0G0C1 &lt;int&gt; | A9T0G1C0 &lt;int&gt; | A9T1G0C0 &lt;int&gt; | A10T0G0C0 &lt;int&gt; |\n|---|---|---|---|---|---|---|---|---|---|---|---|---|---|---|---|---|---|---|---|---|---|\n| 99999 | 10 | 31 | 66 | 107 | 142 | 155 | 142 | 107 | 66 | 31 | ⋯ | 66 | 93 | 66 | 93 | 93 | 66 | 31 | 31 | 31 | 10 |\n| 100000 | 10 | 32 | 41 |  21 |  45 |  89 |  45 |  60 | 67 | 31 | ⋯ | 52 | 97 | 82 | 74 | 80 | 52 | 31 | 32 |  7 | 10 |\n\n",
            "text/latex": "A data.frame: 2 × 286\n\\begin{tabular}{r|lllllllllllllllllllll}\n  & A0T0G0C10 & A0T0G1C9 & A0T0G2C8 & A0T0G3C7 & A0T0G4C6 & A0T0G5C5 & A0T0G6C4 & A0T0G7C3 & A0T0G8C2 & A0T0G9C1 & ⋯ & A8T0G0C2 & A8T0G1C1 & A8T0G2C0 & A8T1G0C1 & A8T1G1C0 & A8T2G0C0 & A9T0G0C1 & A9T0G1C0 & A9T1G0C0 & A10T0G0C0\\\\\n  & <int> & <int> & <int> & <int> & <int> & <int> & <int> & <int> & <int> & <int> & ⋯ & <int> & <int> & <int> & <int> & <int> & <int> & <int> & <int> & <int> & <int>\\\\\n\\hline\n\t99999 & 10 & 31 & 66 & 107 & 142 & 155 & 142 & 107 & 66 & 31 & ⋯ & 66 & 93 & 66 & 93 & 93 & 66 & 31 & 31 & 31 & 10\\\\\n\t100000 & 10 & 32 & 41 &  21 &  45 &  89 &  45 &  60 & 67 & 31 & ⋯ & 52 & 97 & 82 & 74 & 80 & 52 & 31 & 32 &  7 & 10\\\\\n\\end{tabular}\n",
            "text/plain": [
              "       A0T0G0C10 A0T0G1C9 A0T0G2C8 A0T0G3C7 A0T0G4C6 A0T0G5C5 A0T0G6C4 A0T0G7C3\n",
              "99999  10        31       66       107      142      155      142      107     \n",
              "100000 10        32       41        21       45       89       45       60     \n",
              "       A0T0G8C2 A0T0G9C1 ⋯ A8T0G0C2 A8T0G1C1 A8T0G2C0 A8T1G0C1 A8T1G1C0\n",
              "99999  66       31       ⋯ 66       93       66       93       93      \n",
              "100000 67       31       ⋯ 52       97       82       74       80      \n",
              "       A8T2G0C0 A9T0G0C1 A9T0G1C0 A9T1G0C0 A10T0G0C0\n",
              "99999  66       31       31       31       10       \n",
              "100000 52       31       32        7       10       "
            ]
          },
          "metadata": {}
        },
        {
          "output_type": "display_data",
          "data": {
            "text/html": [
              "<table class=\"dataframe\">\n",
              "<caption>A data.frame: 2 × 287</caption>\n",
              "<thead>\n",
              "\t<tr><th></th><th scope=col>A0T0G0C10</th><th scope=col>A0T0G1C9</th><th scope=col>A0T0G2C8</th><th scope=col>A0T0G3C7</th><th scope=col>A0T0G4C6</th><th scope=col>A0T0G5C5</th><th scope=col>A0T0G6C4</th><th scope=col>A0T0G7C3</th><th scope=col>A0T0G8C2</th><th scope=col>A0T0G9C1</th><th scope=col>⋯</th><th scope=col>A8T0G1C1</th><th scope=col>A8T0G2C0</th><th scope=col>A8T1G0C1</th><th scope=col>A8T1G1C0</th><th scope=col>A8T2G0C0</th><th scope=col>A9T0G0C1</th><th scope=col>A9T0G1C0</th><th scope=col>A9T1G0C0</th><th scope=col>A10T0G0C0</th><th scope=col>y</th></tr>\n",
              "\t<tr><th></th><th scope=col>&lt;int&gt;</th><th scope=col>&lt;int&gt;</th><th scope=col>&lt;int&gt;</th><th scope=col>&lt;int&gt;</th><th scope=col>&lt;int&gt;</th><th scope=col>&lt;int&gt;</th><th scope=col>&lt;int&gt;</th><th scope=col>&lt;int&gt;</th><th scope=col>&lt;int&gt;</th><th scope=col>&lt;int&gt;</th><th scope=col>⋯</th><th scope=col>&lt;int&gt;</th><th scope=col>&lt;int&gt;</th><th scope=col>&lt;int&gt;</th><th scope=col>&lt;int&gt;</th><th scope=col>&lt;int&gt;</th><th scope=col>&lt;int&gt;</th><th scope=col>&lt;int&gt;</th><th scope=col>&lt;int&gt;</th><th scope=col>&lt;int&gt;</th><th scope=col>&lt;int&gt;</th></tr>\n",
              "</thead>\n",
              "<tbody>\n",
              "\t<tr><th scope=row>99999</th><td>10</td><td>31</td><td>66</td><td>107</td><td>142</td><td>155</td><td>142</td><td>107</td><td>66</td><td>31</td><td>⋯</td><td>93</td><td>66</td><td>93</td><td>93</td><td>66</td><td>31</td><td>31</td><td>31</td><td>10</td><td>4</td></tr>\n",
              "\t<tr><th scope=row>100000</th><td>10</td><td>32</td><td>41</td><td> 21</td><td> 45</td><td> 89</td><td> 45</td><td> 60</td><td>67</td><td>31</td><td>⋯</td><td>97</td><td>82</td><td>74</td><td>80</td><td>52</td><td>31</td><td>32</td><td> 7</td><td>10</td><td>2</td></tr>\n",
              "</tbody>\n",
              "</table>\n"
            ],
            "text/markdown": "\nA data.frame: 2 × 287\n\n| <!--/--> | A0T0G0C10 &lt;int&gt; | A0T0G1C9 &lt;int&gt; | A0T0G2C8 &lt;int&gt; | A0T0G3C7 &lt;int&gt; | A0T0G4C6 &lt;int&gt; | A0T0G5C5 &lt;int&gt; | A0T0G6C4 &lt;int&gt; | A0T0G7C3 &lt;int&gt; | A0T0G8C2 &lt;int&gt; | A0T0G9C1 &lt;int&gt; | ⋯ ⋯ | A8T0G1C1 &lt;int&gt; | A8T0G2C0 &lt;int&gt; | A8T1G0C1 &lt;int&gt; | A8T1G1C0 &lt;int&gt; | A8T2G0C0 &lt;int&gt; | A9T0G0C1 &lt;int&gt; | A9T0G1C0 &lt;int&gt; | A9T1G0C0 &lt;int&gt; | A10T0G0C0 &lt;int&gt; | y &lt;int&gt; |\n|---|---|---|---|---|---|---|---|---|---|---|---|---|---|---|---|---|---|---|---|---|---|\n| 99999 | 10 | 31 | 66 | 107 | 142 | 155 | 142 | 107 | 66 | 31 | ⋯ | 93 | 66 | 93 | 93 | 66 | 31 | 31 | 31 | 10 | 4 |\n| 100000 | 10 | 32 | 41 |  21 |  45 |  89 |  45 |  60 | 67 | 31 | ⋯ | 97 | 82 | 74 | 80 | 52 | 31 | 32 |  7 | 10 | 2 |\n\n",
            "text/latex": "A data.frame: 2 × 287\n\\begin{tabular}{r|lllllllllllllllllllll}\n  & A0T0G0C10 & A0T0G1C9 & A0T0G2C8 & A0T0G3C7 & A0T0G4C6 & A0T0G5C5 & A0T0G6C4 & A0T0G7C3 & A0T0G8C2 & A0T0G9C1 & ⋯ & A8T0G1C1 & A8T0G2C0 & A8T1G0C1 & A8T1G1C0 & A8T2G0C0 & A9T0G0C1 & A9T0G1C0 & A9T1G0C0 & A10T0G0C0 & y\\\\\n  & <int> & <int> & <int> & <int> & <int> & <int> & <int> & <int> & <int> & <int> & ⋯ & <int> & <int> & <int> & <int> & <int> & <int> & <int> & <int> & <int> & <int>\\\\\n\\hline\n\t99999 & 10 & 31 & 66 & 107 & 142 & 155 & 142 & 107 & 66 & 31 & ⋯ & 93 & 66 & 93 & 93 & 66 & 31 & 31 & 31 & 10 & 4\\\\\n\t100000 & 10 & 32 & 41 &  21 &  45 &  89 &  45 &  60 & 67 & 31 & ⋯ & 97 & 82 & 74 & 80 & 52 & 31 & 32 &  7 & 10 & 2\\\\\n\\end{tabular}\n",
            "text/plain": [
              "       A0T0G0C10 A0T0G1C9 A0T0G2C8 A0T0G3C7 A0T0G4C6 A0T0G5C5 A0T0G6C4 A0T0G7C3\n",
              "99999  10        31       66       107      142      155      142      107     \n",
              "100000 10        32       41        21       45       89       45       60     \n",
              "       A0T0G8C2 A0T0G9C1 ⋯ A8T0G1C1 A8T0G2C0 A8T1G0C1 A8T1G1C0 A8T2G0C0\n",
              "99999  66       31       ⋯ 93       66       93       93       66      \n",
              "100000 67       31       ⋯ 97       82       74       80       52      \n",
              "       A9T0G0C1 A9T0G1C0 A9T1G0C0 A10T0G0C0 y\n",
              "99999  31       31       31       10        4\n",
              "100000 31       32        7       10        2"
            ]
          },
          "metadata": {}
        }
      ]
    },
    {
      "cell_type": "code",
      "source": [
        "t0 = Sys.time()"
      ],
      "metadata": {
        "id": "GqnRQly_oD-g"
      },
      "execution_count": null,
      "outputs": []
    },
    {
      "cell_type": "markdown",
      "source": [
        "<hr color=red>\n",
        "\n",
        "<font size=5>⏳</font> <strong><font color=orange size=5>Your Code, Documentation, Ideas and Timer - All Start Here...</font></strong>\n",
        "\n",
        "**Student's Section** (between ⏳ symbols): add your code and documentation here."
      ],
      "metadata": {
        "id": "3NcTKbw3KhAn"
      }
    },
    {
      "cell_type": "markdown",
      "metadata": {
        "id": "WgoiydEDvor2"
      },
      "source": [
        "## **Task 1. Preprocessing Pipeline**\n",
        " \n",
        "Explain elements of your preprocessing pipeline i.e. feature engineering, subsampling, clustering, dimensionality reduction, etc. \n",
        "1. Why did you choose these elements? (Perhaps something in EDA or prior experience lead you to these)\n",
        "1. How do you evaluate the effectiveness of these elements? \n",
        "1. What else have you tried that worked or didn't? "
      ]
    },
    {
      "cell_type": "markdown",
      "metadata": {
        "id": "vIm8b5kfvor2"
      },
      "source": [
        "**Student's answer:**"
      ]
    },
    {
      "cell_type": "markdown",
      "metadata": {
        "id": "i-_qr2WXvor2"
      },
      "source": [
        "## **Task 2. Modeling Approach**\n",
        "Explain your modeling approach, i.e. ideas you tried and why you thought they would be helpful. \n",
        "\n",
        "1. How did these decisions guide you in modeling?\n",
        "1. How do you evaluate the effectiveness of these elements? \n",
        "1. What else have you tried that worked or didn't? "
      ]
    },
    {
      "cell_type": "markdown",
      "metadata": {
        "id": "BqgujO4Ivor2"
      },
      "source": [
        "**Student's answer:**"
      ]
    },
    {
      "cell_type": "markdown",
      "metadata": {
        "id": "7VbNxML7vor2"
      },
      "source": [
        "Below is a baseline model that produces the result on Kaggle leaderboard (LB)."
      ]
    },
    {
      "cell_type": "code",
      "source": [
        "tXY$y = as.factor(tXY$y)\n",
        "control = rpart.control(minsplit=20)\n",
        "m = rpart(y~., data=tXY[1:20000,], control=control, parms=list(split='gini'), method='class')  # a simple decision tree, i.e. baggin with one estimator"
      ],
      "metadata": {
        "id": "qS-YoCC0pgUv"
      },
      "execution_count": null,
      "outputs": []
    },
    {
      "cell_type": "code",
      "source": [
        "pY = predict(m, vX, type='class')                  # return bacteria indices/classes: 1,2,3,4,5\n",
        "t(head(pY <- setNames(data.frame(pY), YCol), 20))  # make predictions on the test inputs, vX "
      ],
      "metadata": {
        "colab": {
          "base_uri": "https://localhost:8080/",
          "height": 98
        },
        "id": "7zYs4e36nIAw",
        "outputId": "98624bb6-94a9-4278-f538-627be0846765"
      },
      "execution_count": null,
      "outputs": [
        {
          "output_type": "display_data",
          "data": {
            "text/html": [
              "<table class=\"dataframe\">\n",
              "<caption>A matrix: 1 × 20 of type chr</caption>\n",
              "<thead>\n",
              "\t<tr><th></th><th scope=col>1</th><th scope=col>2</th><th scope=col>3</th><th scope=col>4</th><th scope=col>5</th><th scope=col>6</th><th scope=col>7</th><th scope=col>8</th><th scope=col>9</th><th scope=col>10</th><th scope=col>11</th><th scope=col>12</th><th scope=col>13</th><th scope=col>14</th><th scope=col>15</th><th scope=col>16</th><th scope=col>17</th><th scope=col>18</th><th scope=col>19</th><th scope=col>20</th></tr>\n",
              "</thead>\n",
              "<tbody>\n",
              "\t<tr><th scope=row>y</th><td>4</td><td>4</td><td>4</td><td>4</td><td>4</td><td>4</td><td>2</td><td>3</td><td>4</td><td>3</td><td>4</td><td>4</td><td>3</td><td>3</td><td>3</td><td>4</td><td>2</td><td>3</td><td>2</td><td>3</td></tr>\n",
              "</tbody>\n",
              "</table>\n"
            ],
            "text/markdown": "\nA matrix: 1 × 20 of type chr\n\n| <!--/--> | 1 | 2 | 3 | 4 | 5 | 6 | 7 | 8 | 9 | 10 | 11 | 12 | 13 | 14 | 15 | 16 | 17 | 18 | 19 | 20 |\n|---|---|---|---|---|---|---|---|---|---|---|---|---|---|---|---|---|---|---|---|---|\n| y | 4 | 4 | 4 | 4 | 4 | 4 | 2 | 3 | 4 | 3 | 4 | 4 | 3 | 3 | 3 | 4 | 2 | 3 | 2 | 3 |\n\n",
            "text/latex": "A matrix: 1 × 20 of type chr\n\\begin{tabular}{r|llllllllllllllllllll}\n  & 1 & 2 & 3 & 4 & 5 & 6 & 7 & 8 & 9 & 10 & 11 & 12 & 13 & 14 & 15 & 16 & 17 & 18 & 19 & 20\\\\\n\\hline\n\ty & 4 & 4 & 4 & 4 & 4 & 4 & 2 & 3 & 4 & 3 & 4 & 4 & 3 & 3 & 3 & 4 & 2 & 3 & 2 & 3\\\\\n\\end{tabular}\n",
            "text/plain": [
              "  1 2 3 4 5 6 7 8 9 10 11 12 13 14 15 16 17 18 19 20\n",
              "y 4 4 4 4 4 4 2 3 4 3  4  4  3  3  3  4  2  3  2  3 "
            ]
          },
          "metadata": {}
        }
      ]
    },
    {
      "cell_type": "code",
      "source": [
        "write.csv(cbind(id=1:nrow(pY), pY), file='MySubmission.csv', row.names=F)  # write to CSV file"
      ],
      "metadata": {
        "id": "KAVbSPYglkh9"
      },
      "execution_count": null,
      "outputs": []
    },
    {
      "cell_type": "code",
      "source": [
        "round(table(tY$y)/nrow(tY), 3)\n",
        "round(table(pY$y)/nrow(pY), 3)"
      ],
      "metadata": {
        "colab": {
          "base_uri": "https://localhost:8080/",
          "height": 125
        },
        "id": "mPBsL6-u9Mzj",
        "outputId": "cb1f07bb-5444-48af-9328-88ad8ba5061b"
      },
      "execution_count": null,
      "outputs": [
        {
          "output_type": "display_data",
          "data": {
            "text/plain": [
              "\n",
              "    0     1     2     3     4 \n",
              "0.048 0.050 0.302 0.296 0.303 "
            ]
          },
          "metadata": {}
        },
        {
          "output_type": "display_data",
          "data": {
            "text/plain": [
              "\n",
              "    0     1     2     3     4 \n",
              "0.020 0.008 0.333 0.293 0.346 "
            ]
          },
          "metadata": {}
        }
      ]
    },
    {
      "cell_type": "markdown",
      "source": [
        "# **References:**"
      ],
      "metadata": {
        "id": "pzBsjCvS_kEw"
      }
    },
    {
      "cell_type": "markdown",
      "source": [
        "1. Remember to cite your sources!\n"
      ],
      "metadata": {
        "id": "2kr8Q-9T_nAb"
      }
    },
    {
      "cell_type": "markdown",
      "metadata": {
        "id": "pB0a5X5NunFU"
      },
      "source": [
        "<font size=5>⌛</font> <strong><font color=orange size=5>Do not exceed competition's runtime limit!</font></strong>\n",
        "\n",
        "<hr color=red>\n"
      ]
    },
    {
      "cell_type": "code",
      "source": [
        "RunTime = round(difftime(Sys.time(), t0, units = \"secs\")[[1]])\n",
        "msg = paste0('Runtime is ',RunTime,' sec. Time limit is ', timeLimit, ' sec')\n",
        "cat((ifelse(timeLimit<RunTime, (paste0('Limit exceeded!!! ', msg)), (msg))))"
      ],
      "metadata": {
        "colab": {
          "base_uri": "https://localhost:8080/"
        },
        "id": "rD4dgLPzoJAm",
        "outputId": "9ae3b5cd-e3ce-4aa6-ab3b-2aafd582b054"
      },
      "execution_count": null,
      "outputs": [
        {
          "output_type": "stream",
          "name": "stdout",
          "text": [
            "Runtime is 17 sec. Time limit is 60 sec"
          ]
        }
      ]
    },
    {
      "cell_type": "markdown",
      "metadata": {
        "id": "oUStTaN4uo_Z"
      },
      "source": [
        "## 💡**Starter Ideas**"
      ]
    },
    {
      "cell_type": "markdown",
      "source": [
        "**Model**\n",
        "1. Tune model hyperparameters, batch size, optimizer, NN layers\n",
        "\n",
        "**Features**\n",
        "1. Try to linear and non-linear feature normalization: shift/scale, log, divide features by features (investigate scatterplot matrix)\n",
        "1. Try higher order feature interactions and polynomial features on a small subsample. Then identify key features or select key principal components. The final model can be trained on a larger or even full training sample. You can use [PCA](https://scikit-learn.org/stable/modules/generated/sklearn.decomposition.PCA.html) to reduce the feature set\n",
        "\n",
        "**Training observations**\n",
        "1. Try clustering similar observations into fewer representative observations. \n",
        "1. You may also try dimension reduction methods (eg. PCA) on the transposed data matrix (if it has scaled numeric features).\n",
        "1. Look for and deal with outliers or influential points in the training set\n",
        "1. Deal with **imbalanced sample**: oversample smaller class, or undersample larger class, or provide observation weights or provide class weights, or seek a suitable loss function\n",
        "1. Investigate distributions of features. Any missing values? Any zero values?\n",
        "\n",
        "**Predictions**\n",
        "1. Evaluate predictions and focus on poorly predicted \"groups\":\n",
        "  1. Strongest misclassifications. E.g. the model is very confident about the wrong label\n",
        "  1. Evaluate predictions near decision boundaries.\n",
        "\n",
        "**EDA and Domain Expertise**\n",
        "1. Do a thorough EDA: look for feature augmentations that result in linear decision boundaries between pairs of classes.\n",
        "1. Learn about the domain. Read [Analysis of Identification Method for Bacterial Species and Antibiotic Resistance Genes Using Optical Data From DNA Oligomers](https://www.frontiersin.org/articles/10.3389/fmicb.2020.00257/full) and cited/citing references."
      ],
      "metadata": {
        "id": "YsqoYee9xtoG"
      }
    },
    {
      "cell_type": "code",
      "source": [],
      "metadata": {
        "id": "a0ruW1CK_OGj"
      },
      "execution_count": null,
      "outputs": []
    }
  ]
}