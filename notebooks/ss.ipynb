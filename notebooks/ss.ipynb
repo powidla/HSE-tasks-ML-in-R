{
  "cells": [
    {
      "cell_type": "code",
      "execution_count": null,
      "metadata": {
        "id": "T2wMu1UiqdQx"
      },
      "outputs": [],
      "source": [
        "import numpy as np\n",
        "import pandas as pd\n",
        "import matplotlib.pyplot as plt\n",
        "import seaborn as sns"
      ]
    },
    {
      "cell_type": "code",
      "execution_count": null,
      "metadata": {
        "id": "Pxf-9cymqdQ0",
        "outputId": "981da744-fba8-490c-9a8b-889db18ce593",
        "colab": {
          "base_uri": "https://localhost:8080/",
          "height": 206
        }
      },
      "outputs": [
        {
          "output_type": "execute_result",
          "data": {
            "text/plain": [
              "   Store_id  SKU_id        Date  Promo  Demand  Regular_Price  Promo_Price\n",
              "0         1       1  01.01.2015    NaN      22         163.78          NaN\n",
              "1         1       1  02.01.2015    NaN      41         163.78          NaN\n",
              "2         1       1  03.01.2015    NaN      35         163.78          NaN\n",
              "3         1       1  04.01.2015    NaN      72         163.78          NaN\n",
              "4         1       1  05.01.2015    NaN      25         163.78          NaN"
            ],
            "text/html": [
              "\n",
              "  <div id=\"df-114780ee-4524-4573-861a-d2bf529ed12a\">\n",
              "    <div class=\"colab-df-container\">\n",
              "      <div>\n",
              "<style scoped>\n",
              "    .dataframe tbody tr th:only-of-type {\n",
              "        vertical-align: middle;\n",
              "    }\n",
              "\n",
              "    .dataframe tbody tr th {\n",
              "        vertical-align: top;\n",
              "    }\n",
              "\n",
              "    .dataframe thead th {\n",
              "        text-align: right;\n",
              "    }\n",
              "</style>\n",
              "<table border=\"1\" class=\"dataframe\">\n",
              "  <thead>\n",
              "    <tr style=\"text-align: right;\">\n",
              "      <th></th>\n",
              "      <th>Store_id</th>\n",
              "      <th>SKU_id</th>\n",
              "      <th>Date</th>\n",
              "      <th>Promo</th>\n",
              "      <th>Demand</th>\n",
              "      <th>Regular_Price</th>\n",
              "      <th>Promo_Price</th>\n",
              "    </tr>\n",
              "  </thead>\n",
              "  <tbody>\n",
              "    <tr>\n",
              "      <th>0</th>\n",
              "      <td>1</td>\n",
              "      <td>1</td>\n",
              "      <td>01.01.2015</td>\n",
              "      <td>NaN</td>\n",
              "      <td>22</td>\n",
              "      <td>163.78</td>\n",
              "      <td>NaN</td>\n",
              "    </tr>\n",
              "    <tr>\n",
              "      <th>1</th>\n",
              "      <td>1</td>\n",
              "      <td>1</td>\n",
              "      <td>02.01.2015</td>\n",
              "      <td>NaN</td>\n",
              "      <td>41</td>\n",
              "      <td>163.78</td>\n",
              "      <td>NaN</td>\n",
              "    </tr>\n",
              "    <tr>\n",
              "      <th>2</th>\n",
              "      <td>1</td>\n",
              "      <td>1</td>\n",
              "      <td>03.01.2015</td>\n",
              "      <td>NaN</td>\n",
              "      <td>35</td>\n",
              "      <td>163.78</td>\n",
              "      <td>NaN</td>\n",
              "    </tr>\n",
              "    <tr>\n",
              "      <th>3</th>\n",
              "      <td>1</td>\n",
              "      <td>1</td>\n",
              "      <td>04.01.2015</td>\n",
              "      <td>NaN</td>\n",
              "      <td>72</td>\n",
              "      <td>163.78</td>\n",
              "      <td>NaN</td>\n",
              "    </tr>\n",
              "    <tr>\n",
              "      <th>4</th>\n",
              "      <td>1</td>\n",
              "      <td>1</td>\n",
              "      <td>05.01.2015</td>\n",
              "      <td>NaN</td>\n",
              "      <td>25</td>\n",
              "      <td>163.78</td>\n",
              "      <td>NaN</td>\n",
              "    </tr>\n",
              "  </tbody>\n",
              "</table>\n",
              "</div>\n",
              "      <button class=\"colab-df-convert\" onclick=\"convertToInteractive('df-114780ee-4524-4573-861a-d2bf529ed12a')\"\n",
              "              title=\"Convert this dataframe to an interactive table.\"\n",
              "              style=\"display:none;\">\n",
              "        \n",
              "  <svg xmlns=\"http://www.w3.org/2000/svg\" height=\"24px\"viewBox=\"0 0 24 24\"\n",
              "       width=\"24px\">\n",
              "    <path d=\"M0 0h24v24H0V0z\" fill=\"none\"/>\n",
              "    <path d=\"M18.56 5.44l.94 2.06.94-2.06 2.06-.94-2.06-.94-.94-2.06-.94 2.06-2.06.94zm-11 1L8.5 8.5l.94-2.06 2.06-.94-2.06-.94L8.5 2.5l-.94 2.06-2.06.94zm10 10l.94 2.06.94-2.06 2.06-.94-2.06-.94-.94-2.06-.94 2.06-2.06.94z\"/><path d=\"M17.41 7.96l-1.37-1.37c-.4-.4-.92-.59-1.43-.59-.52 0-1.04.2-1.43.59L10.3 9.45l-7.72 7.72c-.78.78-.78 2.05 0 2.83L4 21.41c.39.39.9.59 1.41.59.51 0 1.02-.2 1.41-.59l7.78-7.78 2.81-2.81c.8-.78.8-2.07 0-2.86zM5.41 20L4 18.59l7.72-7.72 1.47 1.35L5.41 20z\"/>\n",
              "  </svg>\n",
              "      </button>\n",
              "      \n",
              "  <style>\n",
              "    .colab-df-container {\n",
              "      display:flex;\n",
              "      flex-wrap:wrap;\n",
              "      gap: 12px;\n",
              "    }\n",
              "\n",
              "    .colab-df-convert {\n",
              "      background-color: #E8F0FE;\n",
              "      border: none;\n",
              "      border-radius: 50%;\n",
              "      cursor: pointer;\n",
              "      display: none;\n",
              "      fill: #1967D2;\n",
              "      height: 32px;\n",
              "      padding: 0 0 0 0;\n",
              "      width: 32px;\n",
              "    }\n",
              "\n",
              "    .colab-df-convert:hover {\n",
              "      background-color: #E2EBFA;\n",
              "      box-shadow: 0px 1px 2px rgba(60, 64, 67, 0.3), 0px 1px 3px 1px rgba(60, 64, 67, 0.15);\n",
              "      fill: #174EA6;\n",
              "    }\n",
              "\n",
              "    [theme=dark] .colab-df-convert {\n",
              "      background-color: #3B4455;\n",
              "      fill: #D2E3FC;\n",
              "    }\n",
              "\n",
              "    [theme=dark] .colab-df-convert:hover {\n",
              "      background-color: #434B5C;\n",
              "      box-shadow: 0px 1px 3px 1px rgba(0, 0, 0, 0.15);\n",
              "      filter: drop-shadow(0px 1px 2px rgba(0, 0, 0, 0.3));\n",
              "      fill: #FFFFFF;\n",
              "    }\n",
              "  </style>\n",
              "\n",
              "      <script>\n",
              "        const buttonEl =\n",
              "          document.querySelector('#df-114780ee-4524-4573-861a-d2bf529ed12a button.colab-df-convert');\n",
              "        buttonEl.style.display =\n",
              "          google.colab.kernel.accessAllowed ? 'block' : 'none';\n",
              "\n",
              "        async function convertToInteractive(key) {\n",
              "          const element = document.querySelector('#df-114780ee-4524-4573-861a-d2bf529ed12a');\n",
              "          const dataTable =\n",
              "            await google.colab.kernel.invokeFunction('convertToInteractive',\n",
              "                                                     [key], {});\n",
              "          if (!dataTable) return;\n",
              "\n",
              "          const docLinkHtml = 'Like what you see? Visit the ' +\n",
              "            '<a target=\"_blank\" href=https://colab.research.google.com/notebooks/data_table.ipynb>data table notebook</a>'\n",
              "            + ' to learn more about interactive tables.';\n",
              "          element.innerHTML = '';\n",
              "          dataTable['output_type'] = 'display_data';\n",
              "          await google.colab.output.renderOutput(dataTable, element);\n",
              "          const docLink = document.createElement('div');\n",
              "          docLink.innerHTML = docLinkHtml;\n",
              "          element.appendChild(docLink);\n",
              "        }\n",
              "      </script>\n",
              "    </div>\n",
              "  </div>\n",
              "  "
            ]
          },
          "metadata": {},
          "execution_count": 3
        }
      ],
      "source": [
        "train = pd.read_csv(\"train_kaggle.csv\")\n",
        "test = pd.read_csv(\"test_kaggle.csv\")\n",
        "submission = pd.read_csv(\"submission_sample.csv\")\n",
        "submission[\"Demand\"] = submission[\"Demand\"].astype(float)\n",
        "\n",
        "df = train.copy()\n",
        "df.head()"
      ]
    },
    {
      "cell_type": "code",
      "execution_count": null,
      "metadata": {
        "id": "-mSIarH6qdQ1"
      },
      "outputs": [],
      "source": [
        "df = pd.get_dummies(df, columns=[\"SKU_id\", \"Store_id\"])"
      ]
    },
    {
      "cell_type": "code",
      "execution_count": null,
      "metadata": {
        "id": "2OHPz-JNqdQ1",
        "outputId": "0ebe9f57-018e-41c0-bbd7-c1dd0b7f95fa",
        "colab": {
          "base_uri": "https://localhost:8080/"
        }
      },
      "outputs": [
        {
          "output_type": "execute_result",
          "data": {
            "text/plain": [
              "Date             0\n",
              "Promo            0\n",
              "Demand           0\n",
              "Regular_Price    0\n",
              "Promo_Price      0\n",
              "                ..\n",
              "Store_id_99      0\n",
              "Store_id_100     0\n",
              "Store_id_104     0\n",
              "Store_id_105     0\n",
              "Store_id_106     0\n",
              "Length: 110, dtype: int64"
            ]
          },
          "metadata": {},
          "execution_count": 5
        }
      ],
      "source": [
        "df[\"Date\"] = pd.to_datetime(df[\"Date\"], dayfirst=True)\n",
        "df[\"Promo\"] = df[\"Promo\"].fillna(0.0)\n",
        "df[\"Promo_Price\"] = df[\"Promo_Price\"].fillna(df[\"Regular_Price\"])\n",
        "df.isna().sum()"
      ]
    },
    {
      "cell_type": "code",
      "execution_count": null,
      "metadata": {
        "id": "gXfmKn9qqdQ2"
      },
      "outputs": [],
      "source": [
        "y = df[\"Demand\"]\n",
        "x = df.drop([\"Demand\", \"Date\"], axis=1)"
      ]
    },
    {
      "cell_type": "code",
      "execution_count": null,
      "metadata": {
        "id": "lemA1fuAqdQ2"
      },
      "outputs": [],
      "source": [
        "from sklearn.model_selection import train_test_split\n",
        "\n",
        "x_train, x_test, y_train, y_test = train_test_split(x, y, test_size=0.01)"
      ]
    },
    {
      "cell_type": "code",
      "execution_count": null,
      "metadata": {
        "id": "yFto9GJRqdQ3"
      },
      "outputs": [],
      "source": [
        "import tensorflow as tf\n",
        "\n",
        "from tensorflow import keras\n",
        "from tensorflow.keras import layers"
      ]
    },
    {
      "cell_type": "code",
      "execution_count": null,
      "metadata": {
        "id": "UqgKSUw8qdQ3"
      },
      "outputs": [],
      "source": [
        "x_train = tf.convert_to_tensor(x_train.astype(float))\n",
        "y_train = tf.convert_to_tensor(y_train.astype(float))\n",
        "\n",
        "x_test = tf.convert_to_tensor(x_test.astype(float))\n",
        "y_test = tf.convert_to_tensor(y_test.astype(float))"
      ]
    },
    {
      "cell_type": "code",
      "execution_count": null,
      "metadata": {
        "id": "J9xpxMosqdQ3"
      },
      "outputs": [],
      "source": [
        "x_norm = tf.linalg.norm(x_train, ord=np.inf, axis=0)\n",
        "y_norm = tf.linalg.norm(y_train, ord=np.inf, axis=0)"
      ]
    },
    {
      "cell_type": "code",
      "execution_count": null,
      "metadata": {
        "id": "iYfESJ_yqdQ4"
      },
      "outputs": [],
      "source": [
        "x_train = x_train / x_norm\n",
        "y_train = y_train / y_norm\n",
        "\n",
        "x_test = x_test / x_norm\n",
        "y_test = y_test / y_norm"
      ]
    },
    {
      "cell_type": "code",
      "execution_count": null,
      "metadata": {
        "id": "MWlLIvYmqdQ4"
      },
      "outputs": [],
      "source": [
        "model = keras.Sequential()\n",
        "model.add(keras.Input(shape=(x_train.shape[1],)))\n",
        "model.add(layers.Dense(300, activation=\"relu\"))\n",
        "model.add(keras.layers.BatchNormalization(axis=1))\n",
        "model.add(layers.Dropout(0.3))\n",
        "model.add(layers.Dense(100, activation=\"relu\"))\n",
        "model.add(layers.Dense(75, activation=\"relu\"))\n",
        "model.add(keras.layers.BatchNormalization(axis=1))\n",
        "model.add(layers.Dropout(0.3))\n",
        "model.add(layers.Dense(50, activation=\"relu\"))\n",
        "model.add(keras.layers.BatchNormalization(axis=1))\n",
        "model.add(layers.Dropout(0.3))\n",
        "model.add(layers.Dense(45, activation=\"sigmoid\"))\n",
        "model.add(layers.Dense(40, activation=\"sigmoid\"))\n",
        "model.add(keras.layers.BatchNormalization(axis=1))\n",
        "model.add(layers.Dropout(0.3))\n",
        "model.add(layers.Dense(30, activation=\"sigmoid\"))\n",
        "model.add(layers.Dense(20, activation=\"sigmoid\"))\n",
        "model.add(keras.layers.BatchNormalization(axis=1))\n",
        "model.add(layers.Dropout(0.3))\n",
        "model.add(layers.Dense(10, activation=\"sigmoid\"))\n",
        "model.add(layers.Dense(10, activation=\"sigmoid\"))\n",
        "model.add(layers.Dense(1, activation=\"sigmoid\"))"
      ]
    },
    {
      "cell_type": "code",
      "execution_count": null,
      "metadata": {
        "id": "kIYOPKmUqdQ5"
      },
      "outputs": [],
      "source": [
        "model.build()\n",
        "#print(model.summary())"
      ]
    },
    {
      "cell_type": "code",
      "execution_count": null,
      "metadata": {
        "id": "DFR6DtkHqdQ5"
      },
      "outputs": [],
      "source": [
        "model.compile(\n",
        "    optimizer=keras.optimizers.Adam(),\n",
        "    loss=keras.losses.MeanAbsoluteError(),\n",
        "    )"
      ]
    },
    {
      "cell_type": "code",
      "execution_count": null,
      "metadata": {
        "id": "cf2S9a9vqdQ5",
        "outputId": "954ccb51-9b8e-4359-b1e8-95f9bba6191e",
        "colab": {
          "base_uri": "https://localhost:8080/"
        }
      },
      "outputs": [
        {
          "output_type": "stream",
          "name": "stdout",
          "text": [
            "Epoch 1/60\n",
            "169/169 [==============================] - 4s 22ms/step - loss: 0.0089 - val_loss: 0.0085\n",
            "Epoch 2/60\n",
            "169/169 [==============================] - 4s 26ms/step - loss: 0.0088 - val_loss: 0.0082\n",
            "Epoch 3/60\n",
            "169/169 [==============================] - 3s 19ms/step - loss: 0.0088 - val_loss: 0.0084\n",
            "Epoch 4/60\n",
            "169/169 [==============================] - 3s 19ms/step - loss: 0.0087 - val_loss: 0.0082\n",
            "Epoch 5/60\n",
            "169/169 [==============================] - 3s 19ms/step - loss: 0.0087 - val_loss: 0.0082\n",
            "Epoch 6/60\n",
            "169/169 [==============================] - 4s 25ms/step - loss: 0.0086 - val_loss: 0.0082\n",
            "Epoch 7/60\n",
            "169/169 [==============================] - 3s 19ms/step - loss: 0.0086 - val_loss: 0.0082\n",
            "Epoch 8/60\n",
            "169/169 [==============================] - 3s 19ms/step - loss: 0.0086 - val_loss: 0.0082\n",
            "Epoch 9/60\n",
            "169/169 [==============================] - 5s 27ms/step - loss: 0.0086 - val_loss: 0.0082\n",
            "Epoch 10/60\n",
            "169/169 [==============================] - 6s 38ms/step - loss: 0.0085 - val_loss: 0.0082\n",
            "Epoch 11/60\n",
            "169/169 [==============================] - 7s 43ms/step - loss: 0.0085 - val_loss: 0.0081\n",
            "Epoch 12/60\n",
            "169/169 [==============================] - 5s 30ms/step - loss: 0.0085 - val_loss: 0.0081\n",
            "Epoch 13/60\n",
            "169/169 [==============================] - 3s 18ms/step - loss: 0.0085 - val_loss: 0.0080\n",
            "Epoch 14/60\n",
            "169/169 [==============================] - 4s 24ms/step - loss: 0.0084 - val_loss: 0.0082\n",
            "Epoch 15/60\n",
            "169/169 [==============================] - 3s 20ms/step - loss: 0.0085 - val_loss: 0.0082\n",
            "Epoch 16/60\n",
            "169/169 [==============================] - 3s 19ms/step - loss: 0.0084 - val_loss: 0.0081\n",
            "Epoch 17/60\n",
            "169/169 [==============================] - 3s 18ms/step - loss: 0.0084 - val_loss: 0.0081\n",
            "Epoch 18/60\n",
            "169/169 [==============================] - 4s 24ms/step - loss: 0.0084 - val_loss: 0.0081\n",
            "Epoch 19/60\n",
            "169/169 [==============================] - 3s 18ms/step - loss: 0.0084 - val_loss: 0.0081\n",
            "Epoch 20/60\n",
            "169/169 [==============================] - 3s 18ms/step - loss: 0.0084 - val_loss: 0.0080\n",
            "Epoch 21/60\n",
            "169/169 [==============================] - 3s 17ms/step - loss: 0.0084 - val_loss: 0.0079\n",
            "Epoch 22/60\n",
            "169/169 [==============================] - 4s 24ms/step - loss: 0.0083 - val_loss: 0.0081\n",
            "Epoch 23/60\n",
            "169/169 [==============================] - 3s 18ms/step - loss: 0.0083 - val_loss: 0.0081\n",
            "Epoch 24/60\n",
            "169/169 [==============================] - 3s 18ms/step - loss: 0.0083 - val_loss: 0.0081\n",
            "Epoch 25/60\n",
            "169/169 [==============================] - 3s 17ms/step - loss: 0.0083 - val_loss: 0.0079\n",
            "Epoch 26/60\n",
            "169/169 [==============================] - 4s 24ms/step - loss: 0.0083 - val_loss: 0.0080\n",
            "Epoch 27/60\n",
            "169/169 [==============================] - 3s 17ms/step - loss: 0.0083 - val_loss: 0.0080\n",
            "Epoch 28/60\n",
            "169/169 [==============================] - 3s 17ms/step - loss: 0.0083 - val_loss: 0.0081\n",
            "Epoch 29/60\n",
            "169/169 [==============================] - 3s 18ms/step - loss: 0.0083 - val_loss: 0.0081\n",
            "Epoch 30/60\n",
            "169/169 [==============================] - 4s 24ms/step - loss: 0.0083 - val_loss: 0.0080\n",
            "Epoch 31/60\n",
            "169/169 [==============================] - 3s 18ms/step - loss: 0.0083 - val_loss: 0.0081\n",
            "Epoch 32/60\n",
            "169/169 [==============================] - 3s 17ms/step - loss: 0.0083 - val_loss: 0.0080\n",
            "Epoch 33/60\n",
            "169/169 [==============================] - 3s 17ms/step - loss: 0.0083 - val_loss: 0.0080\n",
            "Epoch 34/60\n",
            "169/169 [==============================] - 4s 23ms/step - loss: 0.0083 - val_loss: 0.0080\n",
            "Epoch 35/60\n",
            "169/169 [==============================] - 3s 17ms/step - loss: 0.0083 - val_loss: 0.0081\n",
            "Epoch 36/60\n",
            "169/169 [==============================] - 3s 18ms/step - loss: 0.0083 - val_loss: 0.0082\n",
            "Epoch 37/60\n",
            "169/169 [==============================] - 3s 19ms/step - loss: 0.0083 - val_loss: 0.0081\n",
            "Epoch 38/60\n",
            "169/169 [==============================] - 4s 23ms/step - loss: 0.0083 - val_loss: 0.0080\n",
            "Epoch 39/60\n",
            "169/169 [==============================] - 3s 18ms/step - loss: 0.0082 - val_loss: 0.0080\n",
            "Epoch 40/60\n",
            "169/169 [==============================] - 3s 18ms/step - loss: 0.0083 - val_loss: 0.0080\n",
            "Epoch 41/60\n",
            "169/169 [==============================] - 3s 20ms/step - loss: 0.0082 - val_loss: 0.0080\n",
            "Epoch 42/60\n",
            "169/169 [==============================] - 4s 25ms/step - loss: 0.0083 - val_loss: 0.0079\n",
            "Epoch 43/60\n",
            "169/169 [==============================] - 3s 18ms/step - loss: 0.0082 - val_loss: 0.0081\n",
            "Epoch 44/60\n",
            "169/169 [==============================] - 3s 18ms/step - loss: 0.0083 - val_loss: 0.0080\n",
            "Epoch 45/60\n",
            "169/169 [==============================] - 4s 23ms/step - loss: 0.0082 - val_loss: 0.0080\n",
            "Epoch 46/60\n",
            "169/169 [==============================] - 3s 18ms/step - loss: 0.0083 - val_loss: 0.0081\n",
            "Epoch 47/60\n",
            "169/169 [==============================] - 4s 24ms/step - loss: 0.0083 - val_loss: 0.0080\n",
            "Epoch 48/60\n",
            "169/169 [==============================] - 3s 18ms/step - loss: 0.0082 - val_loss: 0.0081\n",
            "Epoch 49/60\n",
            "169/169 [==============================] - 4s 24ms/step - loss: 0.0082 - val_loss: 0.0080\n",
            "Epoch 50/60\n",
            "169/169 [==============================] - 3s 18ms/step - loss: 0.0082 - val_loss: 0.0080\n",
            "Epoch 51/60\n",
            "169/169 [==============================] - 3s 18ms/step - loss: 0.0082 - val_loss: 0.0080\n",
            "Epoch 52/60\n",
            "169/169 [==============================] - 3s 18ms/step - loss: 0.0082 - val_loss: 0.0081\n",
            "Epoch 53/60\n",
            "169/169 [==============================] - 4s 24ms/step - loss: 0.0082 - val_loss: 0.0080\n",
            "Epoch 54/60\n",
            "169/169 [==============================] - 3s 18ms/step - loss: 0.0082 - val_loss: 0.0081\n",
            "Epoch 55/60\n",
            "169/169 [==============================] - 3s 17ms/step - loss: 0.0082 - val_loss: 0.0079\n",
            "Epoch 56/60\n",
            "169/169 [==============================] - 3s 20ms/step - loss: 0.0082 - val_loss: 0.0081\n",
            "Epoch 57/60\n",
            "169/169 [==============================] - 4s 22ms/step - loss: 0.0082 - val_loss: 0.0081\n",
            "Epoch 58/60\n",
            "169/169 [==============================] - 3s 18ms/step - loss: 0.0082 - val_loss: 0.0079\n",
            "Epoch 59/60\n",
            "169/169 [==============================] - 3s 18ms/step - loss: 0.0082 - val_loss: 0.0079\n",
            "Epoch 60/60\n",
            "169/169 [==============================] - 3s 21ms/step - loss: 0.0082 - val_loss: 0.0080\n"
          ]
        },
        {
          "output_type": "execute_result",
          "data": {
            "text/plain": [
              "<keras.callbacks.History at 0x7f98345474c0>"
            ]
          },
          "metadata": {},
          "execution_count": 23
        }
      ],
      "source": [
        "model.fit(x_train, y_train, batch_size=512, epochs=60, validation_data=(x_test, y_test))"
      ]
    },
    {
      "cell_type": "code",
      "execution_count": null,
      "metadata": {
        "id": "AwJChys9qdQ5",
        "outputId": "dfe0e80e-b442-431d-f189-c7b3c8180d59"
      },
      "outputs": [
        {
          "name": "stdout",
          "output_type": "stream",
          "text": [
            "Epoch 1/10\n",
            "673/673 [==============================] - 5s 7ms/step - loss: 0.0091 - val_loss: 0.0098\n",
            "Epoch 2/10\n",
            "673/673 [==============================] - 5s 7ms/step - loss: 0.0089 - val_loss: 0.0096\n",
            "Epoch 3/10\n",
            "673/673 [==============================] - 5s 7ms/step - loss: 0.0088 - val_loss: 0.0093\n",
            "Epoch 4/10\n",
            "673/673 [==============================] - 4s 6ms/step - loss: 0.0087 - val_loss: 0.0093\n",
            "Epoch 5/10\n",
            "673/673 [==============================] - 4s 6ms/step - loss: 0.0087 - val_loss: 0.0093\n",
            "Epoch 6/10\n",
            "673/673 [==============================] - 4s 6ms/step - loss: 0.0086 - val_loss: 0.0092\n",
            "Epoch 7/10\n",
            "673/673 [==============================] - 4s 6ms/step - loss: 0.0086 - val_loss: 0.0094\n",
            "Epoch 8/10\n",
            "673/673 [==============================] - 4s 5ms/step - loss: 0.0085 - val_loss: 0.0091\n",
            "Epoch 9/10\n",
            "673/673 [==============================] - 4s 5ms/step - loss: 0.0085 - val_loss: 0.0092\n",
            "Epoch 10/10\n",
            "673/673 [==============================] - 3s 5ms/step - loss: 0.0085 - val_loss: 0.0092\n"
          ]
        },
        {
          "data": {
            "text/plain": [
              "<keras.callbacks.History at 0x1373d7fd0>"
            ]
          },
          "execution_count": 15,
          "metadata": {},
          "output_type": "execute_result"
        }
      ],
      "source": [
        "model.fit(x_train, y_train, batch_size=128, epochs=10, validation_data=(x_test, y_test))"
      ]
    },
    {
      "cell_type": "code",
      "execution_count": null,
      "metadata": {
        "id": "yrzJbYdkqdQ6",
        "outputId": "fa8a4757-91c5-4595-d340-77259f0a5a0c"
      },
      "outputs": [
        {
          "name": "stdout",
          "output_type": "stream",
          "text": [
            "Epoch 1/10\n",
            "2689/2689 [==============================] - 10s 4ms/step - loss: 0.0090 - val_loss: 0.0096\n",
            "Epoch 2/10\n",
            "2689/2689 [==============================] - 10s 4ms/step - loss: 0.0089 - val_loss: 0.0094\n",
            "Epoch 3/10\n",
            "2689/2689 [==============================] - 10s 4ms/step - loss: 0.0088 - val_loss: 0.0093\n",
            "Epoch 4/10\n",
            "2689/2689 [==============================] - 10s 4ms/step - loss: 0.0088 - val_loss: 0.0092\n",
            "Epoch 5/10\n",
            "2689/2689 [==============================] - 10s 4ms/step - loss: 0.0088 - val_loss: 0.0094\n",
            "Epoch 6/10\n",
            "2689/2689 [==============================] - 10s 4ms/step - loss: 0.0087 - val_loss: 0.0090\n",
            "Epoch 7/10\n",
            "2689/2689 [==============================] - 12s 4ms/step - loss: 0.0087 - val_loss: 0.0092\n",
            "Epoch 8/10\n",
            "2689/2689 [==============================] - 11s 4ms/step - loss: 0.0087 - val_loss: 0.0093\n",
            "Epoch 9/10\n",
            "2689/2689 [==============================] - 10s 4ms/step - loss: 0.0087 - val_loss: 0.0091\n",
            "Epoch 10/10\n",
            "2689/2689 [==============================] - 10s 4ms/step - loss: 0.0087 - val_loss: 0.0088\n"
          ]
        },
        {
          "data": {
            "text/plain": [
              "<keras.callbacks.History at 0x137c3e810>"
            ]
          },
          "execution_count": 16,
          "metadata": {},
          "output_type": "execute_result"
        }
      ],
      "source": [
        "model.fit(x_train, y_train, batch_size=32, epochs=10, validation_data=(x_test, y_test))"
      ]
    },
    {
      "cell_type": "code",
      "execution_count": null,
      "metadata": {
        "id": "1egdHcrQqdQ6"
      },
      "outputs": [],
      "source": [
        "df = test.copy()\n",
        "\n",
        "df[\"Date\"] = pd.to_datetime(df[\"Date\"], dayfirst=True)\n",
        "df[\"Promo\"] = df[\"Promo\"].fillna(0.0)\n",
        "df[\"Promo_Price\"] = df[\"Promo_Price\"].fillna(df[\"Regular_Price\"])\n",
        "df = pd.get_dummies(df, columns=[\"SKU_id\", \"Store_id\"])\n",
        "\n",
        "y = df[\"Demand\"]\n",
        "x = df.drop([\"Demand\", \"Date\", \"id\"], axis=1)"
      ]
    },
    {
      "cell_type": "code",
      "execution_count": null,
      "metadata": {
        "id": "zLFp6vh0qdQ6"
      },
      "outputs": [],
      "source": [
        "x = tf.convert_to_tensor(x.astype(float))[:,:108] / x_norm"
      ]
    },
    {
      "cell_type": "code",
      "execution_count": null,
      "metadata": {
        "id": "zweGE0XuqdQ6",
        "outputId": "d8446381-69b2-4439-a7ba-7164ad85f47b",
        "colab": {
          "base_uri": "https://localhost:8080/"
        }
      },
      "outputs": [
        {
          "output_type": "stream",
          "name": "stdout",
          "text": [
            "187/187 [==============================] - 1s 2ms/step\n"
          ]
        }
      ],
      "source": [
        "y = model.predict(x)"
      ]
    },
    {
      "cell_type": "code",
      "execution_count": null,
      "metadata": {
        "id": "Bb-BvagYqdQ7"
      },
      "outputs": [],
      "source": [
        "test[\"Demand\"] = y * y_norm"
      ]
    },
    {
      "cell_type": "code",
      "execution_count": null,
      "metadata": {
        "id": "LHDVUabzqdQ7"
      },
      "outputs": [],
      "source": [
        "submission[\"Demand\"] = test.sort_values(\"id\")[\"Demand\"]"
      ]
    },
    {
      "cell_type": "code",
      "execution_count": null,
      "metadata": {
        "id": "iy1e_QwLqdQ7"
      },
      "outputs": [],
      "source": [
        "submission.to_csv(\"submission_v3.csv\", index = False)"
      ]
    },
    {
      "cell_type": "code",
      "execution_count": null,
      "metadata": {
        "id": "ReFsiJGnqdQ7"
      },
      "outputs": [],
      "source": []
    },
    {
      "cell_type": "code",
      "execution_count": null,
      "metadata": {
        "id": "gvQZF2VtqdQ7"
      },
      "outputs": [],
      "source": []
    }
  ],
  "metadata": {
    "kernelspec": {
      "display_name": "Python 3 (ipykernel)",
      "language": "python",
      "name": "python3"
    },
    "language_info": {
      "codemirror_mode": {
        "name": "ipython",
        "version": 3
      },
      "file_extension": ".py",
      "mimetype": "text/x-python",
      "name": "python",
      "nbconvert_exporter": "python",
      "pygments_lexer": "ipython3",
      "version": "3.11.2"
    },
    "vscode": {
      "interpreter": {
        "hash": "aee8b7b246df8f9039afb4144a1f6fd8d2ca17a180786b69acc140d282b71a49"
      }
    },
    "colab": {
      "provenance": []
    }
  },
  "nbformat": 4,
  "nbformat_minor": 0
}