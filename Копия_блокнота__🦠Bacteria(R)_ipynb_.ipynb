{
  "nbformat": 4,
  "nbformat_minor": 0,
  "metadata": {
    "colab": {
      "provenance": []
    },
    "kernelspec": {
      "name": "ir",
      "display_name": "R"
    },
    "language_info": {
      "name": "R"
    }
  },
  "cells": [
    {
      "cell_type": "markdown",
      "source": [
        "**(Optional) CONSENT.** If ok with sharing your Colab for educational purposes, please check the box below with \"X\".\n",
        "\n",
        "<mark>[ X ]</mark> We consent to sharing our Colab (after the assignment ends) with other students/instructors for educational purposes. We understand that sharing is optional and this decision will not affect our grade in any way. "
      ],
      "metadata": {
        "id": "r54yqXIMNi8x"
      }
    },
    {
      "cell_type": "code",
      "source": [
        "download.file('https://github.com/omelnikov/Rlib/raw/main/library1.zip', 'library1.zip', quiet=T, mode='wb') # download zip of installed packages\n",
        "download.file('https://github.com/omelnikov/Rlib/raw/main/library2.zip', 'library2.zip', quiet=T, mode='wb') # download zip of installed packages\n",
        "download.file('https://github.com/omelnikov/Rlib/raw/main/library3.zip', 'library3.zip', quiet=T, mode='wb') # download zip of installed packages\n",
        "unzip('library1.zip', exdir='/')  # unzip package folders to the user's library folder\n",
        "unzip('library2.zip', exdir='/')  # unzip package folders to the user's library folder\n",
        "unzip('library3.zip', exdir='/')  # unzip package folders to the user's library folder\n",
        "paste(list.files('/usr/local/lib/R/site-library'), collapse=', ')  # list of installed packages\n",
        "paste(list.files('/usr/lib/R/library'), collapse=', ')\n",
        "paste(list.files('/usr/lib/R/site-library'), collapse=', ')"
      ],
      "metadata": {
        "colab": {
          "base_uri": "https://localhost:8080/",
          "height": 312
        },
        "id": "5alqlm-yHH-T",
        "outputId": "572aeb19-f0ac-43a1-adb6-129c22e8d469"
      },
      "execution_count": null,
      "outputs": [
        {
          "output_type": "display_data",
          "data": {
            "text/html": [
              "'abind, Biobase, BiocGenerics, BiocManager, BiocVersion, bitops, bslib, butcher, C50, carData, caret, caretEnsemble, caTools, class, classInt, cli, combinat, config, conflicted, corrplot, cowplot, crayon, crosstalk, cubature, Cubist, data.table, dendextend, Deriv, dials, DiceDesign, doParallel, dplyr, DT, e1071, earth, ellipse, flashClust, FNN, fontawesome, foreach, Formula, furrr, future, future.apply, gginference, ggplot2, ggrepel, ggsci, ggsignif, glmnet, globals, glue, gower, GPfit, gridBase, gridExtra, hardhat, here, HiDimDA, htmlwidgets, httpuv, igraph, infer, inum, ipred, IRdisplay, IRkernel, ISLR, iterators, jsonlite, kaggler, keras, klaR, labelled, lars, later, latex2exp, lattice, lava, lazyeval, leaps, lhs, libcoin, listenv, lobstr, magrittr, maptools, MASS, MatrixModels, mclust, mgcv, miniUI, minqa, misc3d, mlbench, mnormt, modeldata, ModelMetrics, mvtnorm, neuralnet, nnet, np, numDeriv, pamr, parallelly, parsnip, partykit, patchwork, pbapply, pbdZMQ, pcaMethods, pkgmaker, plot3D, plotmo, plotrix, pls, plyr, png, polynom, prim, pROC, prodlim, progressr, promises, proxy, psych, quadprog, quantreg, questionr, R.cache, R.methodsS3, R.oo, R.utils, randomForest, RcppEigen, RcppTOML, recipes, registry, repr, reshape2, reticulate, rngtools, rpart, rsample, sass, scatterplot3d, shape, shiny, slider, sourcetools, sp, SparseM, SQUAREM, stacks, styler, superpc, TeachingDemos, tensorflow, tfautograph, tfruns, tictoc, tidymodels, tidyverse, timeDate, tmvnsim, tune, viridis, warp, wavelets, waveslim, workflows, workflowsets, xtable, yardstick, zeallot'"
            ],
            "text/markdown": "'abind, Biobase, BiocGenerics, BiocManager, BiocVersion, bitops, bslib, butcher, C50, carData, caret, caretEnsemble, caTools, class, classInt, cli, combinat, config, conflicted, corrplot, cowplot, crayon, crosstalk, cubature, Cubist, data.table, dendextend, Deriv, dials, DiceDesign, doParallel, dplyr, DT, e1071, earth, ellipse, flashClust, FNN, fontawesome, foreach, Formula, furrr, future, future.apply, gginference, ggplot2, ggrepel, ggsci, ggsignif, glmnet, globals, glue, gower, GPfit, gridBase, gridExtra, hardhat, here, HiDimDA, htmlwidgets, httpuv, igraph, infer, inum, ipred, IRdisplay, IRkernel, ISLR, iterators, jsonlite, kaggler, keras, klaR, labelled, lars, later, latex2exp, lattice, lava, lazyeval, leaps, lhs, libcoin, listenv, lobstr, magrittr, maptools, MASS, MatrixModels, mclust, mgcv, miniUI, minqa, misc3d, mlbench, mnormt, modeldata, ModelMetrics, mvtnorm, neuralnet, nnet, np, numDeriv, pamr, parallelly, parsnip, partykit, patchwork, pbapply, pbdZMQ, pcaMethods, pkgmaker, plot3D, plotmo, plotrix, pls, plyr, png, polynom, prim, pROC, prodlim, progressr, promises, proxy, psych, quadprog, quantreg, questionr, R.cache, R.methodsS3, R.oo, R.utils, randomForest, RcppEigen, RcppTOML, recipes, registry, repr, reshape2, reticulate, rngtools, rpart, rsample, sass, scatterplot3d, shape, shiny, slider, sourcetools, sp, SparseM, SQUAREM, stacks, styler, superpc, TeachingDemos, tensorflow, tfautograph, tfruns, tictoc, tidymodels, tidyverse, timeDate, tmvnsim, tune, viridis, warp, wavelets, waveslim, workflows, workflowsets, xtable, yardstick, zeallot'",
            "text/latex": "'abind, Biobase, BiocGenerics, BiocManager, BiocVersion, bitops, bslib, butcher, C50, carData, caret, caretEnsemble, caTools, class, classInt, cli, combinat, config, conflicted, corrplot, cowplot, crayon, crosstalk, cubature, Cubist, data.table, dendextend, Deriv, dials, DiceDesign, doParallel, dplyr, DT, e1071, earth, ellipse, flashClust, FNN, fontawesome, foreach, Formula, furrr, future, future.apply, gginference, ggplot2, ggrepel, ggsci, ggsignif, glmnet, globals, glue, gower, GPfit, gridBase, gridExtra, hardhat, here, HiDimDA, htmlwidgets, httpuv, igraph, infer, inum, ipred, IRdisplay, IRkernel, ISLR, iterators, jsonlite, kaggler, keras, klaR, labelled, lars, later, latex2exp, lattice, lava, lazyeval, leaps, lhs, libcoin, listenv, lobstr, magrittr, maptools, MASS, MatrixModels, mclust, mgcv, miniUI, minqa, misc3d, mlbench, mnormt, modeldata, ModelMetrics, mvtnorm, neuralnet, nnet, np, numDeriv, pamr, parallelly, parsnip, partykit, patchwork, pbapply, pbdZMQ, pcaMethods, pkgmaker, plot3D, plotmo, plotrix, pls, plyr, png, polynom, prim, pROC, prodlim, progressr, promises, proxy, psych, quadprog, quantreg, questionr, R.cache, R.methodsS3, R.oo, R.utils, randomForest, RcppEigen, RcppTOML, recipes, registry, repr, reshape2, reticulate, rngtools, rpart, rsample, sass, scatterplot3d, shape, shiny, slider, sourcetools, sp, SparseM, SQUAREM, stacks, styler, superpc, TeachingDemos, tensorflow, tfautograph, tfruns, tictoc, tidymodels, tidyverse, timeDate, tmvnsim, tune, viridis, warp, wavelets, waveslim, workflows, workflowsets, xtable, yardstick, zeallot'",
            "text/plain": [
              "[1] \"abind, Biobase, BiocGenerics, BiocManager, BiocVersion, bitops, bslib, butcher, C50, carData, caret, caretEnsemble, caTools, class, classInt, cli, combinat, config, conflicted, corrplot, cowplot, crayon, crosstalk, cubature, Cubist, data.table, dendextend, Deriv, dials, DiceDesign, doParallel, dplyr, DT, e1071, earth, ellipse, flashClust, FNN, fontawesome, foreach, Formula, furrr, future, future.apply, gginference, ggplot2, ggrepel, ggsci, ggsignif, glmnet, globals, glue, gower, GPfit, gridBase, gridExtra, hardhat, here, HiDimDA, htmlwidgets, httpuv, igraph, infer, inum, ipred, IRdisplay, IRkernel, ISLR, iterators, jsonlite, kaggler, keras, klaR, labelled, lars, later, latex2exp, lattice, lava, lazyeval, leaps, lhs, libcoin, listenv, lobstr, magrittr, maptools, MASS, MatrixModels, mclust, mgcv, miniUI, minqa, misc3d, mlbench, mnormt, modeldata, ModelMetrics, mvtnorm, neuralnet, nnet, np, numDeriv, pamr, parallelly, parsnip, partykit, patchwork, pbapply, pbdZMQ, pcaMethods, pkgmaker, plot3D, plotmo, plotrix, pls, plyr, png, polynom, prim, pROC, prodlim, progressr, promises, proxy, psych, quadprog, quantreg, questionr, R.cache, R.methodsS3, R.oo, R.utils, randomForest, RcppEigen, RcppTOML, recipes, registry, repr, reshape2, reticulate, rngtools, rpart, rsample, sass, scatterplot3d, shape, shiny, slider, sourcetools, sp, SparseM, SQUAREM, stacks, styler, superpc, TeachingDemos, tensorflow, tfautograph, tfruns, tictoc, tidymodels, tidyverse, timeDate, tmvnsim, tune, viridis, warp, wavelets, waveslim, workflows, workflowsets, xtable, yardstick, zeallot\""
            ]
          },
          "metadata": {}
        },
        {
          "output_type": "display_data",
          "data": {
            "text/html": [
              "'base, boot, class, cluster, codetools, compiler, datasets, foreign, graphics, grDevices, grid, KernSmooth, lattice, MASS, Matrix, methods, mgcv, nlme, nnet, parallel, rpart, spatial, splines, stats, stats4, survival, tcltk, tools, translations, utils'"
            ],
            "text/markdown": "'base, boot, class, cluster, codetools, compiler, datasets, foreign, graphics, grDevices, grid, KernSmooth, lattice, MASS, Matrix, methods, mgcv, nlme, nnet, parallel, rpart, spatial, splines, stats, stats4, survival, tcltk, tools, translations, utils'",
            "text/latex": "'base, boot, class, cluster, codetools, compiler, datasets, foreign, graphics, grDevices, grid, KernSmooth, lattice, MASS, Matrix, methods, mgcv, nlme, nnet, parallel, rpart, spatial, splines, stats, stats4, survival, tcltk, tools, translations, utils'",
            "text/plain": [
              "[1] \"base, boot, class, cluster, codetools, compiler, datasets, foreign, graphics, grDevices, grid, KernSmooth, lattice, MASS, Matrix, methods, mgcv, nlme, nnet, parallel, rpart, spatial, splines, stats, stats4, survival, tcltk, tools, translations, utils\""
            ]
          },
          "metadata": {}
        },
        {
          "output_type": "display_data",
          "data": {
            "text/html": [
              "'askpass, assertthat, backports, base64enc, bit, bit64, blob, brew, brio, broom, bslib, cachem, callr, cellranger, cli, clipr, colorspace, commonmark, cpp11, crayon, credentials, curl, data.table, DBI, dbplyr, desc, devtools, diffobj, digest, dplyr, dtplyr, ellipsis, evaluate, fansi, farver, fastmap, forcats, fs, gargle, generics, gert, ggplot2, gh, gitcreds, glue, googledrive, googlesheets4, gtable, haven, highr, hms, htmltools, httr, ids, ini, isoband, jquerylib, jsonlite, knitr, labeling, lifecycle, lubridate, magrittr, memoise, mime, modelr, munsell, openssl, pillar, pkgbuild, pkgconfig, pkgload, praise, prettyunits, processx, progress, ps, purrr, R6, rappdirs, rcmdcheck, RColorBrewer, readr, readxl, rematch, rematch2, remotes, reprex, rlang, rmarkdown, roxygen2, rprojroot, rstudioapi, rversions, rvest, sass, scales, selectr, sessioninfo, stringi, stringr, svglite, sys, systemfonts, testthat, tibble, tidyr, tidyselect, tidyverse, timechange, tinytex, tzdb, usethis, utf8, uuid, vctrs, viridisLite, vroom, waldo, whisker, withr, xfun, xml2, xopen, yaml, zip'"
            ],
            "text/markdown": "'askpass, assertthat, backports, base64enc, bit, bit64, blob, brew, brio, broom, bslib, cachem, callr, cellranger, cli, clipr, colorspace, commonmark, cpp11, crayon, credentials, curl, data.table, DBI, dbplyr, desc, devtools, diffobj, digest, dplyr, dtplyr, ellipsis, evaluate, fansi, farver, fastmap, forcats, fs, gargle, generics, gert, ggplot2, gh, gitcreds, glue, googledrive, googlesheets4, gtable, haven, highr, hms, htmltools, httr, ids, ini, isoband, jquerylib, jsonlite, knitr, labeling, lifecycle, lubridate, magrittr, memoise, mime, modelr, munsell, openssl, pillar, pkgbuild, pkgconfig, pkgload, praise, prettyunits, processx, progress, ps, purrr, R6, rappdirs, rcmdcheck, RColorBrewer, readr, readxl, rematch, rematch2, remotes, reprex, rlang, rmarkdown, roxygen2, rprojroot, rstudioapi, rversions, rvest, sass, scales, selectr, sessioninfo, stringi, stringr, svglite, sys, systemfonts, testthat, tibble, tidyr, tidyselect, tidyverse, timechange, tinytex, tzdb, usethis, utf8, uuid, vctrs, viridisLite, vroom, waldo, whisker, withr, xfun, xml2, xopen, yaml, zip'",
            "text/latex": "'askpass, assertthat, backports, base64enc, bit, bit64, blob, brew, brio, broom, bslib, cachem, callr, cellranger, cli, clipr, colorspace, commonmark, cpp11, crayon, credentials, curl, data.table, DBI, dbplyr, desc, devtools, diffobj, digest, dplyr, dtplyr, ellipsis, evaluate, fansi, farver, fastmap, forcats, fs, gargle, generics, gert, ggplot2, gh, gitcreds, glue, googledrive, googlesheets4, gtable, haven, highr, hms, htmltools, httr, ids, ini, isoband, jquerylib, jsonlite, knitr, labeling, lifecycle, lubridate, magrittr, memoise, mime, modelr, munsell, openssl, pillar, pkgbuild, pkgconfig, pkgload, praise, prettyunits, processx, progress, ps, purrr, R6, rappdirs, rcmdcheck, RColorBrewer, readr, readxl, rematch, rematch2, remotes, reprex, rlang, rmarkdown, roxygen2, rprojroot, rstudioapi, rversions, rvest, sass, scales, selectr, sessioninfo, stringi, stringr, svglite, sys, systemfonts, testthat, tibble, tidyr, tidyselect, tidyverse, timechange, tinytex, tzdb, usethis, utf8, uuid, vctrs, viridisLite, vroom, waldo, whisker, withr, xfun, xml2, xopen, yaml, zip'",
            "text/plain": [
              "[1] \"askpass, assertthat, backports, base64enc, bit, bit64, blob, brew, brio, broom, bslib, cachem, callr, cellranger, cli, clipr, colorspace, commonmark, cpp11, crayon, credentials, curl, data.table, DBI, dbplyr, desc, devtools, diffobj, digest, dplyr, dtplyr, ellipsis, evaluate, fansi, farver, fastmap, forcats, fs, gargle, generics, gert, ggplot2, gh, gitcreds, glue, googledrive, googlesheets4, gtable, haven, highr, hms, htmltools, httr, ids, ini, isoband, jquerylib, jsonlite, knitr, labeling, lifecycle, lubridate, magrittr, memoise, mime, modelr, munsell, openssl, pillar, pkgbuild, pkgconfig, pkgload, praise, prettyunits, processx, progress, ps, purrr, R6, rappdirs, rcmdcheck, RColorBrewer, readr, readxl, rematch, rematch2, remotes, reprex, rlang, rmarkdown, roxygen2, rprojroot, rstudioapi, rversions, rvest, sass, scales, selectr, sessioninfo, stringi, stringr, svglite, sys, systemfonts, testthat, tibble, tidyr, tidyselect, tidyverse, timechange, tinytex, tzdb, usethis, utf8, uuid, vctrs, viridisLite, vroom, waldo, whisker, withr, xfun, xml2, xopen, yaml, zip\""
            ]
          },
          "metadata": {}
        }
      ]
    },
    {
      "cell_type": "code",
      "source": [
        "LibsToLoad = c('httr', 'RColorBrewer', 'caret', 'caretEnsemble', 'nnet', 'stacks', 'glmnet', 'rpart', 'neuralnet')\n",
        "tmp = lapply(LibsToLoad, require, character.only=T, quietly=T, warn.conflicts=F)  # load multiple packages at once\n",
        "options(repr.plot.width=20, repr.plot.height=8)   # set default plot size "
      ],
      "metadata": {
        "id": "ZjuIAuNiT2Jb"
      },
      "execution_count": null,
      "outputs": []
    },
    {
      "cell_type": "code",
      "execution_count": null,
      "metadata": {
        "id": "pcYjgu6TFSNU",
        "colab": {
          "base_uri": "https://localhost:8080/",
          "height": 1000
        },
        "outputId": "102c64a8-1721-4968-9296-166844ee0076"
      },
      "outputs": [
        {
          "output_type": "display_data",
          "data": {
            "text/html": [
              "<style>\n",
              ".list-inline {list-style: none; margin:0; padding: 0}\n",
              ".list-inline>li {display: inline-block}\n",
              ".list-inline>li:not(:last-child)::after {content: \"\\00b7\"; padding: 0 .5ex}\n",
              "</style>\n",
              "<ol class=list-inline><li><span style=white-space:pre-wrap>'Archive:  XY_Bacteria.zip'</span></li><li><span style=white-space:pre-wrap>'  inflating: XY_Bacteria.csv         '</span></li></ol>\n"
            ],
            "text/markdown": "1. <span style=white-space:pre-wrap>'Archive:  XY_Bacteria.zip'</span>\n2. <span style=white-space:pre-wrap>'  inflating: XY_Bacteria.csv         '</span>\n\n\n",
            "text/latex": "\\begin{enumerate*}\n\\item 'Archive:  XY\\_Bacteria.zip'\n\\item '  inflating: XY\\_Bacteria.csv         '\n\\end{enumerate*}\n",
            "text/plain": [
              "[1] \"Archive:  XY_Bacteria.zip\"            \n",
              "[2] \"  inflating: XY_Bacteria.csv         \""
            ]
          },
          "metadata": {}
        },
        {
          "output_type": "display_data",
          "data": {
            "text/html": [
              "<strong>$submissions</strong> = <table class=\"dataframe\">\n",
              "<caption>A data.frame: 45 × 8</caption>\n",
              "<thead>\n",
              "\t<tr><th></th><th scope=col>teamNameNullable</th><th scope=col>scoreNullable</th><th scope=col>teamId</th><th scope=col>teamName</th><th scope=col>hasTeamName</th><th scope=col>submissionDate</th><th scope=col>score</th><th scope=col>hasScore</th></tr>\n",
              "\t<tr><th></th><th scope=col>&lt;chr&gt;</th><th scope=col>&lt;chr&gt;</th><th scope=col>&lt;int&gt;</th><th scope=col>&lt;chr&gt;</th><th scope=col>&lt;lgl&gt;</th><th scope=col>&lt;chr&gt;</th><th scope=col>&lt;chr&gt;</th><th scope=col>&lt;lgl&gt;</th></tr>\n",
              "</thead>\n",
              "<tbody>\n",
              "\t<tr><th scope=row>1</th><td>🐧4-MenOfCulture-Nathanson,Nilla               </td><td>0.99720</td><td>8878002</td><td>🐧4-MenOfCulture-Nathanson,Nilla               </td><td>TRUE</td><td>2022-07-18T03:29:26.1333333Z</td><td>0.99720</td><td>TRUE</td></tr>\n",
              "\t<tr><th scope=row>2</th><td>🐧5-JointChiefsOfStaph-Bollineni, Na           </td><td>0.99680</td><td>8881482</td><td>🐧5-JointChiefsOfStaph-Bollineni, Na           </td><td>TRUE</td><td>2022-07-18T00:01:54.4933333Z</td><td>0.99680</td><td>TRUE</td></tr>\n",
              "\t<tr><th scope=row>3</th><td>🐧6-TheTriumvirate-Cahill,Rice,Sahi            </td><td>0.99680</td><td>8877868</td><td>🐧6-TheTriumvirate-Cahill,Rice,Sahi            </td><td>TRUE</td><td>2022-07-18T00:10:45.7466667Z</td><td>0.99680</td><td>TRUE</td></tr>\n",
              "\t<tr><th scope=row>4</th><td>JE-TBD-Barrett,Natali                          </td><td>0.99660</td><td>8235147</td><td>JE-TBD-Barrett,Natali                          </td><td>TRUE</td><td>2022-03-10T20:16:29.35Z     </td><td>0.99660</td><td>TRUE</td></tr>\n",
              "\t<tr><th scope=row>5</th><td>🐼-1-team germ_Mullie,DeBarth                  </td><td>0.99660</td><td>9276039</td><td>🐼-1-team germ_Mullie,DeBarth                  </td><td>TRUE</td><td>2022-10-17T00:10:46.2833333Z</td><td>0.99660</td><td>TRUE</td></tr>\n",
              "\t<tr><th scope=row>6</th><td>JF-BacteriaBattalion-Brodsky,Khan              </td><td>0.99640</td><td>8258737</td><td>JF-BacteriaBattalion-Brodsky,Khan              </td><td>TRUE</td><td>2022-03-09T02:19:41.5033333Z</td><td>0.99640</td><td>TRUE</td></tr>\n",
              "\t<tr><th scope=row>7</th><td>JD-Germophobe-Hernandez-Merran-Rumman          </td><td>0.99640</td><td>8296182</td><td>JD-Germophobe-Hernandez-Merran-Rumman          </td><td>TRUE</td><td>2022-03-14T00:40:52.0466667Z</td><td>0.99640</td><td>TRUE</td></tr>\n",
              "\t<tr><th scope=row>8</th><td>🐧2-LongShortGermMemory-Samman,Yoo             </td><td>0.99640</td><td>8877826</td><td>🐧2-LongShortGermMemory-Samman,Yoo             </td><td>TRUE</td><td>2022-07-18T00:42:34.6166667Z</td><td>0.99640</td><td>TRUE</td></tr>\n",
              "\t<tr><th scope=row>9</th><td>🐼1-TBD-Arif,Herron,Phouasalith                </td><td>0.99620</td><td>9290796</td><td>🐼1-TBD-Arif,Herron,Phouasalith                </td><td>TRUE</td><td>2022-10-16T20:26:22.3066667Z</td><td>0.99620</td><td>TRUE</td></tr>\n",
              "\t<tr><th scope=row>10</th><td>JA-Culture-Mendola,Hu                          </td><td>0.99580</td><td>8265342</td><td>JA-Culture-Mendola,Hu                          </td><td>TRUE</td><td>2022-03-07T23:30:57.7333333Z</td><td>0.99580</td><td>TRUE</td></tr>\n",
              "\t<tr><th scope=row>11</th><td>🐧 6-Isopropyl-Acosta,Nguyen                   </td><td>0.99580</td><td>8882934</td><td>🐧 6-Isopropyl-Acosta,Nguyen                   </td><td>TRUE</td><td>2022-07-18T02:20:48.0433333Z</td><td>0.99580</td><td>TRUE</td></tr>\n",
              "\t<tr><th scope=row>12</th><td>🐼4-IR-Finberg,Waddell                         </td><td>0.99580</td><td>9269113</td><td>🐼4-IR-Finberg,Waddell                         </td><td>TRUE</td><td>2022-10-14T03:34:43.5166667Z</td><td>0.99580</td><td>TRUE</td></tr>\n",
              "\t<tr><th scope=row>13</th><td>🐼6-Micro-Sabo, Wang                           </td><td>0.99540</td><td>9270252</td><td>🐼6-Micro-Sabo, Wang                           </td><td>TRUE</td><td>2022-10-17T01:02:02.3233333Z</td><td>0.99540</td><td>TRUE</td></tr>\n",
              "\t<tr><th scope=row>14</th><td>JG-InsaneInTheMembrane-Lee,Packard             </td><td>0.99520</td><td>8269049</td><td>JG-InsaneInTheMembrane-Lee,Packard             </td><td>TRUE</td><td>2022-03-13T18:39:34.98Z     </td><td>0.99520</td><td>TRUE</td></tr>\n",
              "\t<tr><th scope=row>15</th><td>JB-Biohazards-Corson,Givre                     </td><td>0.99460</td><td>8259886</td><td>JB-Biohazards-Corson,Givre                     </td><td>TRUE</td><td>2022-03-13T18:30:26.5433333Z</td><td>0.99460</td><td>TRUE</td></tr>\n",
              "\t<tr><th scope=row>16</th><td>JH-TheHandWashers-Katsaros,Li                  </td><td>0.99420</td><td>8296191</td><td>JH-TheHandWashers-Katsaros,Li                  </td><td>TRUE</td><td>2022-03-14T01:55:36.6266667Z</td><td>0.99420</td><td>TRUE</td></tr>\n",
              "\t<tr><th scope=row>17</th><td>JC-TheOmosisJonesTeam-Dinh,Hogge               </td><td>0.99240</td><td>8291721</td><td>JC-TheOmosisJonesTeam-Dinh,Hogge               </td><td>TRUE</td><td>2022-03-13T08:14:44.43Z     </td><td>0.99240</td><td>TRUE</td></tr>\n",
              "\t<tr><th scope=row>18</th><td>🐼2-TheGrowth-Sudol,Wu                         </td><td>0.99080</td><td>9266262</td><td>🐼2-TheGrowth-Sudol,Wu                         </td><td>TRUE</td><td>2022-10-17T01:14:21.08Z     </td><td>0.99080</td><td>TRUE</td></tr>\n",
              "\t<tr><th scope=row>19</th><td>🐼5-Genes-Waldman,Lamichhane                   </td><td>0.97800</td><td>9272128</td><td>🐼5-Genes-Waldman,Lamichhane                   </td><td>TRUE</td><td>2022-10-16T04:25:05.3Z      </td><td>0.97800</td><td>TRUE</td></tr>\n",
              "\t<tr><th scope=row>20</th><td>🐧06🦠 3-FancyBacteria-Cui,Rivas               </td><td>0.97580</td><td>8891341</td><td>🐧06🦠 3-FancyBacteria-Cui,Rivas               </td><td>TRUE</td><td>2022-07-17T21:12:44.11Z     </td><td>0.97580</td><td>TRUE</td></tr>\n",
              "\t<tr><th scope=row>21</th><td>IC-Vanaheimr-Argunov,Lukianov,Odnakov          </td><td>0.96260</td><td>8269542</td><td>IC-Vanaheimr-Argunov,Lukianov,Odnakov          </td><td>TRUE</td><td>2022-03-13T20:36:05.7233333Z</td><td>0.96260</td><td>TRUE</td></tr>\n",
              "\t<tr><th scope=row>22</th><td>DQ-Wuhan Laboratory-Mozharov,Veips,Novitsky    </td><td>0.95160</td><td>8300335</td><td>DQ-Wuhan Laboratory-Mozharov,Veips,Novitsky    </td><td>TRUE</td><td>2022-03-13T18:30:41.4033333Z</td><td>0.95160</td><td>TRUE</td></tr>\n",
              "\t<tr><th scope=row>23</th><td>DH-Cuties💅🏼🌸-Malchenko, Yakunina            </td><td>0.94560</td><td>8300687</td><td>DH-Cuties💅🏼🌸-Malchenko, Yakunina            </td><td>TRUE</td><td>2022-03-13T20:19:18.1866667Z</td><td>0.94560</td><td>TRUE</td></tr>\n",
              "\t<tr><th scope=row>24</th><td>8S-Zаходим-Sokolov,Babayan, Korotonozhkin      </td><td>0.93480</td><td>8299466</td><td>8S-Zаходим-Sokolov,Babayan, Korotonozhkin      </td><td>TRUE</td><td>2022-03-13T19:32:22.94Z     </td><td>0.93480</td><td>TRUE</td></tr>\n",
              "\t<tr><th scope=row>25</th><td>DU-HW8U-Baminiwatte,Chernikova,Zaitsew         </td><td>0.93440</td><td>8298483</td><td>DU-HW8U-Baminiwatte,Chernikova,Zaitsew         </td><td>TRUE</td><td>2022-03-13T17:52:18.72Z     </td><td>0.93440</td><td>TRUE</td></tr>\n",
              "\t<tr><th scope=row>26</th><td>DJ-FXK-Fayzulina,Xu,Kokin                      </td><td>0.93440</td><td>8300645</td><td>DJ-FXK-Fayzulina,Xu,Kokin                      </td><td>TRUE</td><td>2022-03-13T20:20:19.64Z     </td><td>0.93440</td><td>TRUE</td></tr>\n",
              "\t<tr><th scope=row>27</th><td>DD-Drastuti-Dzhkha,Stepin,Rustinsky            </td><td>0.93380</td><td>8300937</td><td>DD-Drastuti-Dzhkha,Stepin,Rustinsky            </td><td>TRUE</td><td>2022-03-13T20:04:31.7133333Z</td><td>0.93380</td><td>TRUE</td></tr>\n",
              "\t<tr><th scope=row>28</th><td>IB-Bacillus-Ivanushkina, Miniakhmetov, Blanutsa</td><td>0.93220</td><td>8277936</td><td>IB-Bacillus-Ivanushkina, Miniakhmetov, Blanutsa</td><td>TRUE</td><td>2022-03-12T20:07:42.5066667Z</td><td>0.93220</td><td>TRUE</td></tr>\n",
              "\t<tr><th scope=row>29</th><td>DE-Demons-Fishman,Astanina,Goncharov           </td><td>0.93100</td><td>8300261</td><td>DE-Demons-Fishman,Astanina,Goncharov           </td><td>TRUE</td><td>2022-03-13T16:26:25.72Z     </td><td>0.93100</td><td>TRUE</td></tr>\n",
              "\t<tr><th scope=row>30</th><td>DV-SoloAgain-Fakhretdinov,Kalmanovich, Alyakaev</td><td>0.92740</td><td>8300754</td><td>DV-SoloAgain-Fakhretdinov,Kalmanovich, Alyakaev</td><td>TRUE</td><td>2022-03-13T20:03:33.9733333Z</td><td>0.92740</td><td>TRUE</td></tr>\n",
              "\t<tr><th scope=row>31</th><td>DR-Weapon Devils-Parakal,Lysaniuk,Karcha       </td><td>0.92660</td><td>8265830</td><td>DR-Weapon Devils-Parakal,Lysaniuk,Karcha       </td><td>TRUE</td><td>2022-03-13T19:05:37.0833333Z</td><td>0.92660</td><td>TRUE</td></tr>\n",
              "\t<tr><th scope=row>32</th><td>DA-Lord, Why?-Ivanov, Ivanova, Gilmutdinov     </td><td>0.92600</td><td>8301156</td><td>DA-Lord, Why?-Ivanov, Ivanova, Gilmutdinov     </td><td>TRUE</td><td>2022-03-13T20:51:06.99Z     </td><td>0.92600</td><td>TRUE</td></tr>\n",
              "\t<tr><th scope=row>33</th><td>🦠Baseline in Python                           </td><td>0.91720</td><td>8229636</td><td>🦠Baseline in Python                           </td><td>TRUE</td><td>2022-02-28T04:02:49.3533333Z</td><td>0.91720</td><td>TRUE</td></tr>\n",
              "\t<tr><th scope=row>34</th><td>DO-ByeIG-Sharara, Babakekhyan, Vasyutin        </td><td>0.91640</td><td>8300663</td><td>DO-ByeIG-Sharara, Babakekhyan, Vasyutin        </td><td>TRUE</td><td>2022-03-13T20:49:06.3966667Z</td><td>0.91640</td><td>TRUE</td></tr>\n",
              "\t<tr><th scope=row>35</th><td>DL-umberjacks-Akopyan,Korzun,Lanin             </td><td>0.81180</td><td>8300830</td><td>DL-umberjacks-Akopyan,Korzun,Lanin             </td><td>TRUE</td><td>2022-03-13T20:51:21.66Z     </td><td>0.81180</td><td>TRUE</td></tr>\n",
              "\t<tr><th scope=row>36</th><td>DI-ALONE-Kurbatov, Nikitin, Ivanov             </td><td>0.80120</td><td>8280528</td><td>DI-ALONE-Kurbatov, Nikitin, Ivanov             </td><td>TRUE</td><td>2022-03-12T08:36:47.0133333Z</td><td>0.80120</td><td>TRUE</td></tr>\n",
              "\t<tr><th scope=row>37</th><td>DK-TeamName-Zotov,Dryagin, Madhavan            </td><td>0.80040</td><td>8285601</td><td>DK-TeamName-Zotov,Dryagin, Madhavan            </td><td>TRUE</td><td>2022-03-13T15:33:48.5266667Z</td><td>0.80040</td><td>TRUE</td></tr>\n",
              "\t<tr><th scope=row>38</th><td>DM-OugaBouga-Vasilev, Ushakov, Yangirov        </td><td>0.80040</td><td>8295536</td><td>DM-OugaBouga-Vasilev, Ushakov, Yangirov        </td><td>TRUE</td><td>2022-03-13T16:39:27.63Z     </td><td>0.80040</td><td>TRUE</td></tr>\n",
              "\t<tr><th scope=row>39</th><td>DN-COCONUT_Rybnikova, Gyursoy, Bashminova      </td><td>0.79980</td><td>8301268</td><td>DN-COCONUT_Rybnikova, Gyursoy, Bashminova      </td><td>TRUE</td><td>2022-03-14T08:16:06.9866667Z</td><td>0.79980</td><td>TRUE</td></tr>\n",
              "\t<tr><th scope=row>40</th><td>DB-L-Kukarkins,Ruban                           </td><td>0.79620</td><td>8300428</td><td>DB-L-Kukarkins,Ruban                           </td><td>TRUE</td><td>2022-03-13T17:01:56.51Z     </td><td>0.79620</td><td>TRUE</td></tr>\n",
              "\t<tr><th scope=row>41</th><td>DF-ABC-Egorov, Poletaev                        </td><td>0.79620</td><td>8294876</td><td>DF-ABC-Egorov, Poletaev                        </td><td>TRUE</td><td>2022-03-13T18:01:38.49Z     </td><td>0.79620</td><td>TRUE</td></tr>\n",
              "\t<tr><th scope=row>42</th><td>🦠Baseline in R                                </td><td>0.79080</td><td>8236247</td><td>🦠Baseline in R                                </td><td>TRUE</td><td>2022-03-01T09:10:36.43Z     </td><td>0.79080</td><td>TRUE</td></tr>\n",
              "\t<tr><th scope=row>43</th><td>DC-KOV-Kobylkin, Omarova, Vinogradov           </td><td>0.79080</td><td>8312693</td><td>DC-KOV-Kobylkin, Omarova, Vinogradov           </td><td>TRUE</td><td>2022-03-15T20:52:46.86Z     </td><td>0.79080</td><td>TRUE</td></tr>\n",
              "\t<tr><th scope=row>44</th><td>DU-HW8U-Baminavatte,Chernikova,Zaitsew         </td><td>0.78280</td><td>8299216</td><td>DU-HW8U-Baminavatte,Chernikova,Zaitsew         </td><td>TRUE</td><td>2022-03-13T12:34:39.1933333Z</td><td>0.78280</td><td>TRUE</td></tr>\n",
              "\t<tr><th scope=row>45</th><td>DG-P2P-Repin, Ignatev                          </td><td>0.68540</td><td>8301193</td><td>DG-P2P-Repin, Ignatev                          </td><td>TRUE</td><td>2022-03-13T18:56:59.3533333Z</td><td>0.68540</td><td>TRUE</td></tr>\n",
              "</tbody>\n",
              "</table>\n"
            ],
            "text/markdown": "**$submissions** = \nA data.frame: 45 × 8\n\n| <!--/--> | teamNameNullable &lt;chr&gt; | scoreNullable &lt;chr&gt; | teamId &lt;int&gt; | teamName &lt;chr&gt; | hasTeamName &lt;lgl&gt; | submissionDate &lt;chr&gt; | score &lt;chr&gt; | hasScore &lt;lgl&gt; |\n|---|---|---|---|---|---|---|---|---|\n| 1 | 🐧4-MenOfCulture-Nathanson,Nilla                | 0.99720 | 8878002 | 🐧4-MenOfCulture-Nathanson,Nilla                | TRUE | 2022-07-18T03:29:26.1333333Z | 0.99720 | TRUE |\n| 2 | 🐧5-JointChiefsOfStaph-Bollineni, Na            | 0.99680 | 8881482 | 🐧5-JointChiefsOfStaph-Bollineni, Na            | TRUE | 2022-07-18T00:01:54.4933333Z | 0.99680 | TRUE |\n| 3 | 🐧6-TheTriumvirate-Cahill,Rice,Sahi             | 0.99680 | 8877868 | 🐧6-TheTriumvirate-Cahill,Rice,Sahi             | TRUE | 2022-07-18T00:10:45.7466667Z | 0.99680 | TRUE |\n| 4 | JE-TBD-Barrett,Natali                           | 0.99660 | 8235147 | JE-TBD-Barrett,Natali                           | TRUE | 2022-03-10T20:16:29.35Z      | 0.99660 | TRUE |\n| 5 | 🐼-1-team germ_Mullie,DeBarth                   | 0.99660 | 9276039 | 🐼-1-team germ_Mullie,DeBarth                   | TRUE | 2022-10-17T00:10:46.2833333Z | 0.99660 | TRUE |\n| 6 | JF-BacteriaBattalion-Brodsky,Khan               | 0.99640 | 8258737 | JF-BacteriaBattalion-Brodsky,Khan               | TRUE | 2022-03-09T02:19:41.5033333Z | 0.99640 | TRUE |\n| 7 | JD-Germophobe-Hernandez-Merran-Rumman           | 0.99640 | 8296182 | JD-Germophobe-Hernandez-Merran-Rumman           | TRUE | 2022-03-14T00:40:52.0466667Z | 0.99640 | TRUE |\n| 8 | 🐧2-LongShortGermMemory-Samman,Yoo              | 0.99640 | 8877826 | 🐧2-LongShortGermMemory-Samman,Yoo              | TRUE | 2022-07-18T00:42:34.6166667Z | 0.99640 | TRUE |\n| 9 | 🐼1-TBD-Arif,Herron,Phouasalith                 | 0.99620 | 9290796 | 🐼1-TBD-Arif,Herron,Phouasalith                 | TRUE | 2022-10-16T20:26:22.3066667Z | 0.99620 | TRUE |\n| 10 | JA-Culture-Mendola,Hu                           | 0.99580 | 8265342 | JA-Culture-Mendola,Hu                           | TRUE | 2022-03-07T23:30:57.7333333Z | 0.99580 | TRUE |\n| 11 | 🐧 6-Isopropyl-Acosta,Nguyen                    | 0.99580 | 8882934 | 🐧 6-Isopropyl-Acosta,Nguyen                    | TRUE | 2022-07-18T02:20:48.0433333Z | 0.99580 | TRUE |\n| 12 | 🐼4-IR-Finberg,Waddell                          | 0.99580 | 9269113 | 🐼4-IR-Finberg,Waddell                          | TRUE | 2022-10-14T03:34:43.5166667Z | 0.99580 | TRUE |\n| 13 | 🐼6-Micro-Sabo, Wang                            | 0.99540 | 9270252 | 🐼6-Micro-Sabo, Wang                            | TRUE | 2022-10-17T01:02:02.3233333Z | 0.99540 | TRUE |\n| 14 | JG-InsaneInTheMembrane-Lee,Packard              | 0.99520 | 8269049 | JG-InsaneInTheMembrane-Lee,Packard              | TRUE | 2022-03-13T18:39:34.98Z      | 0.99520 | TRUE |\n| 15 | JB-Biohazards-Corson,Givre                      | 0.99460 | 8259886 | JB-Biohazards-Corson,Givre                      | TRUE | 2022-03-13T18:30:26.5433333Z | 0.99460 | TRUE |\n| 16 | JH-TheHandWashers-Katsaros,Li                   | 0.99420 | 8296191 | JH-TheHandWashers-Katsaros,Li                   | TRUE | 2022-03-14T01:55:36.6266667Z | 0.99420 | TRUE |\n| 17 | JC-TheOmosisJonesTeam-Dinh,Hogge                | 0.99240 | 8291721 | JC-TheOmosisJonesTeam-Dinh,Hogge                | TRUE | 2022-03-13T08:14:44.43Z      | 0.99240 | TRUE |\n| 18 | 🐼2-TheGrowth-Sudol,Wu                          | 0.99080 | 9266262 | 🐼2-TheGrowth-Sudol,Wu                          | TRUE | 2022-10-17T01:14:21.08Z      | 0.99080 | TRUE |\n| 19 | 🐼5-Genes-Waldman,Lamichhane                    | 0.97800 | 9272128 | 🐼5-Genes-Waldman,Lamichhane                    | TRUE | 2022-10-16T04:25:05.3Z       | 0.97800 | TRUE |\n| 20 | 🐧06🦠 3-FancyBacteria-Cui,Rivas                | 0.97580 | 8891341 | 🐧06🦠 3-FancyBacteria-Cui,Rivas                | TRUE | 2022-07-17T21:12:44.11Z      | 0.97580 | TRUE |\n| 21 | IC-Vanaheimr-Argunov,Lukianov,Odnakov           | 0.96260 | 8269542 | IC-Vanaheimr-Argunov,Lukianov,Odnakov           | TRUE | 2022-03-13T20:36:05.7233333Z | 0.96260 | TRUE |\n| 22 | DQ-Wuhan Laboratory-Mozharov,Veips,Novitsky     | 0.95160 | 8300335 | DQ-Wuhan Laboratory-Mozharov,Veips,Novitsky     | TRUE | 2022-03-13T18:30:41.4033333Z | 0.95160 | TRUE |\n| 23 | DH-Cuties💅🏼🌸-Malchenko, Yakunina             | 0.94560 | 8300687 | DH-Cuties💅🏼🌸-Malchenko, Yakunina             | TRUE | 2022-03-13T20:19:18.1866667Z | 0.94560 | TRUE |\n| 24 | 8S-Zаходим-Sokolov,Babayan, Korotonozhkin       | 0.93480 | 8299466 | 8S-Zаходим-Sokolov,Babayan, Korotonozhkin       | TRUE | 2022-03-13T19:32:22.94Z      | 0.93480 | TRUE |\n| 25 | DU-HW8U-Baminiwatte,Chernikova,Zaitsew          | 0.93440 | 8298483 | DU-HW8U-Baminiwatte,Chernikova,Zaitsew          | TRUE | 2022-03-13T17:52:18.72Z      | 0.93440 | TRUE |\n| 26 | DJ-FXK-Fayzulina,Xu,Kokin                       | 0.93440 | 8300645 | DJ-FXK-Fayzulina,Xu,Kokin                       | TRUE | 2022-03-13T20:20:19.64Z      | 0.93440 | TRUE |\n| 27 | DD-Drastuti-Dzhkha,Stepin,Rustinsky             | 0.93380 | 8300937 | DD-Drastuti-Dzhkha,Stepin,Rustinsky             | TRUE | 2022-03-13T20:04:31.7133333Z | 0.93380 | TRUE |\n| 28 | IB-Bacillus-Ivanushkina, Miniakhmetov, Blanutsa | 0.93220 | 8277936 | IB-Bacillus-Ivanushkina, Miniakhmetov, Blanutsa | TRUE | 2022-03-12T20:07:42.5066667Z | 0.93220 | TRUE |\n| 29 | DE-Demons-Fishman,Astanina,Goncharov            | 0.93100 | 8300261 | DE-Demons-Fishman,Astanina,Goncharov            | TRUE | 2022-03-13T16:26:25.72Z      | 0.93100 | TRUE |\n| 30 | DV-SoloAgain-Fakhretdinov,Kalmanovich, Alyakaev | 0.92740 | 8300754 | DV-SoloAgain-Fakhretdinov,Kalmanovich, Alyakaev | TRUE | 2022-03-13T20:03:33.9733333Z | 0.92740 | TRUE |\n| 31 | DR-Weapon Devils-Parakal,Lysaniuk,Karcha        | 0.92660 | 8265830 | DR-Weapon Devils-Parakal,Lysaniuk,Karcha        | TRUE | 2022-03-13T19:05:37.0833333Z | 0.92660 | TRUE |\n| 32 | DA-Lord, Why?-Ivanov, Ivanova, Gilmutdinov      | 0.92600 | 8301156 | DA-Lord, Why?-Ivanov, Ivanova, Gilmutdinov      | TRUE | 2022-03-13T20:51:06.99Z      | 0.92600 | TRUE |\n| 33 | 🦠Baseline in Python                            | 0.91720 | 8229636 | 🦠Baseline in Python                            | TRUE | 2022-02-28T04:02:49.3533333Z | 0.91720 | TRUE |\n| 34 | DO-ByeIG-Sharara, Babakekhyan, Vasyutin         | 0.91640 | 8300663 | DO-ByeIG-Sharara, Babakekhyan, Vasyutin         | TRUE | 2022-03-13T20:49:06.3966667Z | 0.91640 | TRUE |\n| 35 | DL-umberjacks-Akopyan,Korzun,Lanin              | 0.81180 | 8300830 | DL-umberjacks-Akopyan,Korzun,Lanin              | TRUE | 2022-03-13T20:51:21.66Z      | 0.81180 | TRUE |\n| 36 | DI-ALONE-Kurbatov, Nikitin, Ivanov              | 0.80120 | 8280528 | DI-ALONE-Kurbatov, Nikitin, Ivanov              | TRUE | 2022-03-12T08:36:47.0133333Z | 0.80120 | TRUE |\n| 37 | DK-TeamName-Zotov,Dryagin, Madhavan             | 0.80040 | 8285601 | DK-TeamName-Zotov,Dryagin, Madhavan             | TRUE | 2022-03-13T15:33:48.5266667Z | 0.80040 | TRUE |\n| 38 | DM-OugaBouga-Vasilev, Ushakov, Yangirov         | 0.80040 | 8295536 | DM-OugaBouga-Vasilev, Ushakov, Yangirov         | TRUE | 2022-03-13T16:39:27.63Z      | 0.80040 | TRUE |\n| 39 | DN-COCONUT_Rybnikova, Gyursoy, Bashminova       | 0.79980 | 8301268 | DN-COCONUT_Rybnikova, Gyursoy, Bashminova       | TRUE | 2022-03-14T08:16:06.9866667Z | 0.79980 | TRUE |\n| 40 | DB-L-Kukarkins,Ruban                            | 0.79620 | 8300428 | DB-L-Kukarkins,Ruban                            | TRUE | 2022-03-13T17:01:56.51Z      | 0.79620 | TRUE |\n| 41 | DF-ABC-Egorov, Poletaev                         | 0.79620 | 8294876 | DF-ABC-Egorov, Poletaev                         | TRUE | 2022-03-13T18:01:38.49Z      | 0.79620 | TRUE |\n| 42 | 🦠Baseline in R                                 | 0.79080 | 8236247 | 🦠Baseline in R                                 | TRUE | 2022-03-01T09:10:36.43Z      | 0.79080 | TRUE |\n| 43 | DC-KOV-Kobylkin, Omarova, Vinogradov            | 0.79080 | 8312693 | DC-KOV-Kobylkin, Omarova, Vinogradov            | TRUE | 2022-03-15T20:52:46.86Z      | 0.79080 | TRUE |\n| 44 | DU-HW8U-Baminavatte,Chernikova,Zaitsew          | 0.78280 | 8299216 | DU-HW8U-Baminavatte,Chernikova,Zaitsew          | TRUE | 2022-03-13T12:34:39.1933333Z | 0.78280 | TRUE |\n| 45 | DG-P2P-Repin, Ignatev                           | 0.68540 | 8301193 | DG-P2P-Repin, Ignatev                           | TRUE | 2022-03-13T18:56:59.3533333Z | 0.68540 | TRUE |\n\n",
            "text/latex": "\\textbf{\\$submissions} = A data.frame: 45 × 8\n\\begin{tabular}{r|llllllll}\n  & teamNameNullable & scoreNullable & teamId & teamName & hasTeamName & submissionDate & score & hasScore\\\\\n  & <chr> & <chr> & <int> & <chr> & <lgl> & <chr> & <chr> & <lgl>\\\\\n\\hline\n\t1 & 🐧4-MenOfCulture-Nathanson,Nilla                & 0.99720 & 8878002 & 🐧4-MenOfCulture-Nathanson,Nilla                & TRUE & 2022-07-18T03:29:26.1333333Z & 0.99720 & TRUE\\\\\n\t2 & 🐧5-JointChiefsOfStaph-Bollineni, Na            & 0.99680 & 8881482 & 🐧5-JointChiefsOfStaph-Bollineni, Na            & TRUE & 2022-07-18T00:01:54.4933333Z & 0.99680 & TRUE\\\\\n\t3 & 🐧6-TheTriumvirate-Cahill,Rice,Sahi             & 0.99680 & 8877868 & 🐧6-TheTriumvirate-Cahill,Rice,Sahi             & TRUE & 2022-07-18T00:10:45.7466667Z & 0.99680 & TRUE\\\\\n\t4 & JE-TBD-Barrett,Natali                           & 0.99660 & 8235147 & JE-TBD-Barrett,Natali                           & TRUE & 2022-03-10T20:16:29.35Z      & 0.99660 & TRUE\\\\\n\t5 & 🐼-1-team germ\\_Mullie,DeBarth                   & 0.99660 & 9276039 & 🐼-1-team germ\\_Mullie,DeBarth                   & TRUE & 2022-10-17T00:10:46.2833333Z & 0.99660 & TRUE\\\\\n\t6 & JF-BacteriaBattalion-Brodsky,Khan               & 0.99640 & 8258737 & JF-BacteriaBattalion-Brodsky,Khan               & TRUE & 2022-03-09T02:19:41.5033333Z & 0.99640 & TRUE\\\\\n\t7 & JD-Germophobe-Hernandez-Merran-Rumman           & 0.99640 & 8296182 & JD-Germophobe-Hernandez-Merran-Rumman           & TRUE & 2022-03-14T00:40:52.0466667Z & 0.99640 & TRUE\\\\\n\t8 & 🐧2-LongShortGermMemory-Samman,Yoo              & 0.99640 & 8877826 & 🐧2-LongShortGermMemory-Samman,Yoo              & TRUE & 2022-07-18T00:42:34.6166667Z & 0.99640 & TRUE\\\\\n\t9 & 🐼1-TBD-Arif,Herron,Phouasalith                 & 0.99620 & 9290796 & 🐼1-TBD-Arif,Herron,Phouasalith                 & TRUE & 2022-10-16T20:26:22.3066667Z & 0.99620 & TRUE\\\\\n\t10 & JA-Culture-Mendola,Hu                           & 0.99580 & 8265342 & JA-Culture-Mendola,Hu                           & TRUE & 2022-03-07T23:30:57.7333333Z & 0.99580 & TRUE\\\\\n\t11 & 🐧 6-Isopropyl-Acosta,Nguyen                    & 0.99580 & 8882934 & 🐧 6-Isopropyl-Acosta,Nguyen                    & TRUE & 2022-07-18T02:20:48.0433333Z & 0.99580 & TRUE\\\\\n\t12 & 🐼4-IR-Finberg,Waddell                          & 0.99580 & 9269113 & 🐼4-IR-Finberg,Waddell                          & TRUE & 2022-10-14T03:34:43.5166667Z & 0.99580 & TRUE\\\\\n\t13 & 🐼6-Micro-Sabo, Wang                            & 0.99540 & 9270252 & 🐼6-Micro-Sabo, Wang                            & TRUE & 2022-10-17T01:02:02.3233333Z & 0.99540 & TRUE\\\\\n\t14 & JG-InsaneInTheMembrane-Lee,Packard              & 0.99520 & 8269049 & JG-InsaneInTheMembrane-Lee,Packard              & TRUE & 2022-03-13T18:39:34.98Z      & 0.99520 & TRUE\\\\\n\t15 & JB-Biohazards-Corson,Givre                      & 0.99460 & 8259886 & JB-Biohazards-Corson,Givre                      & TRUE & 2022-03-13T18:30:26.5433333Z & 0.99460 & TRUE\\\\\n\t16 & JH-TheHandWashers-Katsaros,Li                   & 0.99420 & 8296191 & JH-TheHandWashers-Katsaros,Li                   & TRUE & 2022-03-14T01:55:36.6266667Z & 0.99420 & TRUE\\\\\n\t17 & JC-TheOmosisJonesTeam-Dinh,Hogge                & 0.99240 & 8291721 & JC-TheOmosisJonesTeam-Dinh,Hogge                & TRUE & 2022-03-13T08:14:44.43Z      & 0.99240 & TRUE\\\\\n\t18 & 🐼2-TheGrowth-Sudol,Wu                          & 0.99080 & 9266262 & 🐼2-TheGrowth-Sudol,Wu                          & TRUE & 2022-10-17T01:14:21.08Z      & 0.99080 & TRUE\\\\\n\t19 & 🐼5-Genes-Waldman,Lamichhane                    & 0.97800 & 9272128 & 🐼5-Genes-Waldman,Lamichhane                    & TRUE & 2022-10-16T04:25:05.3Z       & 0.97800 & TRUE\\\\\n\t20 & 🐧06🦠 3-FancyBacteria-Cui,Rivas                & 0.97580 & 8891341 & 🐧06🦠 3-FancyBacteria-Cui,Rivas                & TRUE & 2022-07-17T21:12:44.11Z      & 0.97580 & TRUE\\\\\n\t21 & IC-Vanaheimr-Argunov,Lukianov,Odnakov           & 0.96260 & 8269542 & IC-Vanaheimr-Argunov,Lukianov,Odnakov           & TRUE & 2022-03-13T20:36:05.7233333Z & 0.96260 & TRUE\\\\\n\t22 & DQ-Wuhan Laboratory-Mozharov,Veips,Novitsky     & 0.95160 & 8300335 & DQ-Wuhan Laboratory-Mozharov,Veips,Novitsky     & TRUE & 2022-03-13T18:30:41.4033333Z & 0.95160 & TRUE\\\\\n\t23 & DH-Cuties💅🏼🌸-Malchenko, Yakunina             & 0.94560 & 8300687 & DH-Cuties💅🏼🌸-Malchenko, Yakunina             & TRUE & 2022-03-13T20:19:18.1866667Z & 0.94560 & TRUE\\\\\n\t24 & 8S-Zаходим-Sokolov,Babayan, Korotonozhkin       & 0.93480 & 8299466 & 8S-Zаходим-Sokolov,Babayan, Korotonozhkin       & TRUE & 2022-03-13T19:32:22.94Z      & 0.93480 & TRUE\\\\\n\t25 & DU-HW8U-Baminiwatte,Chernikova,Zaitsew          & 0.93440 & 8298483 & DU-HW8U-Baminiwatte,Chernikova,Zaitsew          & TRUE & 2022-03-13T17:52:18.72Z      & 0.93440 & TRUE\\\\\n\t26 & DJ-FXK-Fayzulina,Xu,Kokin                       & 0.93440 & 8300645 & DJ-FXK-Fayzulina,Xu,Kokin                       & TRUE & 2022-03-13T20:20:19.64Z      & 0.93440 & TRUE\\\\\n\t27 & DD-Drastuti-Dzhkha,Stepin,Rustinsky             & 0.93380 & 8300937 & DD-Drastuti-Dzhkha,Stepin,Rustinsky             & TRUE & 2022-03-13T20:04:31.7133333Z & 0.93380 & TRUE\\\\\n\t28 & IB-Bacillus-Ivanushkina, Miniakhmetov, Blanutsa & 0.93220 & 8277936 & IB-Bacillus-Ivanushkina, Miniakhmetov, Blanutsa & TRUE & 2022-03-12T20:07:42.5066667Z & 0.93220 & TRUE\\\\\n\t29 & DE-Demons-Fishman,Astanina,Goncharov            & 0.93100 & 8300261 & DE-Demons-Fishman,Astanina,Goncharov            & TRUE & 2022-03-13T16:26:25.72Z      & 0.93100 & TRUE\\\\\n\t30 & DV-SoloAgain-Fakhretdinov,Kalmanovich, Alyakaev & 0.92740 & 8300754 & DV-SoloAgain-Fakhretdinov,Kalmanovich, Alyakaev & TRUE & 2022-03-13T20:03:33.9733333Z & 0.92740 & TRUE\\\\\n\t31 & DR-Weapon Devils-Parakal,Lysaniuk,Karcha        & 0.92660 & 8265830 & DR-Weapon Devils-Parakal,Lysaniuk,Karcha        & TRUE & 2022-03-13T19:05:37.0833333Z & 0.92660 & TRUE\\\\\n\t32 & DA-Lord, Why?-Ivanov, Ivanova, Gilmutdinov      & 0.92600 & 8301156 & DA-Lord, Why?-Ivanov, Ivanova, Gilmutdinov      & TRUE & 2022-03-13T20:51:06.99Z      & 0.92600 & TRUE\\\\\n\t33 & 🦠Baseline in Python                            & 0.91720 & 8229636 & 🦠Baseline in Python                            & TRUE & 2022-02-28T04:02:49.3533333Z & 0.91720 & TRUE\\\\\n\t34 & DO-ByeIG-Sharara, Babakekhyan, Vasyutin         & 0.91640 & 8300663 & DO-ByeIG-Sharara, Babakekhyan, Vasyutin         & TRUE & 2022-03-13T20:49:06.3966667Z & 0.91640 & TRUE\\\\\n\t35 & DL-umberjacks-Akopyan,Korzun,Lanin              & 0.81180 & 8300830 & DL-umberjacks-Akopyan,Korzun,Lanin              & TRUE & 2022-03-13T20:51:21.66Z      & 0.81180 & TRUE\\\\\n\t36 & DI-ALONE-Kurbatov, Nikitin, Ivanov              & 0.80120 & 8280528 & DI-ALONE-Kurbatov, Nikitin, Ivanov              & TRUE & 2022-03-12T08:36:47.0133333Z & 0.80120 & TRUE\\\\\n\t37 & DK-TeamName-Zotov,Dryagin, Madhavan             & 0.80040 & 8285601 & DK-TeamName-Zotov,Dryagin, Madhavan             & TRUE & 2022-03-13T15:33:48.5266667Z & 0.80040 & TRUE\\\\\n\t38 & DM-OugaBouga-Vasilev, Ushakov, Yangirov         & 0.80040 & 8295536 & DM-OugaBouga-Vasilev, Ushakov, Yangirov         & TRUE & 2022-03-13T16:39:27.63Z      & 0.80040 & TRUE\\\\\n\t39 & DN-COCONUT\\_Rybnikova, Gyursoy, Bashminova       & 0.79980 & 8301268 & DN-COCONUT\\_Rybnikova, Gyursoy, Bashminova       & TRUE & 2022-03-14T08:16:06.9866667Z & 0.79980 & TRUE\\\\\n\t40 & DB-L-Kukarkins,Ruban                            & 0.79620 & 8300428 & DB-L-Kukarkins,Ruban                            & TRUE & 2022-03-13T17:01:56.51Z      & 0.79620 & TRUE\\\\\n\t41 & DF-ABC-Egorov, Poletaev                         & 0.79620 & 8294876 & DF-ABC-Egorov, Poletaev                         & TRUE & 2022-03-13T18:01:38.49Z      & 0.79620 & TRUE\\\\\n\t42 & 🦠Baseline in R                                 & 0.79080 & 8236247 & 🦠Baseline in R                                 & TRUE & 2022-03-01T09:10:36.43Z      & 0.79080 & TRUE\\\\\n\t43 & DC-KOV-Kobylkin, Omarova, Vinogradov            & 0.79080 & 8312693 & DC-KOV-Kobylkin, Omarova, Vinogradov            & TRUE & 2022-03-15T20:52:46.86Z      & 0.79080 & TRUE\\\\\n\t44 & DU-HW8U-Baminavatte,Chernikova,Zaitsew          & 0.78280 & 8299216 & DU-HW8U-Baminavatte,Chernikova,Zaitsew          & TRUE & 2022-03-13T12:34:39.1933333Z & 0.78280 & TRUE\\\\\n\t45 & DG-P2P-Repin, Ignatev                           & 0.68540 & 8301193 & DG-P2P-Repin, Ignatev                           & TRUE & 2022-03-13T18:56:59.3533333Z & 0.68540 & TRUE\\\\\n\\end{tabular}\n",
            "text/plain": [
              "$submissions\n",
              "                                  teamNameNullable scoreNullable  teamId\n",
              "1                 🐧4-MenOfCulture-Nathanson,Nilla       0.99720 8878002\n",
              "2             🐧5-JointChiefsOfStaph-Bollineni, Na       0.99680 8881482\n",
              "3              🐧6-TheTriumvirate-Cahill,Rice,Sahi       0.99680 8877868\n",
              "4                            JE-TBD-Barrett,Natali       0.99660 8235147\n",
              "5                    🐼-1-team germ_Mullie,DeBarth       0.99660 9276039\n",
              "6                JF-BacteriaBattalion-Brodsky,Khan       0.99640 8258737\n",
              "7            JD-Germophobe-Hernandez-Merran-Rumman       0.99640 8296182\n",
              "8               🐧2-LongShortGermMemory-Samman,Yoo       0.99640 8877826\n",
              "9                  🐼1-TBD-Arif,Herron,Phouasalith       0.99620 9290796\n",
              "10                           JA-Culture-Mendola,Hu       0.99580 8265342\n",
              "11                    🐧 6-Isopropyl-Acosta,Nguyen       0.99580 8882934\n",
              "12                          🐼4-IR-Finberg,Waddell       0.99580 9269113\n",
              "13                            🐼6-Micro-Sabo, Wang       0.99540 9270252\n",
              "14              JG-InsaneInTheMembrane-Lee,Packard       0.99520 8269049\n",
              "15                      JB-Biohazards-Corson,Givre       0.99460 8259886\n",
              "16                   JH-TheHandWashers-Katsaros,Li       0.99420 8296191\n",
              "17                JC-TheOmosisJonesTeam-Dinh,Hogge       0.99240 8291721\n",
              "18                          🐼2-TheGrowth-Sudol,Wu       0.99080 9266262\n",
              "19                    🐼5-Genes-Waldman,Lamichhane       0.97800 9272128\n",
              "20                🐧06🦠 3-FancyBacteria-Cui,Rivas       0.97580 8891341\n",
              "21           IC-Vanaheimr-Argunov,Lukianov,Odnakov       0.96260 8269542\n",
              "22     DQ-Wuhan Laboratory-Mozharov,Veips,Novitsky       0.95160 8300335\n",
              "23             DH-Cuties💅🏼🌸-Malchenko, Yakunina       0.94560 8300687\n",
              "24       8S-Zаходим-Sokolov,Babayan, Korotonozhkin       0.93480 8299466\n",
              "25          DU-HW8U-Baminiwatte,Chernikova,Zaitsew       0.93440 8298483\n",
              "26                       DJ-FXK-Fayzulina,Xu,Kokin       0.93440 8300645\n",
              "27             DD-Drastuti-Dzhkha,Stepin,Rustinsky       0.93380 8300937\n",
              "28 IB-Bacillus-Ivanushkina, Miniakhmetov, Blanutsa       0.93220 8277936\n",
              "29            DE-Demons-Fishman,Astanina,Goncharov       0.93100 8300261\n",
              "30 DV-SoloAgain-Fakhretdinov,Kalmanovich, Alyakaev       0.92740 8300754\n",
              "31        DR-Weapon Devils-Parakal,Lysaniuk,Karcha       0.92660 8265830\n",
              "32      DA-Lord, Why?-Ivanov, Ivanova, Gilmutdinov       0.92600 8301156\n",
              "33                            🦠Baseline in Python       0.91720 8229636\n",
              "34         DO-ByeIG-Sharara, Babakekhyan, Vasyutin       0.91640 8300663\n",
              "35              DL-umberjacks-Akopyan,Korzun,Lanin       0.81180 8300830\n",
              "36              DI-ALONE-Kurbatov, Nikitin, Ivanov       0.80120 8280528\n",
              "37             DK-TeamName-Zotov,Dryagin, Madhavan       0.80040 8285601\n",
              "38         DM-OugaBouga-Vasilev, Ushakov, Yangirov       0.80040 8295536\n",
              "39       DN-COCONUT_Rybnikova, Gyursoy, Bashminova       0.79980 8301268\n",
              "40                            DB-L-Kukarkins,Ruban       0.79620 8300428\n",
              "41                         DF-ABC-Egorov, Poletaev       0.79620 8294876\n",
              "42                                 🦠Baseline in R       0.79080 8236247\n",
              "43            DC-KOV-Kobylkin, Omarova, Vinogradov       0.79080 8312693\n",
              "44          DU-HW8U-Baminavatte,Chernikova,Zaitsew       0.78280 8299216\n",
              "45                           DG-P2P-Repin, Ignatev       0.68540 8301193\n",
              "                                          teamName hasTeamName\n",
              "1                 🐧4-MenOfCulture-Nathanson,Nilla        TRUE\n",
              "2             🐧5-JointChiefsOfStaph-Bollineni, Na        TRUE\n",
              "3              🐧6-TheTriumvirate-Cahill,Rice,Sahi        TRUE\n",
              "4                            JE-TBD-Barrett,Natali        TRUE\n",
              "5                    🐼-1-team germ_Mullie,DeBarth        TRUE\n",
              "6                JF-BacteriaBattalion-Brodsky,Khan        TRUE\n",
              "7            JD-Germophobe-Hernandez-Merran-Rumman        TRUE\n",
              "8               🐧2-LongShortGermMemory-Samman,Yoo        TRUE\n",
              "9                  🐼1-TBD-Arif,Herron,Phouasalith        TRUE\n",
              "10                           JA-Culture-Mendola,Hu        TRUE\n",
              "11                    🐧 6-Isopropyl-Acosta,Nguyen        TRUE\n",
              "12                          🐼4-IR-Finberg,Waddell        TRUE\n",
              "13                            🐼6-Micro-Sabo, Wang        TRUE\n",
              "14              JG-InsaneInTheMembrane-Lee,Packard        TRUE\n",
              "15                      JB-Biohazards-Corson,Givre        TRUE\n",
              "16                   JH-TheHandWashers-Katsaros,Li        TRUE\n",
              "17                JC-TheOmosisJonesTeam-Dinh,Hogge        TRUE\n",
              "18                          🐼2-TheGrowth-Sudol,Wu        TRUE\n",
              "19                    🐼5-Genes-Waldman,Lamichhane        TRUE\n",
              "20                🐧06🦠 3-FancyBacteria-Cui,Rivas        TRUE\n",
              "21           IC-Vanaheimr-Argunov,Lukianov,Odnakov        TRUE\n",
              "22     DQ-Wuhan Laboratory-Mozharov,Veips,Novitsky        TRUE\n",
              "23             DH-Cuties💅🏼🌸-Malchenko, Yakunina        TRUE\n",
              "24       8S-Zаходим-Sokolov,Babayan, Korotonozhkin        TRUE\n",
              "25          DU-HW8U-Baminiwatte,Chernikova,Zaitsew        TRUE\n",
              "26                       DJ-FXK-Fayzulina,Xu,Kokin        TRUE\n",
              "27             DD-Drastuti-Dzhkha,Stepin,Rustinsky        TRUE\n",
              "28 IB-Bacillus-Ivanushkina, Miniakhmetov, Blanutsa        TRUE\n",
              "29            DE-Demons-Fishman,Astanina,Goncharov        TRUE\n",
              "30 DV-SoloAgain-Fakhretdinov,Kalmanovich, Alyakaev        TRUE\n",
              "31        DR-Weapon Devils-Parakal,Lysaniuk,Karcha        TRUE\n",
              "32      DA-Lord, Why?-Ivanov, Ivanova, Gilmutdinov        TRUE\n",
              "33                            🦠Baseline in Python        TRUE\n",
              "34         DO-ByeIG-Sharara, Babakekhyan, Vasyutin        TRUE\n",
              "35              DL-umberjacks-Akopyan,Korzun,Lanin        TRUE\n",
              "36              DI-ALONE-Kurbatov, Nikitin, Ivanov        TRUE\n",
              "37             DK-TeamName-Zotov,Dryagin, Madhavan        TRUE\n",
              "38         DM-OugaBouga-Vasilev, Ushakov, Yangirov        TRUE\n",
              "39       DN-COCONUT_Rybnikova, Gyursoy, Bashminova        TRUE\n",
              "40                            DB-L-Kukarkins,Ruban        TRUE\n",
              "41                         DF-ABC-Egorov, Poletaev        TRUE\n",
              "42                                 🦠Baseline in R        TRUE\n",
              "43            DC-KOV-Kobylkin, Omarova, Vinogradov        TRUE\n",
              "44          DU-HW8U-Baminavatte,Chernikova,Zaitsew        TRUE\n",
              "45                           DG-P2P-Repin, Ignatev        TRUE\n",
              "                 submissionDate   score hasScore\n",
              "1  2022-07-18T03:29:26.1333333Z 0.99720     TRUE\n",
              "2  2022-07-18T00:01:54.4933333Z 0.99680     TRUE\n",
              "3  2022-07-18T00:10:45.7466667Z 0.99680     TRUE\n",
              "4       2022-03-10T20:16:29.35Z 0.99660     TRUE\n",
              "5  2022-10-17T00:10:46.2833333Z 0.99660     TRUE\n",
              "6  2022-03-09T02:19:41.5033333Z 0.99640     TRUE\n",
              "7  2022-03-14T00:40:52.0466667Z 0.99640     TRUE\n",
              "8  2022-07-18T00:42:34.6166667Z 0.99640     TRUE\n",
              "9  2022-10-16T20:26:22.3066667Z 0.99620     TRUE\n",
              "10 2022-03-07T23:30:57.7333333Z 0.99580     TRUE\n",
              "11 2022-07-18T02:20:48.0433333Z 0.99580     TRUE\n",
              "12 2022-10-14T03:34:43.5166667Z 0.99580     TRUE\n",
              "13 2022-10-17T01:02:02.3233333Z 0.99540     TRUE\n",
              "14      2022-03-13T18:39:34.98Z 0.99520     TRUE\n",
              "15 2022-03-13T18:30:26.5433333Z 0.99460     TRUE\n",
              "16 2022-03-14T01:55:36.6266667Z 0.99420     TRUE\n",
              "17      2022-03-13T08:14:44.43Z 0.99240     TRUE\n",
              "18      2022-10-17T01:14:21.08Z 0.99080     TRUE\n",
              "19       2022-10-16T04:25:05.3Z 0.97800     TRUE\n",
              "20      2022-07-17T21:12:44.11Z 0.97580     TRUE\n",
              "21 2022-03-13T20:36:05.7233333Z 0.96260     TRUE\n",
              "22 2022-03-13T18:30:41.4033333Z 0.95160     TRUE\n",
              "23 2022-03-13T20:19:18.1866667Z 0.94560     TRUE\n",
              "24      2022-03-13T19:32:22.94Z 0.93480     TRUE\n",
              "25      2022-03-13T17:52:18.72Z 0.93440     TRUE\n",
              "26      2022-03-13T20:20:19.64Z 0.93440     TRUE\n",
              "27 2022-03-13T20:04:31.7133333Z 0.93380     TRUE\n",
              "28 2022-03-12T20:07:42.5066667Z 0.93220     TRUE\n",
              "29      2022-03-13T16:26:25.72Z 0.93100     TRUE\n",
              "30 2022-03-13T20:03:33.9733333Z 0.92740     TRUE\n",
              "31 2022-03-13T19:05:37.0833333Z 0.92660     TRUE\n",
              "32      2022-03-13T20:51:06.99Z 0.92600     TRUE\n",
              "33 2022-02-28T04:02:49.3533333Z 0.91720     TRUE\n",
              "34 2022-03-13T20:49:06.3966667Z 0.91640     TRUE\n",
              "35      2022-03-13T20:51:21.66Z 0.81180     TRUE\n",
              "36 2022-03-12T08:36:47.0133333Z 0.80120     TRUE\n",
              "37 2022-03-13T15:33:48.5266667Z 0.80040     TRUE\n",
              "38      2022-03-13T16:39:27.63Z 0.80040     TRUE\n",
              "39 2022-03-14T08:16:06.9866667Z 0.79980     TRUE\n",
              "40      2022-03-13T17:01:56.51Z 0.79620     TRUE\n",
              "41      2022-03-13T18:01:38.49Z 0.79620     TRUE\n",
              "42      2022-03-01T09:10:36.43Z 0.79080     TRUE\n",
              "43      2022-03-15T20:52:46.86Z 0.79080     TRUE\n",
              "44 2022-03-13T12:34:39.1933333Z 0.78280     TRUE\n",
              "45 2022-03-13T18:56:59.3533333Z 0.68540     TRUE\n"
            ]
          },
          "metadata": {}
        }
      ],
      "source": [
        "Competition = '22822bacteria'\n",
        "FileCSV = 'XY_Bacteria.csv'\n",
        "FileZip = 'XY_Bacteria.zip'\n",
        "# capture.output( kaggler::kgl_auth(creds_file='kaggle.json'), file='log_auth.txt')     # log is deleted when session ends\n",
        "url = paste0('https://www.kaggle.com/api/v1/competitions/data/download/', Competition,'/', FileCSV)\n",
        "FileURL = httr::GET(url, kaggler::kgl_auth())$url   # extract full path to zipped data file\n",
        "download.file(FileURL, FileZip, quiet=T, mode=\"wb\") # download zipped data file\n",
        "system(paste0('unzip ', FileZip), intern=T)         # oddly unzip() fails to properly unzip\n",
        "kaggler::kgl_competitions_leaderboard_view(Competition)\n",
        "timeLimit = 60  # seconds"
      ]
    },
    {
      "cell_type": "code",
      "source": [
        "XY = read.csv(FileCSV, na.strings=\"\", stringsAsFactors=T)  # replace \"\" with NA\n",
        "YCol = 'y'       # target column\n",
        "NumericCols =  unlist(lapply(XY, is.numeric))   # find numeric columns\n",
        "vX = XY[is.na(XY[YCol]), !(names(XY) %in% c(YCol))]  # testing inputs only\n",
        "tXY = XY[!is.na(XY[YCol]), ]  # training inputs with output\n",
        "tY = tXY[YCol]                # training response\n",
        "tX = tail(tXY[,1:(ncol(tXY)-1)])\n",
        "tail(vX, 2)  # a few rows from the test set\n",
        "tail(tX, 2)  # a few rows from the train set\n",
        "tail(tXY, 2) # a few rows from the training set"
      ],
      "metadata": {
        "colab": {
          "base_uri": "https://localhost:8080/",
          "height": 467
        },
        "id": "XFKiXDmLLO45",
        "outputId": "fd2be213-09e0-4de8-9e7a-02a5d447a2b6"
      },
      "execution_count": null,
      "outputs": [
        {
          "output_type": "display_data",
          "data": {
            "text/html": [
              "<table class=\"dataframe\">\n",
              "<caption>A data.frame: 2 × 286</caption>\n",
              "<thead>\n",
              "\t<tr><th></th><th scope=col>A0T0G0C10</th><th scope=col>A0T0G1C9</th><th scope=col>A0T0G2C8</th><th scope=col>A0T0G3C7</th><th scope=col>A0T0G4C6</th><th scope=col>A0T0G5C5</th><th scope=col>A0T0G6C4</th><th scope=col>A0T0G7C3</th><th scope=col>A0T0G8C2</th><th scope=col>A0T0G9C1</th><th scope=col>⋯</th><th scope=col>A8T0G0C2</th><th scope=col>A8T0G1C1</th><th scope=col>A8T0G2C0</th><th scope=col>A8T1G0C1</th><th scope=col>A8T1G1C0</th><th scope=col>A8T2G0C0</th><th scope=col>A9T0G0C1</th><th scope=col>A9T0G1C0</th><th scope=col>A9T1G0C0</th><th scope=col>A10T0G0C0</th></tr>\n",
              "\t<tr><th></th><th scope=col>&lt;int&gt;</th><th scope=col>&lt;int&gt;</th><th scope=col>&lt;int&gt;</th><th scope=col>&lt;int&gt;</th><th scope=col>&lt;int&gt;</th><th scope=col>&lt;int&gt;</th><th scope=col>&lt;int&gt;</th><th scope=col>&lt;int&gt;</th><th scope=col>&lt;int&gt;</th><th scope=col>&lt;int&gt;</th><th scope=col>⋯</th><th scope=col>&lt;int&gt;</th><th scope=col>&lt;int&gt;</th><th scope=col>&lt;int&gt;</th><th scope=col>&lt;int&gt;</th><th scope=col>&lt;int&gt;</th><th scope=col>&lt;int&gt;</th><th scope=col>&lt;int&gt;</th><th scope=col>&lt;int&gt;</th><th scope=col>&lt;int&gt;</th><th scope=col>&lt;int&gt;</th></tr>\n",
              "</thead>\n",
              "<tbody>\n",
              "\t<tr><th scope=row>9999</th><td>10</td><td>31</td><td>66</td><td>107</td><td>142</td><td>156</td><td>143</td><td>107</td><td>66</td><td>31</td><td>⋯</td><td>420</td><td>296</td><td>303</td><td>421</td><td>302</td><td>306</td><td>31</td><td>31</td><td>31</td><td>10</td></tr>\n",
              "\t<tr><th scope=row>10000</th><td>10</td><td>31</td><td>66</td><td>107</td><td>142</td><td>155</td><td>142</td><td>108</td><td>66</td><td>31</td><td>⋯</td><td> 66</td><td>429</td><td>307</td><td> 93</td><td> 93</td><td> 66</td><td>31</td><td>31</td><td>31</td><td>10</td></tr>\n",
              "</tbody>\n",
              "</table>\n"
            ],
            "text/markdown": "\nA data.frame: 2 × 286\n\n| <!--/--> | A0T0G0C10 &lt;int&gt; | A0T0G1C9 &lt;int&gt; | A0T0G2C8 &lt;int&gt; | A0T0G3C7 &lt;int&gt; | A0T0G4C6 &lt;int&gt; | A0T0G5C5 &lt;int&gt; | A0T0G6C4 &lt;int&gt; | A0T0G7C3 &lt;int&gt; | A0T0G8C2 &lt;int&gt; | A0T0G9C1 &lt;int&gt; | ⋯ ⋯ | A8T0G0C2 &lt;int&gt; | A8T0G1C1 &lt;int&gt; | A8T0G2C0 &lt;int&gt; | A8T1G0C1 &lt;int&gt; | A8T1G1C0 &lt;int&gt; | A8T2G0C0 &lt;int&gt; | A9T0G0C1 &lt;int&gt; | A9T0G1C0 &lt;int&gt; | A9T1G0C0 &lt;int&gt; | A10T0G0C0 &lt;int&gt; |\n|---|---|---|---|---|---|---|---|---|---|---|---|---|---|---|---|---|---|---|---|---|---|\n| 9999 | 10 | 31 | 66 | 107 | 142 | 156 | 143 | 107 | 66 | 31 | ⋯ | 420 | 296 | 303 | 421 | 302 | 306 | 31 | 31 | 31 | 10 |\n| 10000 | 10 | 31 | 66 | 107 | 142 | 155 | 142 | 108 | 66 | 31 | ⋯ |  66 | 429 | 307 |  93 |  93 |  66 | 31 | 31 | 31 | 10 |\n\n",
            "text/latex": "A data.frame: 2 × 286\n\\begin{tabular}{r|lllllllllllllllllllll}\n  & A0T0G0C10 & A0T0G1C9 & A0T0G2C8 & A0T0G3C7 & A0T0G4C6 & A0T0G5C5 & A0T0G6C4 & A0T0G7C3 & A0T0G8C2 & A0T0G9C1 & ⋯ & A8T0G0C2 & A8T0G1C1 & A8T0G2C0 & A8T1G0C1 & A8T1G1C0 & A8T2G0C0 & A9T0G0C1 & A9T0G1C0 & A9T1G0C0 & A10T0G0C0\\\\\n  & <int> & <int> & <int> & <int> & <int> & <int> & <int> & <int> & <int> & <int> & ⋯ & <int> & <int> & <int> & <int> & <int> & <int> & <int> & <int> & <int> & <int>\\\\\n\\hline\n\t9999 & 10 & 31 & 66 & 107 & 142 & 156 & 143 & 107 & 66 & 31 & ⋯ & 420 & 296 & 303 & 421 & 302 & 306 & 31 & 31 & 31 & 10\\\\\n\t10000 & 10 & 31 & 66 & 107 & 142 & 155 & 142 & 108 & 66 & 31 & ⋯ &  66 & 429 & 307 &  93 &  93 &  66 & 31 & 31 & 31 & 10\\\\\n\\end{tabular}\n",
            "text/plain": [
              "      A0T0G0C10 A0T0G1C9 A0T0G2C8 A0T0G3C7 A0T0G4C6 A0T0G5C5 A0T0G6C4 A0T0G7C3\n",
              "9999  10        31       66       107      142      156      143      107     \n",
              "10000 10        31       66       107      142      155      142      108     \n",
              "      A0T0G8C2 A0T0G9C1 ⋯ A8T0G0C2 A8T0G1C1 A8T0G2C0 A8T1G0C1 A8T1G1C0 A8T2G0C0\n",
              "9999  66       31       ⋯ 420      296      303      421      302      306     \n",
              "10000 66       31       ⋯  66      429      307       93       93       66     \n",
              "      A9T0G0C1 A9T0G1C0 A9T1G0C0 A10T0G0C0\n",
              "9999  31       31       31       10       \n",
              "10000 31       31       31       10       "
            ]
          },
          "metadata": {}
        },
        {
          "output_type": "display_data",
          "data": {
            "text/html": [
              "<table class=\"dataframe\">\n",
              "<caption>A data.frame: 2 × 286</caption>\n",
              "<thead>\n",
              "\t<tr><th></th><th scope=col>A0T0G0C10</th><th scope=col>A0T0G1C9</th><th scope=col>A0T0G2C8</th><th scope=col>A0T0G3C7</th><th scope=col>A0T0G4C6</th><th scope=col>A0T0G5C5</th><th scope=col>A0T0G6C4</th><th scope=col>A0T0G7C3</th><th scope=col>A0T0G8C2</th><th scope=col>A0T0G9C1</th><th scope=col>⋯</th><th scope=col>A8T0G0C2</th><th scope=col>A8T0G1C1</th><th scope=col>A8T0G2C0</th><th scope=col>A8T1G0C1</th><th scope=col>A8T1G1C0</th><th scope=col>A8T2G0C0</th><th scope=col>A9T0G0C1</th><th scope=col>A9T0G1C0</th><th scope=col>A9T1G0C0</th><th scope=col>A10T0G0C0</th></tr>\n",
              "\t<tr><th></th><th scope=col>&lt;int&gt;</th><th scope=col>&lt;int&gt;</th><th scope=col>&lt;int&gt;</th><th scope=col>&lt;int&gt;</th><th scope=col>&lt;int&gt;</th><th scope=col>&lt;int&gt;</th><th scope=col>&lt;int&gt;</th><th scope=col>&lt;int&gt;</th><th scope=col>&lt;int&gt;</th><th scope=col>&lt;int&gt;</th><th scope=col>⋯</th><th scope=col>&lt;int&gt;</th><th scope=col>&lt;int&gt;</th><th scope=col>&lt;int&gt;</th><th scope=col>&lt;int&gt;</th><th scope=col>&lt;int&gt;</th><th scope=col>&lt;int&gt;</th><th scope=col>&lt;int&gt;</th><th scope=col>&lt;int&gt;</th><th scope=col>&lt;int&gt;</th><th scope=col>&lt;int&gt;</th></tr>\n",
              "</thead>\n",
              "<tbody>\n",
              "\t<tr><th scope=row>99999</th><td>10</td><td>31</td><td>66</td><td>107</td><td>142</td><td>155</td><td>142</td><td>107</td><td>66</td><td>31</td><td>⋯</td><td>66</td><td>93</td><td>66</td><td>93</td><td>93</td><td>66</td><td>31</td><td>31</td><td>31</td><td>10</td></tr>\n",
              "\t<tr><th scope=row>100000</th><td>10</td><td>32</td><td>41</td><td> 21</td><td> 45</td><td> 89</td><td> 45</td><td> 60</td><td>67</td><td>31</td><td>⋯</td><td>52</td><td>97</td><td>82</td><td>74</td><td>80</td><td>52</td><td>31</td><td>32</td><td> 7</td><td>10</td></tr>\n",
              "</tbody>\n",
              "</table>\n"
            ],
            "text/markdown": "\nA data.frame: 2 × 286\n\n| <!--/--> | A0T0G0C10 &lt;int&gt; | A0T0G1C9 &lt;int&gt; | A0T0G2C8 &lt;int&gt; | A0T0G3C7 &lt;int&gt; | A0T0G4C6 &lt;int&gt; | A0T0G5C5 &lt;int&gt; | A0T0G6C4 &lt;int&gt; | A0T0G7C3 &lt;int&gt; | A0T0G8C2 &lt;int&gt; | A0T0G9C1 &lt;int&gt; | ⋯ ⋯ | A8T0G0C2 &lt;int&gt; | A8T0G1C1 &lt;int&gt; | A8T0G2C0 &lt;int&gt; | A8T1G0C1 &lt;int&gt; | A8T1G1C0 &lt;int&gt; | A8T2G0C0 &lt;int&gt; | A9T0G0C1 &lt;int&gt; | A9T0G1C0 &lt;int&gt; | A9T1G0C0 &lt;int&gt; | A10T0G0C0 &lt;int&gt; |\n|---|---|---|---|---|---|---|---|---|---|---|---|---|---|---|---|---|---|---|---|---|---|\n| 99999 | 10 | 31 | 66 | 107 | 142 | 155 | 142 | 107 | 66 | 31 | ⋯ | 66 | 93 | 66 | 93 | 93 | 66 | 31 | 31 | 31 | 10 |\n| 100000 | 10 | 32 | 41 |  21 |  45 |  89 |  45 |  60 | 67 | 31 | ⋯ | 52 | 97 | 82 | 74 | 80 | 52 | 31 | 32 |  7 | 10 |\n\n",
            "text/latex": "A data.frame: 2 × 286\n\\begin{tabular}{r|lllllllllllllllllllll}\n  & A0T0G0C10 & A0T0G1C9 & A0T0G2C8 & A0T0G3C7 & A0T0G4C6 & A0T0G5C5 & A0T0G6C4 & A0T0G7C3 & A0T0G8C2 & A0T0G9C1 & ⋯ & A8T0G0C2 & A8T0G1C1 & A8T0G2C0 & A8T1G0C1 & A8T1G1C0 & A8T2G0C0 & A9T0G0C1 & A9T0G1C0 & A9T1G0C0 & A10T0G0C0\\\\\n  & <int> & <int> & <int> & <int> & <int> & <int> & <int> & <int> & <int> & <int> & ⋯ & <int> & <int> & <int> & <int> & <int> & <int> & <int> & <int> & <int> & <int>\\\\\n\\hline\n\t99999 & 10 & 31 & 66 & 107 & 142 & 155 & 142 & 107 & 66 & 31 & ⋯ & 66 & 93 & 66 & 93 & 93 & 66 & 31 & 31 & 31 & 10\\\\\n\t100000 & 10 & 32 & 41 &  21 &  45 &  89 &  45 &  60 & 67 & 31 & ⋯ & 52 & 97 & 82 & 74 & 80 & 52 & 31 & 32 &  7 & 10\\\\\n\\end{tabular}\n",
            "text/plain": [
              "       A0T0G0C10 A0T0G1C9 A0T0G2C8 A0T0G3C7 A0T0G4C6 A0T0G5C5 A0T0G6C4 A0T0G7C3\n",
              "99999  10        31       66       107      142      155      142      107     \n",
              "100000 10        32       41        21       45       89       45       60     \n",
              "       A0T0G8C2 A0T0G9C1 ⋯ A8T0G0C2 A8T0G1C1 A8T0G2C0 A8T1G0C1 A8T1G1C0\n",
              "99999  66       31       ⋯ 66       93       66       93       93      \n",
              "100000 67       31       ⋯ 52       97       82       74       80      \n",
              "       A8T2G0C0 A9T0G0C1 A9T0G1C0 A9T1G0C0 A10T0G0C0\n",
              "99999  66       31       31       31       10       \n",
              "100000 52       31       32        7       10       "
            ]
          },
          "metadata": {}
        },
        {
          "output_type": "display_data",
          "data": {
            "text/html": [
              "<table class=\"dataframe\">\n",
              "<caption>A data.frame: 2 × 287</caption>\n",
              "<thead>\n",
              "\t<tr><th></th><th scope=col>A0T0G0C10</th><th scope=col>A0T0G1C9</th><th scope=col>A0T0G2C8</th><th scope=col>A0T0G3C7</th><th scope=col>A0T0G4C6</th><th scope=col>A0T0G5C5</th><th scope=col>A0T0G6C4</th><th scope=col>A0T0G7C3</th><th scope=col>A0T0G8C2</th><th scope=col>A0T0G9C1</th><th scope=col>⋯</th><th scope=col>A8T0G1C1</th><th scope=col>A8T0G2C0</th><th scope=col>A8T1G0C1</th><th scope=col>A8T1G1C0</th><th scope=col>A8T2G0C0</th><th scope=col>A9T0G0C1</th><th scope=col>A9T0G1C0</th><th scope=col>A9T1G0C0</th><th scope=col>A10T0G0C0</th><th scope=col>y</th></tr>\n",
              "\t<tr><th></th><th scope=col>&lt;int&gt;</th><th scope=col>&lt;int&gt;</th><th scope=col>&lt;int&gt;</th><th scope=col>&lt;int&gt;</th><th scope=col>&lt;int&gt;</th><th scope=col>&lt;int&gt;</th><th scope=col>&lt;int&gt;</th><th scope=col>&lt;int&gt;</th><th scope=col>&lt;int&gt;</th><th scope=col>&lt;int&gt;</th><th scope=col>⋯</th><th scope=col>&lt;int&gt;</th><th scope=col>&lt;int&gt;</th><th scope=col>&lt;int&gt;</th><th scope=col>&lt;int&gt;</th><th scope=col>&lt;int&gt;</th><th scope=col>&lt;int&gt;</th><th scope=col>&lt;int&gt;</th><th scope=col>&lt;int&gt;</th><th scope=col>&lt;int&gt;</th><th scope=col>&lt;int&gt;</th></tr>\n",
              "</thead>\n",
              "<tbody>\n",
              "\t<tr><th scope=row>99999</th><td>10</td><td>31</td><td>66</td><td>107</td><td>142</td><td>155</td><td>142</td><td>107</td><td>66</td><td>31</td><td>⋯</td><td>93</td><td>66</td><td>93</td><td>93</td><td>66</td><td>31</td><td>31</td><td>31</td><td>10</td><td>4</td></tr>\n",
              "\t<tr><th scope=row>100000</th><td>10</td><td>32</td><td>41</td><td> 21</td><td> 45</td><td> 89</td><td> 45</td><td> 60</td><td>67</td><td>31</td><td>⋯</td><td>97</td><td>82</td><td>74</td><td>80</td><td>52</td><td>31</td><td>32</td><td> 7</td><td>10</td><td>2</td></tr>\n",
              "</tbody>\n",
              "</table>\n"
            ],
            "text/markdown": "\nA data.frame: 2 × 287\n\n| <!--/--> | A0T0G0C10 &lt;int&gt; | A0T0G1C9 &lt;int&gt; | A0T0G2C8 &lt;int&gt; | A0T0G3C7 &lt;int&gt; | A0T0G4C6 &lt;int&gt; | A0T0G5C5 &lt;int&gt; | A0T0G6C4 &lt;int&gt; | A0T0G7C3 &lt;int&gt; | A0T0G8C2 &lt;int&gt; | A0T0G9C1 &lt;int&gt; | ⋯ ⋯ | A8T0G1C1 &lt;int&gt; | A8T0G2C0 &lt;int&gt; | A8T1G0C1 &lt;int&gt; | A8T1G1C0 &lt;int&gt; | A8T2G0C0 &lt;int&gt; | A9T0G0C1 &lt;int&gt; | A9T0G1C0 &lt;int&gt; | A9T1G0C0 &lt;int&gt; | A10T0G0C0 &lt;int&gt; | y &lt;int&gt; |\n|---|---|---|---|---|---|---|---|---|---|---|---|---|---|---|---|---|---|---|---|---|---|\n| 99999 | 10 | 31 | 66 | 107 | 142 | 155 | 142 | 107 | 66 | 31 | ⋯ | 93 | 66 | 93 | 93 | 66 | 31 | 31 | 31 | 10 | 4 |\n| 100000 | 10 | 32 | 41 |  21 |  45 |  89 |  45 |  60 | 67 | 31 | ⋯ | 97 | 82 | 74 | 80 | 52 | 31 | 32 |  7 | 10 | 2 |\n\n",
            "text/latex": "A data.frame: 2 × 287\n\\begin{tabular}{r|lllllllllllllllllllll}\n  & A0T0G0C10 & A0T0G1C9 & A0T0G2C8 & A0T0G3C7 & A0T0G4C6 & A0T0G5C5 & A0T0G6C4 & A0T0G7C3 & A0T0G8C2 & A0T0G9C1 & ⋯ & A8T0G1C1 & A8T0G2C0 & A8T1G0C1 & A8T1G1C0 & A8T2G0C0 & A9T0G0C1 & A9T0G1C0 & A9T1G0C0 & A10T0G0C0 & y\\\\\n  & <int> & <int> & <int> & <int> & <int> & <int> & <int> & <int> & <int> & <int> & ⋯ & <int> & <int> & <int> & <int> & <int> & <int> & <int> & <int> & <int> & <int>\\\\\n\\hline\n\t99999 & 10 & 31 & 66 & 107 & 142 & 155 & 142 & 107 & 66 & 31 & ⋯ & 93 & 66 & 93 & 93 & 66 & 31 & 31 & 31 & 10 & 4\\\\\n\t100000 & 10 & 32 & 41 &  21 &  45 &  89 &  45 &  60 & 67 & 31 & ⋯ & 97 & 82 & 74 & 80 & 52 & 31 & 32 &  7 & 10 & 2\\\\\n\\end{tabular}\n",
            "text/plain": [
              "       A0T0G0C10 A0T0G1C9 A0T0G2C8 A0T0G3C7 A0T0G4C6 A0T0G5C5 A0T0G6C4 A0T0G7C3\n",
              "99999  10        31       66       107      142      155      142      107     \n",
              "100000 10        32       41        21       45       89       45       60     \n",
              "       A0T0G8C2 A0T0G9C1 ⋯ A8T0G1C1 A8T0G2C0 A8T1G0C1 A8T1G1C0 A8T2G0C0\n",
              "99999  66       31       ⋯ 93       66       93       93       66      \n",
              "100000 67       31       ⋯ 97       82       74       80       52      \n",
              "       A9T0G0C1 A9T0G1C0 A9T1G0C0 A10T0G0C0 y\n",
              "99999  31       31       31       10        4\n",
              "100000 31       32        7       10        2"
            ]
          },
          "metadata": {}
        }
      ]
    },
    {
      "cell_type": "code",
      "source": [
        "t0 = Sys.time()"
      ],
      "metadata": {
        "id": "GqnRQly_oD-g"
      },
      "execution_count": null,
      "outputs": []
    },
    {
      "cell_type": "markdown",
      "source": [
        "<hr color=red>\n",
        "\n",
        "<font size=5>⏳</font> <strong><font color=orange size=5>Your Code, Documentation, Ideas and Timer - All Start Here...</font></strong>\n",
        "\n",
        "**Student's Section** (between ⏳ symbols): add your code and documentation here."
      ],
      "metadata": {
        "id": "3NcTKbw3KhAn"
      }
    },
    {
      "cell_type": "markdown",
      "metadata": {
        "id": "WgoiydEDvor2"
      },
      "source": [
        "## **Task 1. Preprocessing Pipeline**\n",
        " \n",
        "Explain elements of your preprocessing pipeline i.e. feature engineering, subsampling, clustering, dimensionality reduction, etc. \n",
        "1. Why did you choose these elements? (Perhaps something in EDA or prior experience lead you to these)\n",
        "1. How do you evaluate the effectiveness of these elements? \n",
        "1. What else have you tried that worked or didn't? "
      ]
    },
    {
      "cell_type": "markdown",
      "metadata": {
        "id": "vIm8b5kfvor2"
      },
      "source": [
        "**Student's answer:**"
      ]
    },
    {
      "cell_type": "markdown",
      "metadata": {
        "id": "i-_qr2WXvor2"
      },
      "source": [
        "## **Task 2. Modeling Approach**\n",
        "Explain your modeling approach, i.e. ideas you tried and why you thought they would be helpful. \n",
        "\n",
        "1. How did these decisions guide you in modeling?\n",
        "1. How do you evaluate the effectiveness of these elements? \n",
        "1. What else have you tried that worked or didn't? "
      ]
    },
    {
      "cell_type": "markdown",
      "metadata": {
        "id": "BqgujO4Ivor2"
      },
      "source": [
        "**Student's answer:**"
      ]
    },
    {
      "cell_type": "markdown",
      "metadata": {
        "id": "7VbNxML7vor2"
      },
      "source": [
        "Below is a baseline model that produces the result on Kaggle leaderboard (LB)."
      ]
    },
    {
      "cell_type": "code",
      "source": [
        "tXY$y = as.factor(tXY$y)\n",
        "control = rpart.control(minsplit=20)\n",
        "m = rpart(y~., data=tXY[1:20000,], control=control, parms=list(split='gini'), method='class')  # a simple decision tree, i.e. baggin with one estimator"
      ],
      "metadata": {
        "id": "qS-YoCC0pgUv"
      },
      "execution_count": null,
      "outputs": []
    },
    {
      "cell_type": "code",
      "source": [
        "pY = predict(m, vX, type='class')                  # return bacteria indices/classes: 1,2,3,4,5\n",
        "t(head(pY <- setNames(data.frame(pY), YCol), 20))  # make predictions on the test inputs, vX "
      ],
      "metadata": {
        "colab": {
          "base_uri": "https://localhost:8080/",
          "height": 98
        },
        "id": "7zYs4e36nIAw",
        "outputId": "726bbe2c-80d6-47d1-e535-f6efdd445af7"
      },
      "execution_count": null,
      "outputs": [
        {
          "output_type": "display_data",
          "data": {
            "text/html": [
              "<table class=\"dataframe\">\n",
              "<caption>A matrix: 1 × 20 of type chr</caption>\n",
              "<thead>\n",
              "\t<tr><th></th><th scope=col>1</th><th scope=col>2</th><th scope=col>3</th><th scope=col>4</th><th scope=col>5</th><th scope=col>6</th><th scope=col>7</th><th scope=col>8</th><th scope=col>9</th><th scope=col>10</th><th scope=col>11</th><th scope=col>12</th><th scope=col>13</th><th scope=col>14</th><th scope=col>15</th><th scope=col>16</th><th scope=col>17</th><th scope=col>18</th><th scope=col>19</th><th scope=col>20</th></tr>\n",
              "</thead>\n",
              "<tbody>\n",
              "\t<tr><th scope=row>y</th><td>4</td><td>4</td><td>4</td><td>4</td><td>4</td><td>4</td><td>2</td><td>3</td><td>4</td><td>3</td><td>4</td><td>4</td><td>3</td><td>3</td><td>3</td><td>4</td><td>2</td><td>3</td><td>2</td><td>3</td></tr>\n",
              "</tbody>\n",
              "</table>\n"
            ],
            "text/markdown": "\nA matrix: 1 × 20 of type chr\n\n| <!--/--> | 1 | 2 | 3 | 4 | 5 | 6 | 7 | 8 | 9 | 10 | 11 | 12 | 13 | 14 | 15 | 16 | 17 | 18 | 19 | 20 |\n|---|---|---|---|---|---|---|---|---|---|---|---|---|---|---|---|---|---|---|---|---|\n| y | 4 | 4 | 4 | 4 | 4 | 4 | 2 | 3 | 4 | 3 | 4 | 4 | 3 | 3 | 3 | 4 | 2 | 3 | 2 | 3 |\n\n",
            "text/latex": "A matrix: 1 × 20 of type chr\n\\begin{tabular}{r|llllllllllllllllllll}\n  & 1 & 2 & 3 & 4 & 5 & 6 & 7 & 8 & 9 & 10 & 11 & 12 & 13 & 14 & 15 & 16 & 17 & 18 & 19 & 20\\\\\n\\hline\n\ty & 4 & 4 & 4 & 4 & 4 & 4 & 2 & 3 & 4 & 3 & 4 & 4 & 3 & 3 & 3 & 4 & 2 & 3 & 2 & 3\\\\\n\\end{tabular}\n",
            "text/plain": [
              "  1 2 3 4 5 6 7 8 9 10 11 12 13 14 15 16 17 18 19 20\n",
              "y 4 4 4 4 4 4 2 3 4 3  4  4  3  3  3  4  2  3  2  3 "
            ]
          },
          "metadata": {}
        }
      ]
    },
    {
      "cell_type": "code",
      "source": [
        "write.csv(cbind(id=1:nrow(pY), pY), file='MySubmission.csv', row.names=F)  # write to CSV file"
      ],
      "metadata": {
        "id": "KAVbSPYglkh9"
      },
      "execution_count": null,
      "outputs": []
    },
    {
      "cell_type": "code",
      "source": [
        "round(table(tY$y)/nrow(tY), 3)\n",
        "round(table(pY$y)/nrow(pY), 3)"
      ],
      "metadata": {
        "colab": {
          "base_uri": "https://localhost:8080/",
          "height": 125
        },
        "id": "mPBsL6-u9Mzj",
        "outputId": "912f2e12-c9aa-4516-eeea-1948458ff319"
      },
      "execution_count": null,
      "outputs": [
        {
          "output_type": "display_data",
          "data": {
            "text/plain": [
              "\n",
              "    0     1     2     3     4 \n",
              "0.048 0.050 0.302 0.296 0.303 "
            ]
          },
          "metadata": {}
        },
        {
          "output_type": "display_data",
          "data": {
            "text/plain": [
              "\n",
              "    0     1     2     3     4 \n",
              "0.020 0.008 0.333 0.293 0.346 "
            ]
          },
          "metadata": {}
        }
      ]
    },
    {
      "cell_type": "markdown",
      "source": [
        "# **References:**"
      ],
      "metadata": {
        "id": "pzBsjCvS_kEw"
      }
    },
    {
      "cell_type": "markdown",
      "source": [
        "1. Remember to cite your sources!\n"
      ],
      "metadata": {
        "id": "2kr8Q-9T_nAb"
      }
    },
    {
      "cell_type": "markdown",
      "metadata": {
        "id": "pB0a5X5NunFU"
      },
      "source": [
        "<font size=5>⌛</font> <strong><font color=orange size=5>Do not exceed competition's runtime limit!</font></strong>\n",
        "\n",
        "<hr color=red>\n"
      ]
    },
    {
      "cell_type": "code",
      "source": [
        "RunTime = round(difftime(Sys.time(), t0, units = \"secs\")[[1]])\n",
        "msg = paste0('Runtime is ',RunTime,' sec. Time limit is ', timeLimit, ' sec')\n",
        "cat((ifelse(timeLimit<RunTime, (paste0('Limit exceeded!!! ', msg)), (msg))))"
      ],
      "metadata": {
        "colab": {
          "base_uri": "https://localhost:8080/"
        },
        "id": "rD4dgLPzoJAm",
        "outputId": "044e2f3b-5a92-4a97-bafa-8096db056202"
      },
      "execution_count": null,
      "outputs": [
        {
          "output_type": "stream",
          "name": "stdout",
          "text": [
            "Runtime is 16 sec. Time limit is 60 sec"
          ]
        }
      ]
    },
    {
      "cell_type": "markdown",
      "metadata": {
        "id": "oUStTaN4uo_Z"
      },
      "source": [
        "## 💡**Starter Ideas**"
      ]
    },
    {
      "cell_type": "markdown",
      "source": [
        "**Model**\n",
        "1. Tune model hyperparameters, batch size, optimizer, NN layers\n",
        "\n",
        "**Features**\n",
        "1. Try to linear and non-linear feature normalization: shift/scale, log, divide features by features (investigate scatterplot matrix)\n",
        "1. Try higher order feature interactions and polynomial features on a small subsample. Then identify key features or select key principal components. The final model can be trained on a larger or even full training sample. You can use [PCA](https://scikit-learn.org/stable/modules/generated/sklearn.decomposition.PCA.html) to reduce the feature set\n",
        "\n",
        "**Training observations**\n",
        "1. Try clustering similar observations into fewer representative observations. \n",
        "1. You may also try dimension reduction methods (eg. PCA) on the transposed data matrix (if it has scaled numeric features).\n",
        "1. Look for and deal with outliers or influential points in the training set\n",
        "1. Deal with **imbalanced sample**: oversample smaller class, or undersample larger class, or provide observation weights or provide class weights, or seek a suitable loss function\n",
        "1. Investigate distributions of features. Any missing values? Any zero values?\n",
        "\n",
        "**Predictions**\n",
        "1. Evaluate predictions and focus on poorly predicted \"groups\":\n",
        "  1. Strongest misclassifications. E.g. the model is very confident about the wrong label\n",
        "  1. Evaluate predictions near decision boundaries.\n",
        "\n",
        "**EDA and Domain Expertise**\n",
        "1. Do a thorough EDA: look for feature augmentations that result in linear decision boundaries between pairs of classes.\n",
        "1. Learn about the domain. Read [Analysis of Identification Method for Bacterial Species and Antibiotic Resistance Genes Using Optical Data From DNA Oligomers](https://www.frontiersin.org/articles/10.3389/fmicb.2020.00257/full) and cited/citing references."
      ],
      "metadata": {
        "id": "YsqoYee9xtoG"
      }
    },
    {
      "cell_type": "code",
      "source": [],
      "metadata": {
        "id": "a0ruW1CK_OGj"
      },
      "execution_count": null,
      "outputs": []
    }
  ]
}